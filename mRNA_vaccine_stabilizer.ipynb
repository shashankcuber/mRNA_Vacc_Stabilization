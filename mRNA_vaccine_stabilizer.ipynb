{
  "cells": [
    {
      "cell_type": "markdown",
      "metadata": {
        "id": "view-in-github",
        "colab_type": "text"
      },
      "source": [
        "<a href=\"https://colab.research.google.com/github/shashankcuber/mRNA_Vacc_Stabilization/blob/main/mRNA_vaccine_stabilizer.ipynb\" target=\"_parent\"><img src=\"https://colab.research.google.com/assets/colab-badge.svg\" alt=\"Open In Colab\"/></a>"
      ]
    },
    {
      "cell_type": "markdown",
      "metadata": {
        "id": "A4l2Jcifhkji"
      },
      "source": [
        "# Mount dataset and rna tools from Drive"
      ]
    },
    {
      "cell_type": "code",
      "execution_count": 1,
      "metadata": {
        "colab": {
          "base_uri": "https://localhost:8080/"
        },
        "id": "9IJGdIubbSC1",
        "outputId": "cfb0b4cf-6a1f-44c0-ec20-81a433377967"
      },
      "outputs": [
        {
          "output_type": "stream",
          "name": "stdout",
          "text": [
            "Mounted at /content/drive\n"
          ]
        }
      ],
      "source": [
        "from google.colab import drive\n",
        "#make sure you give the necessary authorization for colab to access your Google Drive\n",
        "drive.mount('/content/drive')"
      ]
    },
    {
      "cell_type": "markdown",
      "metadata": {
        "id": "jJDiwIZlieXT"
      },
      "source": [
        "# Installing RNA tools"
      ]
    },
    {
      "cell_type": "markdown",
      "metadata": {
        "id": "Y1rs6iI6hJXV"
      },
      "source": [
        "Fix these changes if you download the contrafold source code directly from http://contra.stanford.edu/contrafold/download.html\n",
        "\n",
        "\n",
        "1.   LBFGS.ipp :  At line 110 write this->DoLineSearch\n",
        "2.   Utilities.cpp:  Add #include\"climits\" for ULONG used in this file\n",
        "\n"
      ]
    },
    {
      "cell_type": "code",
      "execution_count": null,
      "metadata": {
        "id": "qBB7_yE_-E8-"
      },
      "outputs": [],
      "source": [
        "!cd drive/MyDrive/Bio_informatics_Project/; sh install.sh -Uq"
      ]
    },
    {
      "cell_type": "markdown",
      "metadata": {
        "id": "ZC0qjS2DK0_k"
      },
      "source": [
        "# Setting up the arnie conf file and environment variable"
      ]
    },
    {
      "cell_type": "code",
      "execution_count": null,
      "metadata": {
        "id": "x5rTOSDEGyNt"
      },
      "outputs": [],
      "source": [
        "import os\n",
        "os.environ[\"DATAPATH\"] = \"/content/RNAstructure/data_tables\"\n",
        "os.environ[\"ARNIEFILE\"] = \"/content/arnie.conf\"\n",
        "!cd drive/MyDrive/Bio_informatics_Project/; sh make_arnie_conf.sh"
      ]
    },
    {
      "cell_type": "markdown",
      "metadata": {
        "id": "bJ79p1aBo6pp"
      },
      "source": [
        "# Importing Libraries For Test Data"
      ]
    },
    {
      "cell_type": "code",
      "execution_count": 4,
      "metadata": {
        "id": "qkCjVG1CyEgP"
      },
      "outputs": [],
      "source": [
        "import numpy as np\n",
        "import pandas as pd\n",
        "from tqdm import tqdm as tqdm\n",
        "from arnie.bpps import bpps\n",
        "import arnie.utils as utils\n",
        "from arnie.mea.mea import MEA"
      ]
    },
    {
      "cell_type": "markdown",
      "metadata": {
        "id": "8gSQNGKdobvD"
      },
      "source": [
        "# Test data replication using rna tools"
      ]
    },
    {
      "cell_type": "code",
      "execution_count": 5,
      "metadata": {
        "id": "ur-IO1NPpw34"
      },
      "outputs": [],
      "source": [
        "class PrepareTestDataset:\n",
        "  def __init__(self, rna_tool, path):\n",
        "    self.package = rna_tool\n",
        "    self.path = path\n",
        "    self.df = pd.read_csv(path)\n",
        "\n",
        "\n",
        "  def _predict_structure(self, id, rna_sequence):\n",
        "    base_pairing_mat = bpps(rna_sequence, package = self.package)\n",
        "    secondary_struct = MEA(base_pairing_mat)\n",
        "    return id, rna_sequence, secondary_struct.structure, self.package\n",
        "  \n",
        "  def make_dataset(self):\n",
        "    temp_df = self.df[['id','sequence']]\n",
        "    \n",
        "    dataset = []\n",
        "\n",
        "    for j,(id,seq) in enumerate(tqdm(temp_df[['id', 'sequence']].values)):\n",
        "      data = self._predict_structure(id, seq)\n",
        "      dataset.append(data)\n",
        "\n",
        "    df = pd.DataFrame(dataset, columns = ['id', 'sequence', 'structure','package'])\n",
        "    df['seq_length'] = df['id'].map(self.df.drop_duplicates().set_index('id')['seq_length'])\n",
        "    df['seq_scored'] = df['id'].map(self.df.drop_duplicates().set_index('id')['seq_scored'])\n",
        "    return df"
      ]
    },
    {
      "cell_type": "code",
      "execution_count": 6,
      "metadata": {
        "id": "qDlZfIh-yWcD"
      },
      "outputs": [],
      "source": [
        "\"\"\"\n",
        "UNCOMMENT THE COMMENTED CODE AND COMMENT THE UNCOMMENTED CODE FOR PRODUCING EACH DATASET\n",
        "\"\"\"\n",
        "\n",
        "# open_vaccine_test_data_path = '/content/drive/MyDrive/Bio_informatics_Project/open_vac_data/test_data.csv'\n",
        "\n",
        "\"\"\"\n",
        "VIENNA PACKAGE ON TEST DATA\n",
        "\"\"\"\n",
        "\n",
        "#vienna_2\n",
        "# vienna = PrepareTestDataset('vienna_2', open_vaccine_test_data_path)\n",
        "# vienna_df = vienna.make_dataset()\n",
        "# vienna_df.head()\n",
        "# vienna_df.to_csv(\"/content/drive/MyDrive/Bio_informatics_Project/open_vac_data/vienna_df.csv\")\n",
        "\n",
        "vienna_df = pd.read_csv(\"/content/drive/MyDrive/Bio_informatics_Project/open_vac_data/vienna_df.csv\")\n",
        "vienna_df = vienna_df[['id', 'sequence', 'structure', 'package', 'seq_length',\n",
        "       'seq_scored']]\n",
        "\n",
        "\"\"\"\n",
        "CONTRAFOLD PACKAGE ON TEST DATA\n",
        "\"\"\"\n",
        "#contrafold_2\n",
        "# contrafold = PrepareTestDataset('contrafold_2', open_vaccine_test_data_path)\n",
        "# contrafold_df = contrafold.make_dataset()\n",
        "# contrafold_df.head()\n",
        "# contrafold_df.to_csv(\"/content/drive/MyDrive/Bio_informatics_Project/open_vac_data/contrafold_df.csv\")\n",
        "\n",
        "contrafold_df = pd.read_csv(\"/content/drive/MyDrive/Bio_informatics_Project/open_vac_data/contrafold_df.csv\")\n",
        "contrafold_df = contrafold_df[['id', 'sequence', 'structure', 'package', 'seq_length',\n",
        "       'seq_scored']]\n",
        "\n",
        "\"\"\"\n",
        "RNASTRUCTURE PACKAGE ON TEST DATA\n",
        "\"\"\"\n",
        "#rnastructure\n",
        "# rnastructure = PrepareTestDataset('rnastructure', open_vaccine_test_data_path)\n",
        "# rnastructure_df = rnastructure.make_dataset()\n",
        "# rnastructure_df.head()\n",
        "# rnastructure_df.to_csv(\"/content/drive/MyDrive/Bio_informatics_Project/open_vac_data/rnastructure_df.csv\")\n",
        "\n",
        "rnastructure_df = pd.read_csv(\"/content/drive/MyDrive/Bio_informatics_Project/open_vac_data/rnastructure_df.csv\")\n",
        "rnastructure_df = rnastructure_df[['id', 'sequence', 'structure', 'package', 'seq_length',\n",
        "       'seq_scored']]"
      ]
    },
    {
      "cell_type": "markdown",
      "metadata": {
        "id": "9sEgYGMr0lP-"
      },
      "source": [
        "# Importing Libraries and setting up wandb for logging losses and model params\n",
        "Note: Use your own WB_API_KEY"
      ]
    },
    {
      "cell_type": "code",
      "execution_count": 7,
      "metadata": {
        "id": "WDbpDXo24TwL",
        "colab": {
          "base_uri": "https://localhost:8080/"
        },
        "outputId": "886831c9-9d36-4485-8fdc-6b18fdb6bc29"
      },
      "outputs": [
        {
          "output_type": "stream",
          "name": "stdout",
          "text": [
            "cuda:0\n"
          ]
        }
      ],
      "source": [
        "\"\"\"\n",
        "Importing the necessary libraries\n",
        "\"\"\"\n",
        "import seaborn as sns\n",
        "import matplotlib.pyplot as plt\n",
        "import torch\n",
        "import torch.nn as nn\n",
        "import torch.optim as optim\n",
        "from tqdm.auto import tqdm\n",
        "from torch.utils.data import DataLoader, TensorDataset\n",
        "from torch.nn.modules.loss import MSELoss\n",
        "from sklearn.model_selection import train_test_split, KFold\n",
        "torch.backends.cudnn.deterministic = True\n",
        "\n",
        "import random\n",
        "\n",
        "# To ensure the random function generates the same random values on different runs\n",
        "random.seed(hash(\"setting random seeds\") % 2023)\n",
        "np.random.seed(hash(\"improves reproducibility\") % 2023)\n",
        "torch.manual_seed(hash(\"by removing stochasticity\") % 2023)\n",
        "torch.cuda.manual_seed_all(hash(\"so runs are repeatable\") % 2023)\n",
        "\n",
        "device = torch.device(\"cuda:0\" if torch.cuda.is_available() else \"cpu\")\n",
        "print(device)\n",
        "token_int_dict = {\n",
        "        '(' : 0,\n",
        "        ')' : 1,\n",
        "        '.' : 2,\n",
        "        'A' : 3,\n",
        "        'G' : 4,\n",
        "        'C' : 5,\n",
        "        'U' : 6,\n",
        "    }\n",
        "WB_API_KEY = \"cddbb81e657d85514600791c422ff35c68117a53\""
      ]
    },
    {
      "cell_type": "code",
      "execution_count": null,
      "metadata": {
        "id": "hx8zzJeH7in7"
      },
      "outputs": [],
      "source": [
        "\"\"\"\n",
        "Insatalling Weights and Biases wandb to track the Model evaluation\n",
        "and login to wandb\n",
        "\"\"\"\n",
        "!pip install wandb -Uq\n",
        "import wandb\n",
        "wandb.login(key = WB_API_KEY) "
      ]
    },
    {
      "cell_type": "markdown",
      "metadata": {
        "id": "MO9fT91j_q-N"
      },
      "source": [
        "# Processing and preparing training dataset"
      ]
    },
    {
      "cell_type": "code",
      "execution_count": 10,
      "metadata": {
        "id": "Xh3E2nMX0rlo"
      },
      "outputs": [],
      "source": [
        "\"\"\"\n",
        "LOADING THE TRAIN DATA\n",
        "\"\"\"\n",
        "open_vaccine_train_data_path = '/content/drive/MyDrive/Bio_informatics_Project/open_vac_data/train.json'\n",
        "train_df = pd.read_json(open_vaccine_train_data_path, lines=True)\n",
        "train_df = train_df.drop(columns=['index'])"
      ]
    },
    {
      "cell_type": "code",
      "execution_count": 11,
      "metadata": {
        "id": "bydeLsUs3sXG",
        "colab": {
          "base_uri": "https://localhost:8080/"
        },
        "outputId": "9018a351-5ab2-4981-eea9-3beffc30e3d2"
      },
      "outputs": [
        {
          "output_type": "stream",
          "name": "stdout",
          "text": [
            "No Missing Values\n",
            "torch.Size([1589, 107, 2])\n",
            "torch.Size([1589, 68, 5])\n"
          ]
        }
      ],
      "source": [
        "\"\"\"\n",
        "Making x_train and y_train tensors\n",
        "\"\"\"\n",
        "class DataPreprocessing:\n",
        "  def __init__(self, data, device, token_int_dict, feature_columns = [\"sequence\", \"structure\"], \n",
        "               train_data = True, labels = None):\n",
        "    self.df = data\n",
        "    self.feature_columns = feature_columns\n",
        "    self.labels = labels\n",
        "    self.token_int_dict = token_int_dict\n",
        "    self.device = device\n",
        "    self.is_train = train_data\n",
        "\n",
        "  def num_missing_val(self):\n",
        "    return self.df.isnull().values.sum()\n",
        "\n",
        "  def sn_filtering(self):\n",
        "    self.df = self.df[self.df.SN_filter == 1]\n",
        "\n",
        "  def tokenize_sequence(self,sequence):\n",
        "    tokenized_sequence = []\n",
        "    for char in sequence:\n",
        "      tokenized_sequence.append(self.token_int_dict[char])\n",
        "    return tokenized_sequence\n",
        "\n",
        "  def convert_df_to_array(self, df):\n",
        "    return np.transpose(np.array(df.values.tolist()), (0,2,1))\n",
        "\n",
        "  def process_data(self):\n",
        "    #check if any missing values\n",
        "    if self.num_missing_val() > 0 and self.is_train:\n",
        "      self.sn_filtering()\n",
        "      print(f\"Number of missing values in the dataset are:{self.num_missing_val()}\")\n",
        "    elif self.is_train:\n",
        "      self.sn_filtering()\n",
        "      print(\"No Missing Values\")\n",
        "    \n",
        "    feature_df = self.df[self.feature_columns].applymap(lambda sequence: self.tokenize_sequence(sequence))\n",
        "    feature_tensor =  torch.tensor(self.convert_df_to_array(feature_df)).to(self.device)\n",
        "\n",
        "    if self.is_train:\n",
        "      label_tensor = torch.tensor(self.convert_df_to_array(self.df[self.labels])).float().to(self.device)\n",
        "      return feature_tensor, label_tensor\n",
        "  \n",
        "    return feature_tensor\n",
        "\n",
        "labels = ['reactivity', 'deg_Mg_pH10', 'deg_pH10', 'deg_Mg_50C', 'deg_50C']\n",
        "train_process = DataPreprocessing(train_df, device, token_int_dict,  labels = labels)\n",
        "x_train, y_train = train_process.process_data()\n",
        "\n",
        "print(x_train.shape)\n",
        "print(y_train.shape)"
      ]
    },
    {
      "cell_type": "markdown",
      "source": [
        "# Preprocessing and preparing Test Dataset of Vienna_2, Contrafold and Rnastructure"
      ],
      "metadata": {
        "id": "biEvshqRucNi"
      }
    },
    {
      "cell_type": "code",
      "execution_count": 12,
      "metadata": {
        "id": "cSDXTZTwEr-X"
      },
      "outputs": [],
      "source": [
        "\"\"\"\n",
        "Packages public and private loader\n",
        "\"\"\"\n",
        "def data_loader_test_package(df):\n",
        "  df_pub = df.query(\"seq_length == 107\").copy()\n",
        "  df_priv = df.query(\"seq_length == 130\").copy()\n",
        "\n",
        "  process_pub = DataPreprocessing(df_pub, device, token_int_dict, train_data = False)\n",
        "  process_priv = DataPreprocessing(df_priv, device, token_int_dict, train_data = False)\n",
        "\n",
        "  tensor_pub = process_pub.process_data()\n",
        "  tensor_priv = process_priv.process_data()\n",
        "\n",
        "  # print(tensor_pub.shape)\n",
        "  # print(tensor_priv.shape)\n",
        "  loader_pub = DataLoader(TensorDataset(tensor_pub), shuffle=False, batch_size=64)\n",
        "  loader_priv = DataLoader(TensorDataset(tensor_priv), shuffle=False, batch_size=64)\n",
        "  return df_pub, df_priv, loader_pub, loader_priv\n",
        "\n",
        "\n",
        "vienna_public_df, vienna_private_df, vienna_public_loader, vienna_private_loader = data_loader_test_package(vienna_df)\n",
        "contrafold_public_df, contrafold_private_df, contrafold_public_loader, contrafold_private_loader = data_loader_test_package(contrafold_df)\n",
        "rnastructure_public_df, rnastructure_private_df, rnastructure_public_loader, rnastructure_private_loader = data_loader_test_package(rnastructure_df)"
      ]
    },
    {
      "cell_type": "markdown",
      "metadata": {
        "id": "PlQXxS54tjv2"
      },
      "source": [
        "# MCRMSE LOSS\n",
        "![Screenshot 2023-03-25 at 8.20.40 PM.png](data:image/png;base64,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)"
      ]
    },
    {
      "cell_type": "code",
      "execution_count": 13,
      "metadata": {
        "id": "4-7D8QsJ3v6R"
      },
      "outputs": [],
      "source": [
        "class MeanColumnwiseRMSE(nn.Module):\n",
        "  def __init__(self, N_t):\n",
        "    super().__init__()\n",
        "    self.loss = nn.MSELoss()\n",
        "    self.nt = N_t\n",
        "  \n",
        "  def forward(self, predicted , actual):\n",
        "    total_loss = 0\n",
        "\n",
        "    for j in range(self.nt):\n",
        "        total_loss += torch.sqrt(self.loss(predicted[:, :, j], actual[:, :, j]))\n",
        "\n",
        "    total_loss /= self.nt\n",
        "    return total_loss"
      ]
    },
    {
      "cell_type": "markdown",
      "metadata": {
        "id": "5e_leGE-xuQU"
      },
      "source": [
        "# bi-GRU Model"
      ]
    },
    {
      "cell_type": "code",
      "execution_count": 14,
      "metadata": {
        "id": "FK8MtQ6OxwZq"
      },
      "outputs": [],
      "source": [
        "class bi_GRU(nn.Module):\n",
        "  def __init__(self, config, public_data = False, private_data = False):\n",
        "    super(bi_GRU, self).__init__()\n",
        "    if(public_data):\n",
        "      self.prediction_len = 68\n",
        "      self.squence_len = 107\n",
        "    elif private_data:\n",
        "      self.prediction_len = 91\n",
        "      self.squence_len = 130\n",
        "\n",
        "    self.token_int_len = len(token_int_dict)\n",
        "    self.embedding_layer = nn.Embedding(num_embeddings = self.token_int_len, embedding_dim = config.embedding_dim)\n",
        "    self.bi_gru = nn.GRU(\n",
        "        input_size = config.gru_input_size,\n",
        "        hidden_size = config.gru_hidden_size,\n",
        "        num_layers = config.gru_num_layers,\n",
        "        batch_first = True,\n",
        "        dropout = config.gru_dropout_rate,\n",
        "        bidirectional = True)\n",
        "    self.l1 = nn.Linear(config.gru_hidden_size * 2, len(labels))\n",
        "  \n",
        "  def reshape_embedding(self, embedding):\n",
        "      x , y , z = embedding.shape[1] , embedding.shape[2], embedding.shape[3]\n",
        "      return torch.reshape(embedding, (-1, x, y * z))\n",
        "      \n",
        "  def forward(self, sequence):\n",
        "    embedding = self.embedding_layer(sequence)\n",
        "    embed_reshape = self.reshape_embedding(embedding)\n",
        "    output,h_n = self.bi_gru(embed_reshape)\n",
        "    slice_output = output[:, : self.prediction_len, :]\n",
        "    final_output = self.l1(slice_output)\n",
        "    return final_output"
      ]
    },
    {
      "cell_type": "markdown",
      "metadata": {
        "id": "1NP5YlVK7yUe"
      },
      "source": [
        "# Train Step"
      ]
    },
    {
      "cell_type": "code",
      "execution_count": 18,
      "metadata": {
        "id": "DKROok-Nrac0"
      },
      "outputs": [],
      "source": [
        "class Train:\n",
        "  def __init__(self, x_train, y_train, model, loss_criterion, optimizer, training=True):\n",
        "    self.x_train = x_train\n",
        "    self.labels = y_train\n",
        "    self.model = model\n",
        "    self.loss_criterion = loss_criterion\n",
        "    self.optimizer = optimizer\n",
        "    self.training = training\n",
        "\n",
        "  def train_step(self):\n",
        "    wandb.watch(self.model, self.loss_criterion, log=\"all\")\n",
        "    # forward propogation\n",
        "    self.model.train(self.training)\n",
        "    output = self.model(self.x_train)\n",
        "    loss = self.loss_criterion.forward(output, self.labels)\n",
        "    #backward propogation\n",
        "    if self.training:\n",
        "      self.optimizer.zero_grad()\n",
        "      loss.backward()\n",
        "      self.optimizer.step()\n",
        "\n",
        "    return loss.item()"
      ]
    },
    {
      "cell_type": "markdown",
      "source": [
        "# Defing the training configuration and wandb initialisation"
      ],
      "metadata": {
        "id": "b8ha_A5vAlUs"
      }
    },
    {
      "cell_type": "code",
      "source": [
        "train_config = dict(\n",
        "    k_fold=3,\n",
        "    epochs=80,\n",
        "    batch_size=64,\n",
        "    learning_rate=0.01,\n",
        "    embedding_dim=200,\n",
        "    gru_input_size=200 * 2,\n",
        "    gru_hidden_size=128,\n",
        "    gru_num_layers=3,\n",
        "    gru_dropout_rate=0.5)\n",
        "\n",
        "run = wandb.init(project=\"mRNA-Stabilization-test-2\", config = train_config)\n",
        "train_config = wandb.config"
      ],
      "metadata": {
        "colab": {
          "base_uri": "https://localhost:8080/",
          "height": 122
        },
        "id": "EWytO-GyAgoh",
        "outputId": "8a5c439c-5579-48a7-fc4f-4b99fea7b7df"
      },
      "execution_count": 15,
      "outputs": [
        {
          "output_type": "stream",
          "name": "stderr",
          "text": [
            "\u001b[34m\u001b[1mwandb\u001b[0m: Currently logged in as: \u001b[33mspathak31121997\u001b[0m. Use \u001b[1m`wandb login --relogin`\u001b[0m to force relogin\n"
          ]
        },
        {
          "output_type": "display_data",
          "data": {
            "text/plain": [
              "<IPython.core.display.HTML object>"
            ],
            "text/html": [
              "Tracking run with wandb version 0.14.0"
            ]
          },
          "metadata": {}
        },
        {
          "output_type": "display_data",
          "data": {
            "text/plain": [
              "<IPython.core.display.HTML object>"
            ],
            "text/html": [
              "Run data is saved locally in <code>/content/wandb/run-20230331_030919-dhcp23ji</code>"
            ]
          },
          "metadata": {}
        },
        {
          "output_type": "display_data",
          "data": {
            "text/plain": [
              "<IPython.core.display.HTML object>"
            ],
            "text/html": [
              "Syncing run <strong><a href='https://wandb.ai/spathak31121997/mRNA-Stabilization-test-3/runs/dhcp23ji' target=\"_blank\">royal-fog-1</a></strong> to <a href='https://wandb.ai/spathak31121997/mRNA-Stabilization-test-3' target=\"_blank\">Weights & Biases</a> (<a href='https://wandb.me/run' target=\"_blank\">docs</a>)<br/>"
            ]
          },
          "metadata": {}
        },
        {
          "output_type": "display_data",
          "data": {
            "text/plain": [
              "<IPython.core.display.HTML object>"
            ],
            "text/html": [
              " View project at <a href='https://wandb.ai/spathak31121997/mRNA-Stabilization-test-3' target=\"_blank\">https://wandb.ai/spathak31121997/mRNA-Stabilization-test-3</a>"
            ]
          },
          "metadata": {}
        },
        {
          "output_type": "display_data",
          "data": {
            "text/plain": [
              "<IPython.core.display.HTML object>"
            ],
            "text/html": [
              " View run at <a href='https://wandb.ai/spathak31121997/mRNA-Stabilization-test-3/runs/dhcp23ji' target=\"_blank\">https://wandb.ai/spathak31121997/mRNA-Stabilization-test-3/runs/dhcp23ji</a>"
            ]
          },
          "metadata": {}
        }
      ]
    },
    {
      "cell_type": "markdown",
      "metadata": {
        "id": "9SehVOOQ8xrM"
      },
      "source": [
        "#Training bi-GRU Model"
      ]
    },
    {
      "cell_type": "code",
      "execution_count": 26,
      "metadata": {
        "colab": {
          "base_uri": "https://localhost:8080/",
          "height": 1000,
          "referenced_widgets": [
            "09018e44b1af425681a01ee699eb60b7",
            "e6f4053497de498d9f84c76cacf49054",
            "9c616941018544e1adb371e72c9da3cb",
            "708b8aa0ca164feda79d4abbc2bfc73d",
            "4f4f15659e2c419a9457a5e34153ae13",
            "4a2f91014631451dbeecbf3b259afc8c",
            "4f188244d8474cb49dac3db44b9ead5c",
            "55e1af8f7e5042468750b1e8a325acb3",
            "b88a51360e2243c48973b19298619276",
            "f6ef91df05a245419e4dcd536ff5a8f0",
            "87cb9ca47667432791df6847122c09ea",
            "e21b1c03198b4fd79a9ea9b9bb7d89a6",
            "58d4e6db8e9f49a5851063442f8817e0",
            "6d30124949b5452b8cd7f9dd29c91164",
            "3c58557cd4b2460781b5857de9abf7a3",
            "d5742ba0251b46c5a97e35d085ceb494",
            "6fac462a5c0445bf95c40d4b487198d4",
            "6a8913fb0fb24a2690eebc8027ace085",
            "3fab11df32c146c88c7aac56a693277b",
            "9c5a8621072d4a59aa31a677742ea051",
            "8fe1ad00275a48ec80e326a20ffb33ef",
            "9410e9e00af840c5bc62d16d3e2f0956",
            "ad008bb4df3a4abd99de4ea120fbeec2",
            "1fcc91204f734eaaafb2ad20267438d7",
            "92c2cd8871af45d2baf5bcad773cad7d",
            "164f48c486ce48a0b1f8453dd876e85b",
            "7e831d7e213f479bb4b5f4ee05c4a4fa",
            "f40605cf3aed474ca74f51cbfb370086",
            "75b744348b9e4a11b51622ecb9da9d10",
            "5bd533152d9c480b93ef92104cf81080",
            "6648fd5c1f824683a177345ecf1d2e14",
            "aaf9554998f9477294bcae274178f77e",
            "7f4b793fae7144de905a260bafaa9584"
          ]
        },
        "id": "n-1Lde5A80au",
        "outputId": "f9a91e72-6792-41ef-8d02-1a632d1e89bb"
      },
      "outputs": [
        {
          "output_type": "display_data",
          "data": {
            "text/plain": [
              "<IPython.core.display.HTML object>"
            ],
            "text/html": [
              "Finishing last run (ID:lpt8z56q) before initializing another..."
            ]
          },
          "metadata": {}
        },
        {
          "output_type": "display_data",
          "data": {
            "text/plain": [
              "<IPython.core.display.HTML object>"
            ],
            "text/html": [
              "Waiting for W&B process to finish... <strong style=\"color:green\">(success).</strong>"
            ]
          },
          "metadata": {}
        },
        {
          "output_type": "display_data",
          "data": {
            "text/plain": [
              "<IPython.core.display.HTML object>"
            ],
            "text/html": [
              " View run <strong style=\"color:#cdcd00\">rare-puddle-1</strong> at: <a href='https://wandb.ai/spathak31121997/mRNA-Stabilization-test-2/runs/lpt8z56q' target=\"_blank\">https://wandb.ai/spathak31121997/mRNA-Stabilization-test-2/runs/lpt8z56q</a><br/>Synced 4 W&B file(s), 0 media file(s), 0 artifact file(s) and 0 other file(s)"
            ]
          },
          "metadata": {}
        },
        {
          "output_type": "display_data",
          "data": {
            "text/plain": [
              "<IPython.core.display.HTML object>"
            ],
            "text/html": [
              "Find logs at: <code>./wandb/run-20230330_032816-lpt8z56q/logs</code>"
            ]
          },
          "metadata": {}
        },
        {
          "output_type": "display_data",
          "data": {
            "text/plain": [
              "<IPython.core.display.HTML object>"
            ],
            "text/html": [
              "Successfully finished last run (ID:lpt8z56q). Initializing new run:<br/>"
            ]
          },
          "metadata": {}
        },
        {
          "output_type": "display_data",
          "data": {
            "text/plain": [
              "<IPython.core.display.HTML object>"
            ],
            "text/html": [
              "Tracking run with wandb version 0.14.0"
            ]
          },
          "metadata": {}
        },
        {
          "output_type": "display_data",
          "data": {
            "text/plain": [
              "<IPython.core.display.HTML object>"
            ],
            "text/html": [
              "Run data is saved locally in <code>/content/wandb/run-20230330_032839-ysi0clnr</code>"
            ]
          },
          "metadata": {}
        },
        {
          "output_type": "display_data",
          "data": {
            "text/plain": [
              "<IPython.core.display.HTML object>"
            ],
            "text/html": [
              "Syncing run <strong><a href='https://wandb.ai/spathak31121997/mRNA-Stabilization-test-2/runs/ysi0clnr' target=\"_blank\">solar-microwave-2</a></strong> to <a href='https://wandb.ai/spathak31121997/mRNA-Stabilization-test-2' target=\"_blank\">Weights & Biases</a> (<a href='https://wandb.me/run' target=\"_blank\">docs</a>)<br/>"
            ]
          },
          "metadata": {}
        },
        {
          "output_type": "display_data",
          "data": {
            "text/plain": [
              "<IPython.core.display.HTML object>"
            ],
            "text/html": [
              " View project at <a href='https://wandb.ai/spathak31121997/mRNA-Stabilization-test-2' target=\"_blank\">https://wandb.ai/spathak31121997/mRNA-Stabilization-test-2</a>"
            ]
          },
          "metadata": {}
        },
        {
          "output_type": "display_data",
          "data": {
            "text/plain": [
              "<IPython.core.display.HTML object>"
            ],
            "text/html": [
              " View run at <a href='https://wandb.ai/spathak31121997/mRNA-Stabilization-test-2/runs/ysi0clnr' target=\"_blank\">https://wandb.ai/spathak31121997/mRNA-Stabilization-test-2/runs/ysi0clnr</a>"
            ]
          },
          "metadata": {}
        },
        {
          "output_type": "display_data",
          "data": {
            "text/plain": [
              "  0%|          | 0/80 [00:00<?, ?it/s]"
            ],
            "application/vnd.jupyter.widget-view+json": {
              "version_major": 2,
              "version_minor": 0,
              "model_id": "09018e44b1af425681a01ee699eb60b7"
            }
          },
          "metadata": {}
        },
        {
          "output_type": "stream",
          "name": "stdout",
          "text": [
            " At EPOCH = 0 , TRAINING LOSS = 0.7473378058742074 , VALIDATION LOSS = 0.7473378058742074\n",
            " At EPOCH = 1 , TRAINING LOSS = 0.4198051936486188 , VALIDATION LOSS = 0.4198051936486188\n",
            " At EPOCH = 2 , TRAINING LOSS = 0.40015025699839873 , VALIDATION LOSS = 0.40015025699839873\n",
            " At EPOCH = 3 , TRAINING LOSS = 0.39034221628132987 , VALIDATION LOSS = 0.39034221628132987\n",
            " At EPOCH = 4 , TRAINING LOSS = 0.38371652364730835 , VALIDATION LOSS = 0.38371652364730835\n",
            " At EPOCH = 5 , TRAINING LOSS = 0.37989265953793244 , VALIDATION LOSS = 0.37989265953793244\n",
            " At EPOCH = 6 , TRAINING LOSS = 0.374057543628356 , VALIDATION LOSS = 0.374057543628356\n",
            " At EPOCH = 7 , TRAINING LOSS = 0.36195987988920775 , VALIDATION LOSS = 0.36195987988920775\n",
            " At EPOCH = 8 , TRAINING LOSS = 0.35985736285938935 , VALIDATION LOSS = 0.35985736285938935\n",
            " At EPOCH = 9 , TRAINING LOSS = 0.35665620775783763 , VALIDATION LOSS = 0.35665620775783763\n",
            " At EPOCH = 10 , TRAINING LOSS = 0.3548523941460778 , VALIDATION LOSS = 0.3548523941460778\n",
            " At EPOCH = 11 , TRAINING LOSS = 0.3581789346302257 , VALIDATION LOSS = 0.3581789346302257\n",
            " At EPOCH = 12 , TRAINING LOSS = 0.36142736322739544 , VALIDATION LOSS = 0.36142736322739544\n",
            " At EPOCH = 13 , TRAINING LOSS = 0.35312147000256705 , VALIDATION LOSS = 0.35312147000256705\n",
            " At EPOCH = 14 , TRAINING LOSS = 0.34456692022435803 , VALIDATION LOSS = 0.34456692022435803\n",
            " At EPOCH = 15 , TRAINING LOSS = 0.35039685929522796 , VALIDATION LOSS = 0.35039685929522796\n",
            " At EPOCH = 16 , TRAINING LOSS = 0.3448944933274213 , VALIDATION LOSS = 0.3448944933274213\n",
            " At EPOCH = 17 , TRAINING LOSS = 0.3400920296416563 , VALIDATION LOSS = 0.3400920296416563\n",
            " At EPOCH = 18 , TRAINING LOSS = 0.3427157857838799 , VALIDATION LOSS = 0.3427157857838799\n",
            " At EPOCH = 19 , TRAINING LOSS = 0.34718357464846444 , VALIDATION LOSS = 0.34718357464846444\n",
            " At EPOCH = 20 , TRAINING LOSS = 0.33946462764459495 , VALIDATION LOSS = 0.33946462764459495\n",
            " At EPOCH = 21 , TRAINING LOSS = 0.3357035920900457 , VALIDATION LOSS = 0.3357035920900457\n",
            " At EPOCH = 22 , TRAINING LOSS = 0.3383981918587404 , VALIDATION LOSS = 0.3383981918587404\n",
            " At EPOCH = 23 , TRAINING LOSS = 0.34835584374035106 , VALIDATION LOSS = 0.34835584374035106\n",
            " At EPOCH = 24 , TRAINING LOSS = 0.3361065878587611 , VALIDATION LOSS = 0.3361065878587611\n",
            " At EPOCH = 25 , TRAINING LOSS = 0.33204871942015257 , VALIDATION LOSS = 0.33204871942015257\n",
            " At EPOCH = 26 , TRAINING LOSS = 0.3350709185880773 , VALIDATION LOSS = 0.3350709185880773\n",
            " At EPOCH = 27 , TRAINING LOSS = 0.33789433451259837 , VALIDATION LOSS = 0.33789433451259837\n",
            " At EPOCH = 28 , TRAINING LOSS = 0.3358641547315261 , VALIDATION LOSS = 0.3358641547315261\n",
            " At EPOCH = 29 , TRAINING LOSS = 0.3323415605460896 , VALIDATION LOSS = 0.3323415605460896\n",
            " At EPOCH = 30 , TRAINING LOSS = 0.332119123024099 , VALIDATION LOSS = 0.332119123024099\n",
            " At EPOCH = 31 , TRAINING LOSS = 0.33220352320110097 , VALIDATION LOSS = 0.33220352320110097\n",
            " At EPOCH = 32 , TRAINING LOSS = 0.33463308741064635 , VALIDATION LOSS = 0.33463308741064635\n",
            " At EPOCH = 33 , TRAINING LOSS = 0.3341150897390702 , VALIDATION LOSS = 0.3341150897390702\n",
            " At EPOCH = 34 , TRAINING LOSS = 0.33244843518032746 , VALIDATION LOSS = 0.33244843518032746\n",
            " At EPOCH = 35 , TRAINING LOSS = 0.3341960696613087 , VALIDATION LOSS = 0.3341960696613087\n",
            " At EPOCH = 36 , TRAINING LOSS = 0.33270052601309386 , VALIDATION LOSS = 0.33270052601309386\n",
            " At EPOCH = 37 , TRAINING LOSS = 0.33008966726415295 , VALIDATION LOSS = 0.33008966726415295\n",
            " At EPOCH = 38 , TRAINING LOSS = 0.3338578133022084 , VALIDATION LOSS = 0.3338578133022084\n",
            " At EPOCH = 39 , TRAINING LOSS = 0.33092382550239563 , VALIDATION LOSS = 0.33092382550239563\n",
            " At EPOCH = 40 , TRAINING LOSS = 0.33098167181015015 , VALIDATION LOSS = 0.33098167181015015\n",
            " At EPOCH = 41 , TRAINING LOSS = 0.32861660157932954 , VALIDATION LOSS = 0.32861660157932954\n",
            " At EPOCH = 42 , TRAINING LOSS = 0.3292494048090542 , VALIDATION LOSS = 0.3292494048090542\n",
            " At EPOCH = 43 , TRAINING LOSS = 0.32797708230860095 , VALIDATION LOSS = 0.32797708230860095\n",
            " At EPOCH = 44 , TRAINING LOSS = 0.3313330236603232 , VALIDATION LOSS = 0.3313330236603232\n",
            " At EPOCH = 45 , TRAINING LOSS = 0.32996737606385174 , VALIDATION LOSS = 0.32996737606385174\n",
            " At EPOCH = 46 , TRAINING LOSS = 0.33286940174944263 , VALIDATION LOSS = 0.33286940174944263\n",
            " At EPOCH = 47 , TRAINING LOSS = 0.3391352926983553 , VALIDATION LOSS = 0.3391352926983553\n",
            " At EPOCH = 48 , TRAINING LOSS = 0.33263999399016886 , VALIDATION LOSS = 0.33263999399016886\n",
            " At EPOCH = 49 , TRAINING LOSS = 0.3302645981311798 , VALIDATION LOSS = 0.3302645981311798\n",
            " At EPOCH = 50 , TRAINING LOSS = 0.32755114225780263 , VALIDATION LOSS = 0.32755114225780263\n",
            " At EPOCH = 51 , TRAINING LOSS = 0.32735904350000267 , VALIDATION LOSS = 0.32735904350000267\n",
            " At EPOCH = 52 , TRAINING LOSS = 0.32863841337316174 , VALIDATION LOSS = 0.32863841337316174\n",
            " At EPOCH = 53 , TRAINING LOSS = 0.32976512523258433 , VALIDATION LOSS = 0.32976512523258433\n",
            " At EPOCH = 54 , TRAINING LOSS = 0.324102100204019 , VALIDATION LOSS = 0.324102100204019\n",
            " At EPOCH = 55 , TRAINING LOSS = 0.332780436557882 , VALIDATION LOSS = 0.332780436557882\n",
            " At EPOCH = 56 , TRAINING LOSS = 0.3309619146234849 , VALIDATION LOSS = 0.3309619146234849\n",
            " At EPOCH = 57 , TRAINING LOSS = 0.33070822147762075 , VALIDATION LOSS = 0.33070822147762075\n",
            " At EPOCH = 58 , TRAINING LOSS = 0.3286808396086973 , VALIDATION LOSS = 0.3286808396086973\n",
            " At EPOCH = 59 , TRAINING LOSS = 0.32715918386683746 , VALIDATION LOSS = 0.32715918386683746\n",
            " At EPOCH = 60 , TRAINING LOSS = 0.32541409134864807 , VALIDATION LOSS = 0.32541409134864807\n",
            " At EPOCH = 61 , TRAINING LOSS = 0.3349023408749524 , VALIDATION LOSS = 0.3349023408749524\n",
            " At EPOCH = 62 , TRAINING LOSS = 0.32325976385789756 , VALIDATION LOSS = 0.32325976385789756\n",
            " At EPOCH = 63 , TRAINING LOSS = 0.32736750560648303 , VALIDATION LOSS = 0.32736750560648303\n",
            " At EPOCH = 64 , TRAINING LOSS = 0.33673758892452016 , VALIDATION LOSS = 0.33673758892452016\n",
            " At EPOCH = 65 , TRAINING LOSS = 0.3266537119360531 , VALIDATION LOSS = 0.3266537119360531\n",
            " At EPOCH = 66 , TRAINING LOSS = 0.32601172783795523 , VALIDATION LOSS = 0.32601172783795523\n",
            " At EPOCH = 67 , TRAINING LOSS = 0.32499337546965656 , VALIDATION LOSS = 0.32499337546965656\n",
            " At EPOCH = 68 , TRAINING LOSS = 0.32193148311446695 , VALIDATION LOSS = 0.32193148311446695\n",
            " At EPOCH = 69 , TRAINING LOSS = 0.3345729252871345 , VALIDATION LOSS = 0.3345729252871345\n",
            " At EPOCH = 70 , TRAINING LOSS = 0.3392286265597624 , VALIDATION LOSS = 0.3392286265597624\n",
            " At EPOCH = 71 , TRAINING LOSS = 0.32969196053112254 , VALIDATION LOSS = 0.32969196053112254\n",
            " At EPOCH = 72 , TRAINING LOSS = 0.32974232645595775 , VALIDATION LOSS = 0.32974232645595775\n",
            " At EPOCH = 73 , TRAINING LOSS = 0.3217546186026405 , VALIDATION LOSS = 0.3217546186026405\n",
            " At EPOCH = 74 , TRAINING LOSS = 0.3251736111500684 , VALIDATION LOSS = 0.3251736111500684\n",
            " At EPOCH = 75 , TRAINING LOSS = 0.3329833325217752 , VALIDATION LOSS = 0.3329833325217752\n",
            " At EPOCH = 76 , TRAINING LOSS = 0.3255988359451294 , VALIDATION LOSS = 0.3255988359451294\n",
            " At EPOCH = 77 , TRAINING LOSS = 0.32326680421829224 , VALIDATION LOSS = 0.32326680421829224\n",
            " At EPOCH = 78 , TRAINING LOSS = 0.3245384693145752 , VALIDATION LOSS = 0.3245384693145752\n",
            " At EPOCH = 79 , TRAINING LOSS = 0.3224487339749056 , VALIDATION LOSS = 0.3224487339749056\n"
          ]
        },
        {
          "output_type": "display_data",
          "data": {
            "text/plain": [
              "<IPython.core.display.HTML object>"
            ],
            "text/html": [
              "Waiting for W&B process to finish... <strong style=\"color:green\">(success).</strong>"
            ]
          },
          "metadata": {}
        },
        {
          "output_type": "display_data",
          "data": {
            "text/plain": [
              "<IPython.core.display.HTML object>"
            ],
            "text/html": [
              "<style>\n",
              "    table.wandb td:nth-child(1) { padding: 0 10px; text-align: left ; width: auto;} td:nth-child(2) {text-align: left ; width: 100%}\n",
              "    .wandb-row { display: flex; flex-direction: row; flex-wrap: wrap; justify-content: flex-start; width: 100% }\n",
              "    .wandb-col { display: flex; flex-direction: column; flex-basis: 100%; flex: 1; padding: 10px; }\n",
              "    </style>\n",
              "<div class=\"wandb-row\"><div class=\"wandb-col\"><h3>Run history:</h3><br/><table class=\"wandb\"><tr><td>epoch</td><td>▁▁▁▂▂▂▂▂▂▃▃▃▃▃▃▄▄▄▄▄▅▅▅▅▅▅▆▆▆▆▆▆▇▇▇▇▇███</td></tr><tr><td>train_loss</td><td>█▂▂▂▂▂▂▁▁▁▁▁▁▁▁▁▁▁▁▁▁▁▁▁▁▁▁▁▁▁▁▁▁▁▁▁▁▁▁▁</td></tr><tr><td>val_loss</td><td>█▆▄▄▃▄▄▃▂▄▂▃▂▂▂▂▂▂▂▂▂▂▂▂▂▂▂▂▂▂▃▂▁▁▁▃▁▁▁▁</td></tr></table><br/></div><div class=\"wandb-col\"><h3>Run summary:</h3><br/><table class=\"wandb\"><tr><td>epoch</td><td>79</td></tr><tr><td>train_loss</td><td>0.32245</td></tr><tr><td>val_loss</td><td>0.31553</td></tr></table><br/></div></div>"
            ]
          },
          "metadata": {}
        },
        {
          "output_type": "display_data",
          "data": {
            "text/plain": [
              "<IPython.core.display.HTML object>"
            ],
            "text/html": [
              " View run <strong style=\"color:#cdcd00\">solar-microwave-2</strong> at: <a href='https://wandb.ai/spathak31121997/mRNA-Stabilization-test-2/runs/ysi0clnr' target=\"_blank\">https://wandb.ai/spathak31121997/mRNA-Stabilization-test-2/runs/ysi0clnr</a><br/>Synced 5 W&B file(s), 0 media file(s), 0 artifact file(s) and 0 other file(s)"
            ]
          },
          "metadata": {}
        },
        {
          "output_type": "display_data",
          "data": {
            "text/plain": [
              "<IPython.core.display.HTML object>"
            ],
            "text/html": [
              "Find logs at: <code>./wandb/run-20230330_032839-ysi0clnr/logs</code>"
            ]
          },
          "metadata": {}
        },
        {
          "output_type": "display_data",
          "data": {
            "text/plain": [
              "<IPython.core.display.HTML object>"
            ],
            "text/html": [
              "Tracking run with wandb version 0.14.0"
            ]
          },
          "metadata": {}
        },
        {
          "output_type": "display_data",
          "data": {
            "text/plain": [
              "<IPython.core.display.HTML object>"
            ],
            "text/html": [
              "Run data is saved locally in <code>/content/wandb/run-20230330_033339-o4bdby3b</code>"
            ]
          },
          "metadata": {}
        },
        {
          "output_type": "display_data",
          "data": {
            "text/plain": [
              "<IPython.core.display.HTML object>"
            ],
            "text/html": [
              "Syncing run <strong><a href='https://wandb.ai/spathak31121997/mRNA-Stabilization-test-2/runs/o4bdby3b' target=\"_blank\">magic-vortex-3</a></strong> to <a href='https://wandb.ai/spathak31121997/mRNA-Stabilization-test-2' target=\"_blank\">Weights & Biases</a> (<a href='https://wandb.me/run' target=\"_blank\">docs</a>)<br/>"
            ]
          },
          "metadata": {}
        },
        {
          "output_type": "display_data",
          "data": {
            "text/plain": [
              "<IPython.core.display.HTML object>"
            ],
            "text/html": [
              " View project at <a href='https://wandb.ai/spathak31121997/mRNA-Stabilization-test-2' target=\"_blank\">https://wandb.ai/spathak31121997/mRNA-Stabilization-test-2</a>"
            ]
          },
          "metadata": {}
        },
        {
          "output_type": "display_data",
          "data": {
            "text/plain": [
              "<IPython.core.display.HTML object>"
            ],
            "text/html": [
              " View run at <a href='https://wandb.ai/spathak31121997/mRNA-Stabilization-test-2/runs/o4bdby3b' target=\"_blank\">https://wandb.ai/spathak31121997/mRNA-Stabilization-test-2/runs/o4bdby3b</a>"
            ]
          },
          "metadata": {}
        },
        {
          "output_type": "display_data",
          "data": {
            "text/plain": [
              "  0%|          | 0/80 [00:00<?, ?it/s]"
            ],
            "application/vnd.jupyter.widget-view+json": {
              "version_major": 2,
              "version_minor": 0,
              "model_id": "e21b1c03198b4fd79a9ea9b9bb7d89a6"
            }
          },
          "metadata": {}
        },
        {
          "output_type": "stream",
          "name": "stdout",
          "text": [
            " At EPOCH = 0 , TRAINING LOSS = 0.7112514061086318 , VALIDATION LOSS = 0.7112514061086318\n",
            " At EPOCH = 1 , TRAINING LOSS = 0.4154486515942742 , VALIDATION LOSS = 0.4154486515942742\n",
            " At EPOCH = 2 , TRAINING LOSS = 0.3986782449133256 , VALIDATION LOSS = 0.3986782449133256\n",
            " At EPOCH = 3 , TRAINING LOSS = 0.3898797368302065 , VALIDATION LOSS = 0.3898797368302065\n",
            " At EPOCH = 4 , TRAINING LOSS = 0.376818201121162 , VALIDATION LOSS = 0.376818201121162\n",
            " At EPOCH = 5 , TRAINING LOSS = 0.36765410619623523 , VALIDATION LOSS = 0.36765410619623523\n",
            " At EPOCH = 6 , TRAINING LOSS = 0.3742871810408199 , VALIDATION LOSS = 0.3742871810408199\n",
            " At EPOCH = 7 , TRAINING LOSS = 0.3692241591565749 , VALIDATION LOSS = 0.3692241591565749\n",
            " At EPOCH = 8 , TRAINING LOSS = 0.3625573358115028 , VALIDATION LOSS = 0.3625573358115028\n",
            " At EPOCH = 9 , TRAINING LOSS = 0.36432918906211853 , VALIDATION LOSS = 0.36432918906211853\n",
            " At EPOCH = 10 , TRAINING LOSS = 0.359875640448402 , VALIDATION LOSS = 0.359875640448402\n",
            " At EPOCH = 11 , TRAINING LOSS = 0.3557065287057091 , VALIDATION LOSS = 0.3557065287057091\n",
            " At EPOCH = 12 , TRAINING LOSS = 0.3523531082798453 , VALIDATION LOSS = 0.3523531082798453\n",
            " At EPOCH = 13 , TRAINING LOSS = 0.35346390745219064 , VALIDATION LOSS = 0.35346390745219064\n",
            " At EPOCH = 14 , TRAINING LOSS = 0.35554978426764994 , VALIDATION LOSS = 0.35554978426764994\n",
            " At EPOCH = 15 , TRAINING LOSS = 0.35498592608115254 , VALIDATION LOSS = 0.35498592608115254\n",
            " At EPOCH = 16 , TRAINING LOSS = 0.354153771610821 , VALIDATION LOSS = 0.354153771610821\n",
            " At EPOCH = 17 , TRAINING LOSS = 0.3618056791670182 , VALIDATION LOSS = 0.3618056791670182\n",
            " At EPOCH = 18 , TRAINING LOSS = 0.3470349785159616 , VALIDATION LOSS = 0.3470349785159616\n",
            " At EPOCH = 19 , TRAINING LOSS = 0.3471096841727986 , VALIDATION LOSS = 0.3471096841727986\n",
            " At EPOCH = 20 , TRAINING LOSS = 0.3412390509072472 , VALIDATION LOSS = 0.3412390509072472\n",
            " At EPOCH = 21 , TRAINING LOSS = 0.3386561327120837 , VALIDATION LOSS = 0.3386561327120837\n",
            " At EPOCH = 22 , TRAINING LOSS = 0.3389364743933958 , VALIDATION LOSS = 0.3389364743933958\n",
            " At EPOCH = 23 , TRAINING LOSS = 0.33540090392617616 , VALIDATION LOSS = 0.33540090392617616\n",
            " At EPOCH = 24 , TRAINING LOSS = 0.34315231617759256 , VALIDATION LOSS = 0.34315231617759256\n",
            " At EPOCH = 25 , TRAINING LOSS = 0.3402473979136523 , VALIDATION LOSS = 0.3402473979136523\n",
            " At EPOCH = 26 , TRAINING LOSS = 0.3390655535108903 , VALIDATION LOSS = 0.3390655535108903\n",
            " At EPOCH = 27 , TRAINING LOSS = 0.33948463376830607 , VALIDATION LOSS = 0.33948463376830607\n",
            " At EPOCH = 28 , TRAINING LOSS = 0.3329045649837045 , VALIDATION LOSS = 0.3329045649837045\n",
            " At EPOCH = 29 , TRAINING LOSS = 0.35115605066804323 , VALIDATION LOSS = 0.35115605066804323\n",
            " At EPOCH = 30 , TRAINING LOSS = 0.33685647564775806 , VALIDATION LOSS = 0.33685647564775806\n",
            " At EPOCH = 31 , TRAINING LOSS = 0.33099215696839723 , VALIDATION LOSS = 0.33099215696839723\n",
            " At EPOCH = 32 , TRAINING LOSS = 0.33380968430463004 , VALIDATION LOSS = 0.33380968430463004\n",
            " At EPOCH = 33 , TRAINING LOSS = 0.33343933610355153 , VALIDATION LOSS = 0.33343933610355153\n",
            " At EPOCH = 34 , TRAINING LOSS = 0.3317956556292141 , VALIDATION LOSS = 0.3317956556292141\n",
            " At EPOCH = 35 , TRAINING LOSS = 0.33348265816183653 , VALIDATION LOSS = 0.33348265816183653\n",
            " At EPOCH = 36 , TRAINING LOSS = 0.3319382106556612 , VALIDATION LOSS = 0.3319382106556612\n",
            " At EPOCH = 37 , TRAINING LOSS = 0.32943885817247276 , VALIDATION LOSS = 0.32943885817247276\n",
            " At EPOCH = 38 , TRAINING LOSS = 0.3298147829139934 , VALIDATION LOSS = 0.3298147829139934\n",
            " At EPOCH = 39 , TRAINING LOSS = 0.33001502296503854 , VALIDATION LOSS = 0.33001502296503854\n",
            " At EPOCH = 40 , TRAINING LOSS = 0.32947714188519645 , VALIDATION LOSS = 0.32947714188519645\n",
            " At EPOCH = 41 , TRAINING LOSS = 0.3275733397287481 , VALIDATION LOSS = 0.3275733397287481\n",
            " At EPOCH = 42 , TRAINING LOSS = 0.32803480064167695 , VALIDATION LOSS = 0.32803480064167695\n",
            " At EPOCH = 43 , TRAINING LOSS = 0.3318575655712801 , VALIDATION LOSS = 0.3318575655712801\n",
            " At EPOCH = 44 , TRAINING LOSS = 0.3371298085240757 , VALIDATION LOSS = 0.3371298085240757\n",
            " At EPOCH = 45 , TRAINING LOSS = 0.32943307827500734 , VALIDATION LOSS = 0.32943307827500734\n",
            " At EPOCH = 46 , TRAINING LOSS = 0.32479702900437746 , VALIDATION LOSS = 0.32479702900437746\n",
            " At EPOCH = 47 , TRAINING LOSS = 0.3284713678500232 , VALIDATION LOSS = 0.3284713678500232\n",
            " At EPOCH = 48 , TRAINING LOSS = 0.32537041516865 , VALIDATION LOSS = 0.32537041516865\n",
            " At EPOCH = 49 , TRAINING LOSS = 0.32496584864223704 , VALIDATION LOSS = 0.32496584864223704\n",
            " At EPOCH = 50 , TRAINING LOSS = 0.32495390317019296 , VALIDATION LOSS = 0.32495390317019296\n",
            " At EPOCH = 51 , TRAINING LOSS = 0.32972796699580026 , VALIDATION LOSS = 0.32972796699580026\n",
            " At EPOCH = 52 , TRAINING LOSS = 0.3280959953280056 , VALIDATION LOSS = 0.3280959953280056\n",
            " At EPOCH = 53 , TRAINING LOSS = 0.3205340872792637 , VALIDATION LOSS = 0.3205340872792637\n",
            " At EPOCH = 54 , TRAINING LOSS = 0.32851332951994505 , VALIDATION LOSS = 0.32851332951994505\n",
            " At EPOCH = 55 , TRAINING LOSS = 0.3253784284872167 , VALIDATION LOSS = 0.3253784284872167\n",
            " At EPOCH = 56 , TRAINING LOSS = 0.3347315928515266 , VALIDATION LOSS = 0.3347315928515266\n",
            " At EPOCH = 57 , TRAINING LOSS = 0.3247923658174627 , VALIDATION LOSS = 0.3247923658174627\n",
            " At EPOCH = 58 , TRAINING LOSS = 0.3249194394139683 , VALIDATION LOSS = 0.3249194394139683\n",
            " At EPOCH = 59 , TRAINING LOSS = 0.32748648348976583 , VALIDATION LOSS = 0.32748648348976583\n",
            " At EPOCH = 60 , TRAINING LOSS = 0.3271263872875887 , VALIDATION LOSS = 0.3271263872875887\n",
            " At EPOCH = 61 , TRAINING LOSS = 0.3261815993224873 , VALIDATION LOSS = 0.3261815993224873\n",
            " At EPOCH = 62 , TRAINING LOSS = 0.3292830393594854 , VALIDATION LOSS = 0.3292830393594854\n",
            " At EPOCH = 63 , TRAINING LOSS = 0.32664404195897717 , VALIDATION LOSS = 0.32664404195897717\n",
            " At EPOCH = 64 , TRAINING LOSS = 0.3328337616780225 , VALIDATION LOSS = 0.3328337616780225\n",
            " At EPOCH = 65 , TRAINING LOSS = 0.3260674494154313 , VALIDATION LOSS = 0.3260674494154313\n",
            " At EPOCH = 66 , TRAINING LOSS = 0.32460325956344604 , VALIDATION LOSS = 0.32460325956344604\n",
            " At EPOCH = 67 , TRAINING LOSS = 0.324329698787016 , VALIDATION LOSS = 0.324329698787016\n",
            " At EPOCH = 68 , TRAINING LOSS = 0.3238771452623255 , VALIDATION LOSS = 0.3238771452623255\n",
            " At EPOCH = 69 , TRAINING LOSS = 0.32419701358851266 , VALIDATION LOSS = 0.32419701358851266\n",
            " At EPOCH = 70 , TRAINING LOSS = 0.32814305494813356 , VALIDATION LOSS = 0.32814305494813356\n",
            " At EPOCH = 71 , TRAINING LOSS = 0.32764886757906747 , VALIDATION LOSS = 0.32764886757906747\n",
            " At EPOCH = 72 , TRAINING LOSS = 0.3225276505245882 , VALIDATION LOSS = 0.3225276505245882\n",
            " At EPOCH = 73 , TRAINING LOSS = 0.3233677814988529 , VALIDATION LOSS = 0.3233677814988529\n",
            " At EPOCH = 74 , TRAINING LOSS = 0.32828108177465554 , VALIDATION LOSS = 0.32828108177465554\n",
            " At EPOCH = 75 , TRAINING LOSS = 0.3322579965871923 , VALIDATION LOSS = 0.3322579965871923\n",
            " At EPOCH = 76 , TRAINING LOSS = 0.32288729618577394 , VALIDATION LOSS = 0.32288729618577394\n",
            " At EPOCH = 77 , TRAINING LOSS = 0.3191205859184265 , VALIDATION LOSS = 0.3191205859184265\n",
            " At EPOCH = 78 , TRAINING LOSS = 0.3243231422760907 , VALIDATION LOSS = 0.3243231422760907\n",
            " At EPOCH = 79 , TRAINING LOSS = 0.32702766621814056 , VALIDATION LOSS = 0.32702766621814056\n"
          ]
        },
        {
          "output_type": "display_data",
          "data": {
            "text/plain": [
              "<IPython.core.display.HTML object>"
            ],
            "text/html": [
              "Waiting for W&B process to finish... <strong style=\"color:green\">(success).</strong>"
            ]
          },
          "metadata": {}
        },
        {
          "output_type": "display_data",
          "data": {
            "text/plain": [
              "<IPython.core.display.HTML object>"
            ],
            "text/html": [
              "<style>\n",
              "    table.wandb td:nth-child(1) { padding: 0 10px; text-align: left ; width: auto;} td:nth-child(2) {text-align: left ; width: 100%}\n",
              "    .wandb-row { display: flex; flex-direction: row; flex-wrap: wrap; justify-content: flex-start; width: 100% }\n",
              "    .wandb-col { display: flex; flex-direction: column; flex-basis: 100%; flex: 1; padding: 10px; }\n",
              "    </style>\n",
              "<div class=\"wandb-row\"><div class=\"wandb-col\"><h3>Run history:</h3><br/><table class=\"wandb\"><tr><td>epoch</td><td>▁▁▁▂▂▂▂▂▂▃▃▃▃▃▃▄▄▄▄▄▅▅▅▅▅▅▆▆▆▆▆▆▇▇▇▇▇███</td></tr><tr><td>train_loss</td><td>█▂▂▂▂▂▂▂▂▁▁▁▁▁▁▁▁▁▁▁▁▁▁▁▁▁▁▁▁▁▁▁▁▁▁▁▁▁▁▁</td></tr><tr><td>val_loss</td><td>█▆▄▄▄▄▃▃▅▂▂▂▂▂▂▂▂▂▂▁▂▂▂▁▁▂▂▁▁▂▁▁▁▁▁▂▁▂▁▁</td></tr></table><br/></div><div class=\"wandb-col\"><h3>Run summary:</h3><br/><table class=\"wandb\"><tr><td>epoch</td><td>79</td></tr><tr><td>train_loss</td><td>0.32703</td></tr><tr><td>val_loss</td><td>0.31239</td></tr></table><br/></div></div>"
            ]
          },
          "metadata": {}
        },
        {
          "output_type": "display_data",
          "data": {
            "text/plain": [
              "<IPython.core.display.HTML object>"
            ],
            "text/html": [
              " View run <strong style=\"color:#cdcd00\">magic-vortex-3</strong> at: <a href='https://wandb.ai/spathak31121997/mRNA-Stabilization-test-2/runs/o4bdby3b' target=\"_blank\">https://wandb.ai/spathak31121997/mRNA-Stabilization-test-2/runs/o4bdby3b</a><br/>Synced 5 W&B file(s), 0 media file(s), 0 artifact file(s) and 0 other file(s)"
            ]
          },
          "metadata": {}
        },
        {
          "output_type": "display_data",
          "data": {
            "text/plain": [
              "<IPython.core.display.HTML object>"
            ],
            "text/html": [
              "Find logs at: <code>./wandb/run-20230330_033339-o4bdby3b/logs</code>"
            ]
          },
          "metadata": {}
        },
        {
          "output_type": "display_data",
          "data": {
            "text/plain": [
              "<IPython.core.display.HTML object>"
            ],
            "text/html": [
              "Tracking run with wandb version 0.14.0"
            ]
          },
          "metadata": {}
        },
        {
          "output_type": "display_data",
          "data": {
            "text/plain": [
              "<IPython.core.display.HTML object>"
            ],
            "text/html": [
              "Run data is saved locally in <code>/content/wandb/run-20230330_033841-0gwys9xa</code>"
            ]
          },
          "metadata": {}
        },
        {
          "output_type": "display_data",
          "data": {
            "text/plain": [
              "<IPython.core.display.HTML object>"
            ],
            "text/html": [
              "Syncing run <strong><a href='https://wandb.ai/spathak31121997/mRNA-Stabilization-test-2/runs/0gwys9xa' target=\"_blank\">rich-forest-4</a></strong> to <a href='https://wandb.ai/spathak31121997/mRNA-Stabilization-test-2' target=\"_blank\">Weights & Biases</a> (<a href='https://wandb.me/run' target=\"_blank\">docs</a>)<br/>"
            ]
          },
          "metadata": {}
        },
        {
          "output_type": "display_data",
          "data": {
            "text/plain": [
              "<IPython.core.display.HTML object>"
            ],
            "text/html": [
              " View project at <a href='https://wandb.ai/spathak31121997/mRNA-Stabilization-test-2' target=\"_blank\">https://wandb.ai/spathak31121997/mRNA-Stabilization-test-2</a>"
            ]
          },
          "metadata": {}
        },
        {
          "output_type": "display_data",
          "data": {
            "text/plain": [
              "<IPython.core.display.HTML object>"
            ],
            "text/html": [
              " View run at <a href='https://wandb.ai/spathak31121997/mRNA-Stabilization-test-2/runs/0gwys9xa' target=\"_blank\">https://wandb.ai/spathak31121997/mRNA-Stabilization-test-2/runs/0gwys9xa</a>"
            ]
          },
          "metadata": {}
        },
        {
          "output_type": "display_data",
          "data": {
            "text/plain": [
              "  0%|          | 0/80 [00:00<?, ?it/s]"
            ],
            "application/vnd.jupyter.widget-view+json": {
              "version_major": 2,
              "version_minor": 0,
              "model_id": "ad008bb4df3a4abd99de4ea120fbeec2"
            }
          },
          "metadata": {}
        },
        {
          "output_type": "stream",
          "name": "stdout",
          "text": [
            " At EPOCH = 0 , TRAINING LOSS = 0.6783293801195481 , VALIDATION LOSS = 0.6783293801195481\n",
            " At EPOCH = 1 , TRAINING LOSS = 0.41795476219233346 , VALIDATION LOSS = 0.41795476219233346\n",
            " At EPOCH = 2 , TRAINING LOSS = 0.402791571967742 , VALIDATION LOSS = 0.402791571967742\n",
            " At EPOCH = 3 , TRAINING LOSS = 0.39810073551009684 , VALIDATION LOSS = 0.39810073551009684\n",
            " At EPOCH = 4 , TRAINING LOSS = 0.3894672113306382 , VALIDATION LOSS = 0.3894672113306382\n",
            " At EPOCH = 5 , TRAINING LOSS = 0.3859315391849069 , VALIDATION LOSS = 0.3859315391849069\n",
            " At EPOCH = 6 , TRAINING LOSS = 0.38200225724893455 , VALIDATION LOSS = 0.38200225724893455\n",
            " At EPOCH = 7 , TRAINING LOSS = 0.38477877308340636 , VALIDATION LOSS = 0.38477877308340636\n",
            " At EPOCH = 8 , TRAINING LOSS = 0.38247724841622743 , VALIDATION LOSS = 0.38247724841622743\n",
            " At EPOCH = 9 , TRAINING LOSS = 0.38021191428689394 , VALIDATION LOSS = 0.38021191428689394\n",
            " At EPOCH = 10 , TRAINING LOSS = 0.37520625661401186 , VALIDATION LOSS = 0.37520625661401186\n",
            " At EPOCH = 11 , TRAINING LOSS = 0.36212393641471863 , VALIDATION LOSS = 0.36212393641471863\n",
            " At EPOCH = 12 , TRAINING LOSS = 0.3697362261659959 , VALIDATION LOSS = 0.3697362261659959\n",
            " At EPOCH = 13 , TRAINING LOSS = 0.3624906574978548 , VALIDATION LOSS = 0.3624906574978548\n",
            " At EPOCH = 14 , TRAINING LOSS = 0.3582780694260317 , VALIDATION LOSS = 0.3582780694260317\n",
            " At EPOCH = 15 , TRAINING LOSS = 0.36049528682933135 , VALIDATION LOSS = 0.36049528682933135\n",
            " At EPOCH = 16 , TRAINING LOSS = 0.35345067872720604 , VALIDATION LOSS = 0.35345067872720604\n",
            " At EPOCH = 17 , TRAINING LOSS = 0.3610401223687565 , VALIDATION LOSS = 0.3610401223687565\n",
            " At EPOCH = 18 , TRAINING LOSS = 0.3563305384972516 , VALIDATION LOSS = 0.3563305384972516\n",
            " At EPOCH = 19 , TRAINING LOSS = 0.35415566318175373 , VALIDATION LOSS = 0.35415566318175373\n",
            " At EPOCH = 20 , TRAINING LOSS = 0.3459664460490732 , VALIDATION LOSS = 0.3459664460490732\n",
            " At EPOCH = 21 , TRAINING LOSS = 0.35749515189844017 , VALIDATION LOSS = 0.35749515189844017\n",
            " At EPOCH = 22 , TRAINING LOSS = 0.3576373896178077 , VALIDATION LOSS = 0.3576373896178077\n",
            " At EPOCH = 23 , TRAINING LOSS = 0.34722137626479654 , VALIDATION LOSS = 0.34722137626479654\n",
            " At EPOCH = 24 , TRAINING LOSS = 0.34718177949681 , VALIDATION LOSS = 0.34718177949681\n",
            " At EPOCH = 25 , TRAINING LOSS = 0.34181056478444266 , VALIDATION LOSS = 0.34181056478444266\n",
            " At EPOCH = 26 , TRAINING LOSS = 0.34576896183631 , VALIDATION LOSS = 0.34576896183631\n",
            " At EPOCH = 27 , TRAINING LOSS = 0.3485347874024335 , VALIDATION LOSS = 0.3485347874024335\n",
            " At EPOCH = 28 , TRAINING LOSS = 0.34849199302056255 , VALIDATION LOSS = 0.34849199302056255\n",
            " At EPOCH = 29 , TRAINING LOSS = 0.3476367785650141 , VALIDATION LOSS = 0.3476367785650141\n",
            " At EPOCH = 30 , TRAINING LOSS = 0.34804025818319884 , VALIDATION LOSS = 0.34804025818319884\n",
            " At EPOCH = 31 , TRAINING LOSS = 0.3465027984450845 , VALIDATION LOSS = 0.3465027984450845\n",
            " At EPOCH = 32 , TRAINING LOSS = 0.3445821281741647 , VALIDATION LOSS = 0.3445821281741647\n",
            " At EPOCH = 33 , TRAINING LOSS = 0.36215692057329063 , VALIDATION LOSS = 0.36215692057329063\n",
            " At EPOCH = 34 , TRAINING LOSS = 0.3486216506537269 , VALIDATION LOSS = 0.3486216506537269\n",
            " At EPOCH = 35 , TRAINING LOSS = 0.3405371588819167 , VALIDATION LOSS = 0.3405371588819167\n",
            " At EPOCH = 36 , TRAINING LOSS = 0.3397960312226239 , VALIDATION LOSS = 0.3397960312226239\n",
            " At EPOCH = 37 , TRAINING LOSS = 0.3371474357212291 , VALIDATION LOSS = 0.3371474357212291\n",
            " At EPOCH = 38 , TRAINING LOSS = 0.3494482496205498 , VALIDATION LOSS = 0.3494482496205498\n",
            " At EPOCH = 39 , TRAINING LOSS = 0.34078142748159523 , VALIDATION LOSS = 0.34078142748159523\n",
            " At EPOCH = 40 , TRAINING LOSS = 0.33783774165546193 , VALIDATION LOSS = 0.33783774165546193\n",
            " At EPOCH = 41 , TRAINING LOSS = 0.3322046767262852 , VALIDATION LOSS = 0.3322046767262852\n",
            " At EPOCH = 42 , TRAINING LOSS = 0.33515824289882884 , VALIDATION LOSS = 0.33515824289882884\n",
            " At EPOCH = 43 , TRAINING LOSS = 0.3341847623095793 , VALIDATION LOSS = 0.3341847623095793\n",
            " At EPOCH = 44 , TRAINING LOSS = 0.33652886573006124 , VALIDATION LOSS = 0.33652886573006124\n",
            " At EPOCH = 45 , TRAINING LOSS = 0.33581025635494904 , VALIDATION LOSS = 0.33581025635494904\n",
            " At EPOCH = 46 , TRAINING LOSS = 0.34066199379808765 , VALIDATION LOSS = 0.34066199379808765\n",
            " At EPOCH = 47 , TRAINING LOSS = 0.3374740376191981 , VALIDATION LOSS = 0.3374740376191981\n",
            " At EPOCH = 48 , TRAINING LOSS = 0.34003011619343476 , VALIDATION LOSS = 0.34003011619343476\n",
            " At EPOCH = 49 , TRAINING LOSS = 0.3317204819006078 , VALIDATION LOSS = 0.3317204819006078\n",
            " At EPOCH = 50 , TRAINING LOSS = 0.32910289483911853 , VALIDATION LOSS = 0.32910289483911853\n",
            " At EPOCH = 51 , TRAINING LOSS = 0.32715648938627806 , VALIDATION LOSS = 0.32715648938627806\n",
            " At EPOCH = 52 , TRAINING LOSS = 0.3341350537889144 , VALIDATION LOSS = 0.3341350537889144\n",
            " At EPOCH = 53 , TRAINING LOSS = 0.3353789045530207 , VALIDATION LOSS = 0.3353789045530207\n",
            " At EPOCH = 54 , TRAINING LOSS = 0.3369986677871031 , VALIDATION LOSS = 0.3369986677871031\n",
            " At EPOCH = 55 , TRAINING LOSS = 0.339037150144577 , VALIDATION LOSS = 0.339037150144577\n",
            " At EPOCH = 56 , TRAINING LOSS = 0.331498896374422 , VALIDATION LOSS = 0.331498896374422\n",
            " At EPOCH = 57 , TRAINING LOSS = 0.32944702926804037 , VALIDATION LOSS = 0.32944702926804037\n",
            " At EPOCH = 58 , TRAINING LOSS = 0.3301594748216517 , VALIDATION LOSS = 0.3301594748216517\n",
            " At EPOCH = 59 , TRAINING LOSS = 0.3307824590626885 , VALIDATION LOSS = 0.3307824590626885\n",
            " At EPOCH = 60 , TRAINING LOSS = 0.33070219790234284 , VALIDATION LOSS = 0.33070219790234284\n",
            " At EPOCH = 61 , TRAINING LOSS = 0.33066091292044697 , VALIDATION LOSS = 0.33066091292044697\n",
            " At EPOCH = 62 , TRAINING LOSS = 0.33117809541085186 , VALIDATION LOSS = 0.33117809541085186\n",
            " At EPOCH = 63 , TRAINING LOSS = 0.3310013325775371 , VALIDATION LOSS = 0.3310013325775371\n",
            " At EPOCH = 64 , TRAINING LOSS = 0.33451004939920764 , VALIDATION LOSS = 0.33451004939920764\n",
            " At EPOCH = 65 , TRAINING LOSS = 0.33008015681715575 , VALIDATION LOSS = 0.33008015681715575\n",
            " At EPOCH = 66 , TRAINING LOSS = 0.329520863645217 , VALIDATION LOSS = 0.329520863645217\n",
            " At EPOCH = 67 , TRAINING LOSS = 0.32965230240541343 , VALIDATION LOSS = 0.32965230240541343\n",
            " At EPOCH = 68 , TRAINING LOSS = 0.3293618700083564 , VALIDATION LOSS = 0.3293618700083564\n",
            " At EPOCH = 69 , TRAINING LOSS = 0.32882533704533295 , VALIDATION LOSS = 0.32882533704533295\n",
            " At EPOCH = 70 , TRAINING LOSS = 0.3288925640723285 , VALIDATION LOSS = 0.3288925640723285\n",
            " At EPOCH = 71 , TRAINING LOSS = 0.3312656756709604 , VALIDATION LOSS = 0.3312656756709604\n",
            " At EPOCH = 72 , TRAINING LOSS = 0.3278164285070756 , VALIDATION LOSS = 0.3278164285070756\n",
            " At EPOCH = 73 , TRAINING LOSS = 0.3326130789868972 , VALIDATION LOSS = 0.3326130789868972\n",
            " At EPOCH = 74 , TRAINING LOSS = 0.3306775759248173 , VALIDATION LOSS = 0.3306775759248173\n",
            " At EPOCH = 75 , TRAINING LOSS = 0.3329646832802716 , VALIDATION LOSS = 0.3329646832802716\n",
            " At EPOCH = 76 , TRAINING LOSS = 0.33162130503093495 , VALIDATION LOSS = 0.33162130503093495\n",
            " At EPOCH = 77 , TRAINING LOSS = 0.3301745740806355 , VALIDATION LOSS = 0.3301745740806355\n",
            " At EPOCH = 78 , TRAINING LOSS = 0.3374833973015056 , VALIDATION LOSS = 0.3374833973015056\n",
            " At EPOCH = 79 , TRAINING LOSS = 0.3572060185320237 , VALIDATION LOSS = 0.3572060185320237\n"
          ]
        },
        {
          "output_type": "display_data",
          "data": {
            "text/plain": [
              "<IPython.core.display.HTML object>"
            ],
            "text/html": [
              "Waiting for W&B process to finish... <strong style=\"color:green\">(success).</strong>"
            ]
          },
          "metadata": {}
        },
        {
          "output_type": "display_data",
          "data": {
            "text/plain": [
              "<IPython.core.display.HTML object>"
            ],
            "text/html": [
              "<style>\n",
              "    table.wandb td:nth-child(1) { padding: 0 10px; text-align: left ; width: auto;} td:nth-child(2) {text-align: left ; width: 100%}\n",
              "    .wandb-row { display: flex; flex-direction: row; flex-wrap: wrap; justify-content: flex-start; width: 100% }\n",
              "    .wandb-col { display: flex; flex-direction: column; flex-basis: 100%; flex: 1; padding: 10px; }\n",
              "    </style>\n",
              "<div class=\"wandb-row\"><div class=\"wandb-col\"><h3>Run history:</h3><br/><table class=\"wandb\"><tr><td>epoch</td><td>▁▁▁▂▂▂▂▂▂▃▃▃▃▃▃▄▄▄▄▄▅▅▅▅▅▅▆▆▆▆▆▆▇▇▇▇▇███</td></tr><tr><td>train_loss</td><td>█▂▂▂▂▂▂▂▂▂▁▂▁▁▁▁▁▁▁▁▁▁▁▁▁▁▁▁▁▁▁▁▁▁▁▁▁▁▁▂</td></tr><tr><td>val_loss</td><td>█▆▅▄▅▄▃▃▃▃▂▃▂▃▂▂▂▂▂▃▂▂▁▂▂▁▁▂▁▁▁▂▂▁▁▁▁▁▁▂</td></tr></table><br/></div><div class=\"wandb-col\"><h3>Run summary:</h3><br/><table class=\"wandb\"><tr><td>epoch</td><td>79</td></tr><tr><td>train_loss</td><td>0.35721</td></tr><tr><td>val_loss</td><td>0.33236</td></tr></table><br/></div></div>"
            ]
          },
          "metadata": {}
        },
        {
          "output_type": "display_data",
          "data": {
            "text/plain": [
              "<IPython.core.display.HTML object>"
            ],
            "text/html": [
              " View run <strong style=\"color:#cdcd00\">rich-forest-4</strong> at: <a href='https://wandb.ai/spathak31121997/mRNA-Stabilization-test-2/runs/0gwys9xa' target=\"_blank\">https://wandb.ai/spathak31121997/mRNA-Stabilization-test-2/runs/0gwys9xa</a><br/>Synced 5 W&B file(s), 0 media file(s), 0 artifact file(s) and 0 other file(s)"
            ]
          },
          "metadata": {}
        },
        {
          "output_type": "display_data",
          "data": {
            "text/plain": [
              "<IPython.core.display.HTML object>"
            ],
            "text/html": [
              "Find logs at: <code>./wandb/run-20230330_033841-0gwys9xa/logs</code>"
            ]
          },
          "metadata": {}
        }
      ],
      "source": [
        "def train(x_train, y_train, train_config):\n",
        "  x_train = x_train.to(device)\n",
        "  y_train = y_train.to(device)\n",
        "\n",
        "  train_val_losses = []\n",
        "\n",
        "  criterion = MeanColumnwiseRMSE(len(labels))\n",
        "  kcv = KFold(train_config.k_fold, shuffle=True, random_state=2023)\n",
        "\n",
        "  for k, (train_index, val_index) in enumerate(kcv.split(x_train)):\n",
        "      train_dataset = TensorDataset(x_train[train_index], y_train[train_index])\n",
        "      val_dataset = TensorDataset(x_train[val_index], y_train[val_index])\n",
        "\n",
        "      train_loader = DataLoader(train_dataset, shuffle=True, batch_size=train_config.batch_size)\n",
        "      val_loader = DataLoader(val_dataset, shuffle=False, batch_size=train_config.batch_size)\n",
        "\n",
        "      bi_gru = bi_GRU(train_config, public_data=True).to(device)\n",
        "      optimizer = optim.Adam(bi_gru.parameters(), lr=train_config.learning_rate)\n",
        "\n",
        "      train_losses_epoch = []\n",
        "      val_losses_epoch = []\n",
        "      run = wandb.init(reinit = True, project=\"mRNA-Stabilization-test-2\", config = train_config)\n",
        "\n",
        "      for epoch in tqdm(range(train_config.epochs)):\n",
        "          train_losses_batch = []\n",
        "          val_losses_batch = []\n",
        "\n",
        "          for (batch_X, batch_Y) in train_loader:\n",
        "              training = Train(batch_X.to(device), batch_Y.to(device), bi_gru, criterion, optimizer, training=True)\n",
        "              train_loss = training.train_step()\n",
        "              train_losses_batch.append(train_loss)\n",
        "          train_losses_epoch.append(np.mean(train_losses_batch))\n",
        "\n",
        "          for (batch_X, batch_Y) in val_loader:\n",
        "              validation = Train(batch_X.to(device), batch_Y.to(device), bi_gru, criterion, optimizer, training=False)\n",
        "              val_loss = validation.train_step()\n",
        "              val_losses_batch.append(val_loss)\n",
        "          val_losses_epoch.append(np.mean(val_losses_batch))\n",
        "\n",
        "          wandb.log({\n",
        "              \"epoch\": epoch, \n",
        "              \"train_loss\": np.mean(train_losses_batch), \n",
        "              \"val_loss\": np.mean(val_losses_batch)\n",
        "              })\n",
        "          \n",
        "          print(f\" At EPOCH = {epoch} , TRAINING LOSS = {np.mean(train_losses_batch)} , VALIDATION LOSS = {np.mean(train_losses_batch)}\")\n",
        "      \n",
        "      run.finish()\n",
        "      train_val_losses.append({'train_loss': train_losses_epoch, 'val_loss': val_losses_epoch})\n",
        "\n",
        "  torch.save(bi_gru.state_dict(), \"/content/drive/MyDrive/Bio_informatics_Project/bi-gru.pt\")\n",
        "  del bi_gru\n",
        "  return train_val_losses\n",
        "\n",
        "train_val_losses = train(x_train, y_train, train_config)"
      ]
    },
    {
      "cell_type": "markdown",
      "source": [
        "# Inference class for different packages\n",
        "Note: Mean for each labels predicted over different sequence length is calculated and showed "
      ],
      "metadata": {
        "id": "5Vq10V0nnnwq"
      }
    },
    {
      "cell_type": "code",
      "source": [
        "class DataFrameMeanLabelValues:\n",
        "  def __init__(self, df, test_loader, model_path = \"/content/drive/MyDrive/Bio_informatics_Project/bi-gru.pt\",\n",
        "               config=train_config, public=False, private=False):\n",
        "    self.df = df\n",
        "    self.config = config\n",
        "    self.path = model_path\n",
        "    self.is_public = public\n",
        "    self.is_private = private\n",
        "    self.x_test = test_loader\n",
        "\n",
        "  def load_model(self):\n",
        "      bi_gru = bi_GRU(self.config, self.is_public, self.is_private).to(device)\n",
        "      bi_gru.load_state_dict(torch.load(self.path))\n",
        "      return bi_gru\n",
        "  \n",
        "  def get_prediction(self):\n",
        "    if self.is_public:\n",
        "      gru_pred = np.ndarray((0, 68, len(labels)))\n",
        "    elif self.is_private:\n",
        "      gru_pred = np.ndarray((0, 91, len(labels)))\n",
        "    \n",
        "    model = self.load_model()\n",
        "    model.eval()\n",
        "\n",
        "    for batch in self.x_test:\n",
        "        x = batch[0]\n",
        "        y_pred = model(x).detach().cpu().numpy()\n",
        "        gru_pred = np.concatenate([gru_pred, y_pred], axis=0)\n",
        "  \n",
        "    return gru_pred\n",
        "\n",
        "  def get_df(self):\n",
        "    gru_pred = self.get_prediction()\n",
        "    samples_prediction_list = []\n",
        "    for i in range(len(gru_pred)):\n",
        "      pred_i = gru_pred[i].transpose()\n",
        "      sample_i = {}\n",
        "      for j in range(len(labels)):\n",
        "        # taking the mean of each labels predicted\n",
        "        sample_i[labels[j]] = np.array(pred_i[j]).mean()\n",
        "      samples_prediction_list.append(sample_i)\n",
        "    \n",
        "    package_df = pd.DataFrame(samples_prediction_list)\n",
        "    package_df['seq_id'] = self.df['id'].values\n",
        "    package_df['package'] = self.df['package'].values\n",
        "\n",
        "    return package_df"
      ],
      "metadata": {
        "id": "0_dEFV24oz9u"
      },
      "execution_count": 27,
      "outputs": []
    },
    {
      "cell_type": "markdown",
      "source": [
        "# VIENNA Inference"
      ],
      "metadata": {
        "id": "CCuGI08nwH6q"
      }
    },
    {
      "cell_type": "code",
      "source": [
        "\"\"\"\n",
        "Vienna Package Inference\n",
        "\"\"\"\n",
        "#PRIVATE TEST DATA\n",
        "make_priv_df = DataFrameMeanLabelValues(vienna_private_df, vienna_private_loader, private=True)\n",
        "vienna_pred_priv_df = make_priv_df.get_df()\n",
        "vienna_pred_priv_df.head()\n",
        "\n",
        "#PUBLIC TEST DATA\n",
        "make_pub_df = DataFrameMeanLabelValues(vienna_public_df, vienna_public_loader, public=True)\n",
        "vienna_pred_pub_df = make_pub_df.get_df()\n",
        "vienna_pred_pub_df.head()"
      ],
      "metadata": {
        "id": "NNXG8uV5tdZN"
      },
      "execution_count": null,
      "outputs": []
    },
    {
      "cell_type": "markdown",
      "source": [
        "#CONTRAFOLD Inference"
      ],
      "metadata": {
        "id": "BfcIIu8XwYjd"
      }
    },
    {
      "cell_type": "code",
      "source": [
        "\"\"\"\n",
        "Contrafold Package Inference\n",
        "\"\"\"\n",
        "#PRIVATE TEST DATA\n",
        "make_priv_df = DataFrameMeanLabelValues(contrafold_private_df, contrafold_private_loader, private=True)\n",
        "contrafold_pred_priv_df = make_priv_df.get_df()\n",
        "contrafold_pred_priv_df.head()\n",
        "\n",
        "#PUBLIC TEST DATA\n",
        "make_pub_df = DataFrameMeanLabelValues(contrafold_public_df, contrafold_public_loader, public=True)\n",
        "contrafold_pred_pub_df = make_pub_df.get_df()\n",
        "contrafold_pred_pub_df.head()"
      ],
      "metadata": {
        "colab": {
          "base_uri": "https://localhost:8080/",
          "height": 206
        },
        "id": "xCMARqZKwX3u",
        "outputId": "4f43eca4-6bae-4ac3-c993-fcd5cfc506ac"
      },
      "execution_count": 30,
      "outputs": [
        {
          "output_type": "execute_result",
          "data": {
            "text/plain": [
              "   reactivity  deg_Mg_pH10  deg_pH10  deg_Mg_50C   deg_50C        seq_id  \\\n",
              "0    0.552369     0.566699  0.550572    0.549704  0.548350  id_1e12f72c3   \n",
              "1    0.347275     0.382094  0.311593    0.235968  0.265955  id_ca6c4da32   \n",
              "2    0.583592     0.614946  0.600314    0.590690  0.587069  id_b00d6848f   \n",
              "3    0.628080     0.639352  0.555866    0.553060  0.550251  id_d6ec3fbe5   \n",
              "4    0.490323     0.480644  0.414777    0.366376  0.402031  id_95cc6d29d   \n",
              "\n",
              "        package  \n",
              "0  contrafold_2  \n",
              "1  contrafold_2  \n",
              "2  contrafold_2  \n",
              "3  contrafold_2  \n",
              "4  contrafold_2  "
            ],
            "text/html": [
              "\n",
              "  <div id=\"df-7595afcb-7bbe-41e8-ac96-6ad97c5b130b\">\n",
              "    <div class=\"colab-df-container\">\n",
              "      <div>\n",
              "<style scoped>\n",
              "    .dataframe tbody tr th:only-of-type {\n",
              "        vertical-align: middle;\n",
              "    }\n",
              "\n",
              "    .dataframe tbody tr th {\n",
              "        vertical-align: top;\n",
              "    }\n",
              "\n",
              "    .dataframe thead th {\n",
              "        text-align: right;\n",
              "    }\n",
              "</style>\n",
              "<table border=\"1\" class=\"dataframe\">\n",
              "  <thead>\n",
              "    <tr style=\"text-align: right;\">\n",
              "      <th></th>\n",
              "      <th>reactivity</th>\n",
              "      <th>deg_Mg_pH10</th>\n",
              "      <th>deg_pH10</th>\n",
              "      <th>deg_Mg_50C</th>\n",
              "      <th>deg_50C</th>\n",
              "      <th>seq_id</th>\n",
              "      <th>package</th>\n",
              "    </tr>\n",
              "  </thead>\n",
              "  <tbody>\n",
              "    <tr>\n",
              "      <th>0</th>\n",
              "      <td>0.552369</td>\n",
              "      <td>0.566699</td>\n",
              "      <td>0.550572</td>\n",
              "      <td>0.549704</td>\n",
              "      <td>0.548350</td>\n",
              "      <td>id_1e12f72c3</td>\n",
              "      <td>contrafold_2</td>\n",
              "    </tr>\n",
              "    <tr>\n",
              "      <th>1</th>\n",
              "      <td>0.347275</td>\n",
              "      <td>0.382094</td>\n",
              "      <td>0.311593</td>\n",
              "      <td>0.235968</td>\n",
              "      <td>0.265955</td>\n",
              "      <td>id_ca6c4da32</td>\n",
              "      <td>contrafold_2</td>\n",
              "    </tr>\n",
              "    <tr>\n",
              "      <th>2</th>\n",
              "      <td>0.583592</td>\n",
              "      <td>0.614946</td>\n",
              "      <td>0.600314</td>\n",
              "      <td>0.590690</td>\n",
              "      <td>0.587069</td>\n",
              "      <td>id_b00d6848f</td>\n",
              "      <td>contrafold_2</td>\n",
              "    </tr>\n",
              "    <tr>\n",
              "      <th>3</th>\n",
              "      <td>0.628080</td>\n",
              "      <td>0.639352</td>\n",
              "      <td>0.555866</td>\n",
              "      <td>0.553060</td>\n",
              "      <td>0.550251</td>\n",
              "      <td>id_d6ec3fbe5</td>\n",
              "      <td>contrafold_2</td>\n",
              "    </tr>\n",
              "    <tr>\n",
              "      <th>4</th>\n",
              "      <td>0.490323</td>\n",
              "      <td>0.480644</td>\n",
              "      <td>0.414777</td>\n",
              "      <td>0.366376</td>\n",
              "      <td>0.402031</td>\n",
              "      <td>id_95cc6d29d</td>\n",
              "      <td>contrafold_2</td>\n",
              "    </tr>\n",
              "  </tbody>\n",
              "</table>\n",
              "</div>\n",
              "      <button class=\"colab-df-convert\" onclick=\"convertToInteractive('df-7595afcb-7bbe-41e8-ac96-6ad97c5b130b')\"\n",
              "              title=\"Convert this dataframe to an interactive table.\"\n",
              "              style=\"display:none;\">\n",
              "        \n",
              "  <svg xmlns=\"http://www.w3.org/2000/svg\" height=\"24px\"viewBox=\"0 0 24 24\"\n",
              "       width=\"24px\">\n",
              "    <path d=\"M0 0h24v24H0V0z\" fill=\"none\"/>\n",
              "    <path d=\"M18.56 5.44l.94 2.06.94-2.06 2.06-.94-2.06-.94-.94-2.06-.94 2.06-2.06.94zm-11 1L8.5 8.5l.94-2.06 2.06-.94-2.06-.94L8.5 2.5l-.94 2.06-2.06.94zm10 10l.94 2.06.94-2.06 2.06-.94-2.06-.94-.94-2.06-.94 2.06-2.06.94z\"/><path d=\"M17.41 7.96l-1.37-1.37c-.4-.4-.92-.59-1.43-.59-.52 0-1.04.2-1.43.59L10.3 9.45l-7.72 7.72c-.78.78-.78 2.05 0 2.83L4 21.41c.39.39.9.59 1.41.59.51 0 1.02-.2 1.41-.59l7.78-7.78 2.81-2.81c.8-.78.8-2.07 0-2.86zM5.41 20L4 18.59l7.72-7.72 1.47 1.35L5.41 20z\"/>\n",
              "  </svg>\n",
              "      </button>\n",
              "      \n",
              "  <style>\n",
              "    .colab-df-container {\n",
              "      display:flex;\n",
              "      flex-wrap:wrap;\n",
              "      gap: 12px;\n",
              "    }\n",
              "\n",
              "    .colab-df-convert {\n",
              "      background-color: #E8F0FE;\n",
              "      border: none;\n",
              "      border-radius: 50%;\n",
              "      cursor: pointer;\n",
              "      display: none;\n",
              "      fill: #1967D2;\n",
              "      height: 32px;\n",
              "      padding: 0 0 0 0;\n",
              "      width: 32px;\n",
              "    }\n",
              "\n",
              "    .colab-df-convert:hover {\n",
              "      background-color: #E2EBFA;\n",
              "      box-shadow: 0px 1px 2px rgba(60, 64, 67, 0.3), 0px 1px 3px 1px rgba(60, 64, 67, 0.15);\n",
              "      fill: #174EA6;\n",
              "    }\n",
              "\n",
              "    [theme=dark] .colab-df-convert {\n",
              "      background-color: #3B4455;\n",
              "      fill: #D2E3FC;\n",
              "    }\n",
              "\n",
              "    [theme=dark] .colab-df-convert:hover {\n",
              "      background-color: #434B5C;\n",
              "      box-shadow: 0px 1px 3px 1px rgba(0, 0, 0, 0.15);\n",
              "      filter: drop-shadow(0px 1px 2px rgba(0, 0, 0, 0.3));\n",
              "      fill: #FFFFFF;\n",
              "    }\n",
              "  </style>\n",
              "\n",
              "      <script>\n",
              "        const buttonEl =\n",
              "          document.querySelector('#df-7595afcb-7bbe-41e8-ac96-6ad97c5b130b button.colab-df-convert');\n",
              "        buttonEl.style.display =\n",
              "          google.colab.kernel.accessAllowed ? 'block' : 'none';\n",
              "\n",
              "        async function convertToInteractive(key) {\n",
              "          const element = document.querySelector('#df-7595afcb-7bbe-41e8-ac96-6ad97c5b130b');\n",
              "          const dataTable =\n",
              "            await google.colab.kernel.invokeFunction('convertToInteractive',\n",
              "                                                     [key], {});\n",
              "          if (!dataTable) return;\n",
              "\n",
              "          const docLinkHtml = 'Like what you see? Visit the ' +\n",
              "            '<a target=\"_blank\" href=https://colab.research.google.com/notebooks/data_table.ipynb>data table notebook</a>'\n",
              "            + ' to learn more about interactive tables.';\n",
              "          element.innerHTML = '';\n",
              "          dataTable['output_type'] = 'display_data';\n",
              "          await google.colab.output.renderOutput(dataTable, element);\n",
              "          const docLink = document.createElement('div');\n",
              "          docLink.innerHTML = docLinkHtml;\n",
              "          element.appendChild(docLink);\n",
              "        }\n",
              "      </script>\n",
              "    </div>\n",
              "  </div>\n",
              "  "
            ]
          },
          "metadata": {},
          "execution_count": 30
        }
      ]
    },
    {
      "cell_type": "markdown",
      "source": [
        "# RNASTRUCTURE Inference"
      ],
      "metadata": {
        "id": "FnqB4D_CxOGf"
      }
    },
    {
      "cell_type": "code",
      "source": [
        "\"\"\"\n",
        "Rnastructure Package Inference\n",
        "\"\"\"\n",
        "#PRIVATE TEST DATA\n",
        "make_priv_df = DataFrameMeanLabelValues(rnastructure_private_df, rnastructure_private_loader, private=True)\n",
        "rnastructure_pred_priv_df = make_priv_df.get_df()\n",
        "rnastructure_pred_priv_df.head()\n",
        "\n",
        "#PUBLIC TEST DATA\n",
        "make_pub_df = DataFrameMeanLabelValues(rnastructure_public_df, rnastructure_public_loader, public=True)\n",
        "rnastructure_pred_pub_df = make_pub_df.get_df()\n",
        "rnastructure_pred_pub_df.head()"
      ],
      "metadata": {
        "colab": {
          "base_uri": "https://localhost:8080/",
          "height": 206
        },
        "id": "pAClAx9YxRp2",
        "outputId": "f337308f-8d8c-4815-8306-2b1755777c1e"
      },
      "execution_count": 31,
      "outputs": [
        {
          "output_type": "execute_result",
          "data": {
            "text/plain": [
              "   reactivity  deg_Mg_pH10  deg_pH10  deg_Mg_50C   deg_50C        seq_id  \\\n",
              "0    0.568796     0.579752  0.547434    0.549014  0.551377  id_1e12f72c3   \n",
              "1    0.353624     0.388281  0.316046    0.241316  0.271593  id_ca6c4da32   \n",
              "2    0.633281     0.677410  0.566803    0.558570  0.555270  id_b00d6848f   \n",
              "3    0.519159     0.536755  0.457594    0.420628  0.438009  id_d6ec3fbe5   \n",
              "4    0.465244     0.458547  0.394529    0.343504  0.381389  id_95cc6d29d   \n",
              "\n",
              "        package  \n",
              "0  rnastructure  \n",
              "1  rnastructure  \n",
              "2  rnastructure  \n",
              "3  rnastructure  \n",
              "4  rnastructure  "
            ],
            "text/html": [
              "\n",
              "  <div id=\"df-6f502a83-1d4c-4f2b-9e56-f9d0068ef689\">\n",
              "    <div class=\"colab-df-container\">\n",
              "      <div>\n",
              "<style scoped>\n",
              "    .dataframe tbody tr th:only-of-type {\n",
              "        vertical-align: middle;\n",
              "    }\n",
              "\n",
              "    .dataframe tbody tr th {\n",
              "        vertical-align: top;\n",
              "    }\n",
              "\n",
              "    .dataframe thead th {\n",
              "        text-align: right;\n",
              "    }\n",
              "</style>\n",
              "<table border=\"1\" class=\"dataframe\">\n",
              "  <thead>\n",
              "    <tr style=\"text-align: right;\">\n",
              "      <th></th>\n",
              "      <th>reactivity</th>\n",
              "      <th>deg_Mg_pH10</th>\n",
              "      <th>deg_pH10</th>\n",
              "      <th>deg_Mg_50C</th>\n",
              "      <th>deg_50C</th>\n",
              "      <th>seq_id</th>\n",
              "      <th>package</th>\n",
              "    </tr>\n",
              "  </thead>\n",
              "  <tbody>\n",
              "    <tr>\n",
              "      <th>0</th>\n",
              "      <td>0.568796</td>\n",
              "      <td>0.579752</td>\n",
              "      <td>0.547434</td>\n",
              "      <td>0.549014</td>\n",
              "      <td>0.551377</td>\n",
              "      <td>id_1e12f72c3</td>\n",
              "      <td>rnastructure</td>\n",
              "    </tr>\n",
              "    <tr>\n",
              "      <th>1</th>\n",
              "      <td>0.353624</td>\n",
              "      <td>0.388281</td>\n",
              "      <td>0.316046</td>\n",
              "      <td>0.241316</td>\n",
              "      <td>0.271593</td>\n",
              "      <td>id_ca6c4da32</td>\n",
              "      <td>rnastructure</td>\n",
              "    </tr>\n",
              "    <tr>\n",
              "      <th>2</th>\n",
              "      <td>0.633281</td>\n",
              "      <td>0.677410</td>\n",
              "      <td>0.566803</td>\n",
              "      <td>0.558570</td>\n",
              "      <td>0.555270</td>\n",
              "      <td>id_b00d6848f</td>\n",
              "      <td>rnastructure</td>\n",
              "    </tr>\n",
              "    <tr>\n",
              "      <th>3</th>\n",
              "      <td>0.519159</td>\n",
              "      <td>0.536755</td>\n",
              "      <td>0.457594</td>\n",
              "      <td>0.420628</td>\n",
              "      <td>0.438009</td>\n",
              "      <td>id_d6ec3fbe5</td>\n",
              "      <td>rnastructure</td>\n",
              "    </tr>\n",
              "    <tr>\n",
              "      <th>4</th>\n",
              "      <td>0.465244</td>\n",
              "      <td>0.458547</td>\n",
              "      <td>0.394529</td>\n",
              "      <td>0.343504</td>\n",
              "      <td>0.381389</td>\n",
              "      <td>id_95cc6d29d</td>\n",
              "      <td>rnastructure</td>\n",
              "    </tr>\n",
              "  </tbody>\n",
              "</table>\n",
              "</div>\n",
              "      <button class=\"colab-df-convert\" onclick=\"convertToInteractive('df-6f502a83-1d4c-4f2b-9e56-f9d0068ef689')\"\n",
              "              title=\"Convert this dataframe to an interactive table.\"\n",
              "              style=\"display:none;\">\n",
              "        \n",
              "  <svg xmlns=\"http://www.w3.org/2000/svg\" height=\"24px\"viewBox=\"0 0 24 24\"\n",
              "       width=\"24px\">\n",
              "    <path d=\"M0 0h24v24H0V0z\" fill=\"none\"/>\n",
              "    <path d=\"M18.56 5.44l.94 2.06.94-2.06 2.06-.94-2.06-.94-.94-2.06-.94 2.06-2.06.94zm-11 1L8.5 8.5l.94-2.06 2.06-.94-2.06-.94L8.5 2.5l-.94 2.06-2.06.94zm10 10l.94 2.06.94-2.06 2.06-.94-2.06-.94-.94-2.06-.94 2.06-2.06.94z\"/><path d=\"M17.41 7.96l-1.37-1.37c-.4-.4-.92-.59-1.43-.59-.52 0-1.04.2-1.43.59L10.3 9.45l-7.72 7.72c-.78.78-.78 2.05 0 2.83L4 21.41c.39.39.9.59 1.41.59.51 0 1.02-.2 1.41-.59l7.78-7.78 2.81-2.81c.8-.78.8-2.07 0-2.86zM5.41 20L4 18.59l7.72-7.72 1.47 1.35L5.41 20z\"/>\n",
              "  </svg>\n",
              "      </button>\n",
              "      \n",
              "  <style>\n",
              "    .colab-df-container {\n",
              "      display:flex;\n",
              "      flex-wrap:wrap;\n",
              "      gap: 12px;\n",
              "    }\n",
              "\n",
              "    .colab-df-convert {\n",
              "      background-color: #E8F0FE;\n",
              "      border: none;\n",
              "      border-radius: 50%;\n",
              "      cursor: pointer;\n",
              "      display: none;\n",
              "      fill: #1967D2;\n",
              "      height: 32px;\n",
              "      padding: 0 0 0 0;\n",
              "      width: 32px;\n",
              "    }\n",
              "\n",
              "    .colab-df-convert:hover {\n",
              "      background-color: #E2EBFA;\n",
              "      box-shadow: 0px 1px 2px rgba(60, 64, 67, 0.3), 0px 1px 3px 1px rgba(60, 64, 67, 0.15);\n",
              "      fill: #174EA6;\n",
              "    }\n",
              "\n",
              "    [theme=dark] .colab-df-convert {\n",
              "      background-color: #3B4455;\n",
              "      fill: #D2E3FC;\n",
              "    }\n",
              "\n",
              "    [theme=dark] .colab-df-convert:hover {\n",
              "      background-color: #434B5C;\n",
              "      box-shadow: 0px 1px 3px 1px rgba(0, 0, 0, 0.15);\n",
              "      filter: drop-shadow(0px 1px 2px rgba(0, 0, 0, 0.3));\n",
              "      fill: #FFFFFF;\n",
              "    }\n",
              "  </style>\n",
              "\n",
              "      <script>\n",
              "        const buttonEl =\n",
              "          document.querySelector('#df-6f502a83-1d4c-4f2b-9e56-f9d0068ef689 button.colab-df-convert');\n",
              "        buttonEl.style.display =\n",
              "          google.colab.kernel.accessAllowed ? 'block' : 'none';\n",
              "\n",
              "        async function convertToInteractive(key) {\n",
              "          const element = document.querySelector('#df-6f502a83-1d4c-4f2b-9e56-f9d0068ef689');\n",
              "          const dataTable =\n",
              "            await google.colab.kernel.invokeFunction('convertToInteractive',\n",
              "                                                     [key], {});\n",
              "          if (!dataTable) return;\n",
              "\n",
              "          const docLinkHtml = 'Like what you see? Visit the ' +\n",
              "            '<a target=\"_blank\" href=https://colab.research.google.com/notebooks/data_table.ipynb>data table notebook</a>'\n",
              "            + ' to learn more about interactive tables.';\n",
              "          element.innerHTML = '';\n",
              "          dataTable['output_type'] = 'display_data';\n",
              "          await google.colab.output.renderOutput(dataTable, element);\n",
              "          const docLink = document.createElement('div');\n",
              "          docLink.innerHTML = docLinkHtml;\n",
              "          element.appendChild(docLink);\n",
              "        }\n",
              "      </script>\n",
              "    </div>\n",
              "  </div>\n",
              "  "
            ]
          },
          "metadata": {},
          "execution_count": 31
        }
      ]
    }
  ],
  "metadata": {
    "colab": {
      "provenance": [],
      "toc_visible": true,
      "authorship_tag": "ABX9TyMzd9MQ2ycx9cR6R+3vGr1I",
      "include_colab_link": true
    },
    "gpuClass": "standard",
    "kernelspec": {
      "display_name": "Python 3",
      "name": "python3"
    },
    "language_info": {
      "name": "python"
    },
    "widgets": {
      "application/vnd.jupyter.widget-state+json": {
        "09018e44b1af425681a01ee699eb60b7": {
          "model_module": "@jupyter-widgets/controls",
          "model_name": "HBoxModel",
          "model_module_version": "1.5.0",
          "state": {
            "_dom_classes": [],
            "_model_module": "@jupyter-widgets/controls",
            "_model_module_version": "1.5.0",
            "_model_name": "HBoxModel",
            "_view_count": null,
            "_view_module": "@jupyter-widgets/controls",
            "_view_module_version": "1.5.0",
            "_view_name": "HBoxView",
            "box_style": "",
            "children": [
              "IPY_MODEL_e6f4053497de498d9f84c76cacf49054",
              "IPY_MODEL_9c616941018544e1adb371e72c9da3cb",
              "IPY_MODEL_708b8aa0ca164feda79d4abbc2bfc73d"
            ],
            "layout": "IPY_MODEL_4f4f15659e2c419a9457a5e34153ae13"
          }
        },
        "e6f4053497de498d9f84c76cacf49054": {
          "model_module": "@jupyter-widgets/controls",
          "model_name": "HTMLModel",
          "model_module_version": "1.5.0",
          "state": {
            "_dom_classes": [],
            "_model_module": "@jupyter-widgets/controls",
            "_model_module_version": "1.5.0",
            "_model_name": "HTMLModel",
            "_view_count": null,
            "_view_module": "@jupyter-widgets/controls",
            "_view_module_version": "1.5.0",
            "_view_name": "HTMLView",
            "description": "",
            "description_tooltip": null,
            "layout": "IPY_MODEL_4a2f91014631451dbeecbf3b259afc8c",
            "placeholder": "​",
            "style": "IPY_MODEL_4f188244d8474cb49dac3db44b9ead5c",
            "value": "100%"
          }
        },
        "9c616941018544e1adb371e72c9da3cb": {
          "model_module": "@jupyter-widgets/controls",
          "model_name": "FloatProgressModel",
          "model_module_version": "1.5.0",
          "state": {
            "_dom_classes": [],
            "_model_module": "@jupyter-widgets/controls",
            "_model_module_version": "1.5.0",
            "_model_name": "FloatProgressModel",
            "_view_count": null,
            "_view_module": "@jupyter-widgets/controls",
            "_view_module_version": "1.5.0",
            "_view_name": "ProgressView",
            "bar_style": "success",
            "description": "",
            "description_tooltip": null,
            "layout": "IPY_MODEL_55e1af8f7e5042468750b1e8a325acb3",
            "max": 80,
            "min": 0,
            "orientation": "horizontal",
            "style": "IPY_MODEL_b88a51360e2243c48973b19298619276",
            "value": 80
          }
        },
        "708b8aa0ca164feda79d4abbc2bfc73d": {
          "model_module": "@jupyter-widgets/controls",
          "model_name": "HTMLModel",
          "model_module_version": "1.5.0",
          "state": {
            "_dom_classes": [],
            "_model_module": "@jupyter-widgets/controls",
            "_model_module_version": "1.5.0",
            "_model_name": "HTMLModel",
            "_view_count": null,
            "_view_module": "@jupyter-widgets/controls",
            "_view_module_version": "1.5.0",
            "_view_name": "HTMLView",
            "description": "",
            "description_tooltip": null,
            "layout": "IPY_MODEL_f6ef91df05a245419e4dcd536ff5a8f0",
            "placeholder": "​",
            "style": "IPY_MODEL_87cb9ca47667432791df6847122c09ea",
            "value": " 80/80 [03:04&lt;00:00,  5.83s/it]"
          }
        },
        "4f4f15659e2c419a9457a5e34153ae13": {
          "model_module": "@jupyter-widgets/base",
          "model_name": "LayoutModel",
          "model_module_version": "1.2.0",
          "state": {
            "_model_module": "@jupyter-widgets/base",
            "_model_module_version": "1.2.0",
            "_model_name": "LayoutModel",
            "_view_count": null,
            "_view_module": "@jupyter-widgets/base",
            "_view_module_version": "1.2.0",
            "_view_name": "LayoutView",
            "align_content": null,
            "align_items": null,
            "align_self": null,
            "border": null,
            "bottom": null,
            "display": null,
            "flex": null,
            "flex_flow": null,
            "grid_area": null,
            "grid_auto_columns": null,
            "grid_auto_flow": null,
            "grid_auto_rows": null,
            "grid_column": null,
            "grid_gap": null,
            "grid_row": null,
            "grid_template_areas": null,
            "grid_template_columns": null,
            "grid_template_rows": null,
            "height": null,
            "justify_content": null,
            "justify_items": null,
            "left": null,
            "margin": null,
            "max_height": null,
            "max_width": null,
            "min_height": null,
            "min_width": null,
            "object_fit": null,
            "object_position": null,
            "order": null,
            "overflow": null,
            "overflow_x": null,
            "overflow_y": null,
            "padding": null,
            "right": null,
            "top": null,
            "visibility": null,
            "width": null
          }
        },
        "4a2f91014631451dbeecbf3b259afc8c": {
          "model_module": "@jupyter-widgets/base",
          "model_name": "LayoutModel",
          "model_module_version": "1.2.0",
          "state": {
            "_model_module": "@jupyter-widgets/base",
            "_model_module_version": "1.2.0",
            "_model_name": "LayoutModel",
            "_view_count": null,
            "_view_module": "@jupyter-widgets/base",
            "_view_module_version": "1.2.0",
            "_view_name": "LayoutView",
            "align_content": null,
            "align_items": null,
            "align_self": null,
            "border": null,
            "bottom": null,
            "display": null,
            "flex": null,
            "flex_flow": null,
            "grid_area": null,
            "grid_auto_columns": null,
            "grid_auto_flow": null,
            "grid_auto_rows": null,
            "grid_column": null,
            "grid_gap": null,
            "grid_row": null,
            "grid_template_areas": null,
            "grid_template_columns": null,
            "grid_template_rows": null,
            "height": null,
            "justify_content": null,
            "justify_items": null,
            "left": null,
            "margin": null,
            "max_height": null,
            "max_width": null,
            "min_height": null,
            "min_width": null,
            "object_fit": null,
            "object_position": null,
            "order": null,
            "overflow": null,
            "overflow_x": null,
            "overflow_y": null,
            "padding": null,
            "right": null,
            "top": null,
            "visibility": null,
            "width": null
          }
        },
        "4f188244d8474cb49dac3db44b9ead5c": {
          "model_module": "@jupyter-widgets/controls",
          "model_name": "DescriptionStyleModel",
          "model_module_version": "1.5.0",
          "state": {
            "_model_module": "@jupyter-widgets/controls",
            "_model_module_version": "1.5.0",
            "_model_name": "DescriptionStyleModel",
            "_view_count": null,
            "_view_module": "@jupyter-widgets/base",
            "_view_module_version": "1.2.0",
            "_view_name": "StyleView",
            "description_width": ""
          }
        },
        "55e1af8f7e5042468750b1e8a325acb3": {
          "model_module": "@jupyter-widgets/base",
          "model_name": "LayoutModel",
          "model_module_version": "1.2.0",
          "state": {
            "_model_module": "@jupyter-widgets/base",
            "_model_module_version": "1.2.0",
            "_model_name": "LayoutModel",
            "_view_count": null,
            "_view_module": "@jupyter-widgets/base",
            "_view_module_version": "1.2.0",
            "_view_name": "LayoutView",
            "align_content": null,
            "align_items": null,
            "align_self": null,
            "border": null,
            "bottom": null,
            "display": null,
            "flex": null,
            "flex_flow": null,
            "grid_area": null,
            "grid_auto_columns": null,
            "grid_auto_flow": null,
            "grid_auto_rows": null,
            "grid_column": null,
            "grid_gap": null,
            "grid_row": null,
            "grid_template_areas": null,
            "grid_template_columns": null,
            "grid_template_rows": null,
            "height": null,
            "justify_content": null,
            "justify_items": null,
            "left": null,
            "margin": null,
            "max_height": null,
            "max_width": null,
            "min_height": null,
            "min_width": null,
            "object_fit": null,
            "object_position": null,
            "order": null,
            "overflow": null,
            "overflow_x": null,
            "overflow_y": null,
            "padding": null,
            "right": null,
            "top": null,
            "visibility": null,
            "width": null
          }
        },
        "b88a51360e2243c48973b19298619276": {
          "model_module": "@jupyter-widgets/controls",
          "model_name": "ProgressStyleModel",
          "model_module_version": "1.5.0",
          "state": {
            "_model_module": "@jupyter-widgets/controls",
            "_model_module_version": "1.5.0",
            "_model_name": "ProgressStyleModel",
            "_view_count": null,
            "_view_module": "@jupyter-widgets/base",
            "_view_module_version": "1.2.0",
            "_view_name": "StyleView",
            "bar_color": null,
            "description_width": ""
          }
        },
        "f6ef91df05a245419e4dcd536ff5a8f0": {
          "model_module": "@jupyter-widgets/base",
          "model_name": "LayoutModel",
          "model_module_version": "1.2.0",
          "state": {
            "_model_module": "@jupyter-widgets/base",
            "_model_module_version": "1.2.0",
            "_model_name": "LayoutModel",
            "_view_count": null,
            "_view_module": "@jupyter-widgets/base",
            "_view_module_version": "1.2.0",
            "_view_name": "LayoutView",
            "align_content": null,
            "align_items": null,
            "align_self": null,
            "border": null,
            "bottom": null,
            "display": null,
            "flex": null,
            "flex_flow": null,
            "grid_area": null,
            "grid_auto_columns": null,
            "grid_auto_flow": null,
            "grid_auto_rows": null,
            "grid_column": null,
            "grid_gap": null,
            "grid_row": null,
            "grid_template_areas": null,
            "grid_template_columns": null,
            "grid_template_rows": null,
            "height": null,
            "justify_content": null,
            "justify_items": null,
            "left": null,
            "margin": null,
            "max_height": null,
            "max_width": null,
            "min_height": null,
            "min_width": null,
            "object_fit": null,
            "object_position": null,
            "order": null,
            "overflow": null,
            "overflow_x": null,
            "overflow_y": null,
            "padding": null,
            "right": null,
            "top": null,
            "visibility": null,
            "width": null
          }
        },
        "87cb9ca47667432791df6847122c09ea": {
          "model_module": "@jupyter-widgets/controls",
          "model_name": "DescriptionStyleModel",
          "model_module_version": "1.5.0",
          "state": {
            "_model_module": "@jupyter-widgets/controls",
            "_model_module_version": "1.5.0",
            "_model_name": "DescriptionStyleModel",
            "_view_count": null,
            "_view_module": "@jupyter-widgets/base",
            "_view_module_version": "1.2.0",
            "_view_name": "StyleView",
            "description_width": ""
          }
        },
        "e21b1c03198b4fd79a9ea9b9bb7d89a6": {
          "model_module": "@jupyter-widgets/controls",
          "model_name": "HBoxModel",
          "model_module_version": "1.5.0",
          "state": {
            "_dom_classes": [],
            "_model_module": "@jupyter-widgets/controls",
            "_model_module_version": "1.5.0",
            "_model_name": "HBoxModel",
            "_view_count": null,
            "_view_module": "@jupyter-widgets/controls",
            "_view_module_version": "1.5.0",
            "_view_name": "HBoxView",
            "box_style": "",
            "children": [
              "IPY_MODEL_58d4e6db8e9f49a5851063442f8817e0",
              "IPY_MODEL_6d30124949b5452b8cd7f9dd29c91164",
              "IPY_MODEL_3c58557cd4b2460781b5857de9abf7a3"
            ],
            "layout": "IPY_MODEL_d5742ba0251b46c5a97e35d085ceb494"
          }
        },
        "58d4e6db8e9f49a5851063442f8817e0": {
          "model_module": "@jupyter-widgets/controls",
          "model_name": "HTMLModel",
          "model_module_version": "1.5.0",
          "state": {
            "_dom_classes": [],
            "_model_module": "@jupyter-widgets/controls",
            "_model_module_version": "1.5.0",
            "_model_name": "HTMLModel",
            "_view_count": null,
            "_view_module": "@jupyter-widgets/controls",
            "_view_module_version": "1.5.0",
            "_view_name": "HTMLView",
            "description": "",
            "description_tooltip": null,
            "layout": "IPY_MODEL_6fac462a5c0445bf95c40d4b487198d4",
            "placeholder": "​",
            "style": "IPY_MODEL_6a8913fb0fb24a2690eebc8027ace085",
            "value": "100%"
          }
        },
        "6d30124949b5452b8cd7f9dd29c91164": {
          "model_module": "@jupyter-widgets/controls",
          "model_name": "FloatProgressModel",
          "model_module_version": "1.5.0",
          "state": {
            "_dom_classes": [],
            "_model_module": "@jupyter-widgets/controls",
            "_model_module_version": "1.5.0",
            "_model_name": "FloatProgressModel",
            "_view_count": null,
            "_view_module": "@jupyter-widgets/controls",
            "_view_module_version": "1.5.0",
            "_view_name": "ProgressView",
            "bar_style": "success",
            "description": "",
            "description_tooltip": null,
            "layout": "IPY_MODEL_3fab11df32c146c88c7aac56a693277b",
            "max": 80,
            "min": 0,
            "orientation": "horizontal",
            "style": "IPY_MODEL_9c5a8621072d4a59aa31a677742ea051",
            "value": 80
          }
        },
        "3c58557cd4b2460781b5857de9abf7a3": {
          "model_module": "@jupyter-widgets/controls",
          "model_name": "HTMLModel",
          "model_module_version": "1.5.0",
          "state": {
            "_dom_classes": [],
            "_model_module": "@jupyter-widgets/controls",
            "_model_module_version": "1.5.0",
            "_model_name": "HTMLModel",
            "_view_count": null,
            "_view_module": "@jupyter-widgets/controls",
            "_view_module_version": "1.5.0",
            "_view_name": "HTMLView",
            "description": "",
            "description_tooltip": null,
            "layout": "IPY_MODEL_8fe1ad00275a48ec80e326a20ffb33ef",
            "placeholder": "​",
            "style": "IPY_MODEL_9410e9e00af840c5bc62d16d3e2f0956",
            "value": " 80/80 [03:08&lt;00:00,  5.69s/it]"
          }
        },
        "d5742ba0251b46c5a97e35d085ceb494": {
          "model_module": "@jupyter-widgets/base",
          "model_name": "LayoutModel",
          "model_module_version": "1.2.0",
          "state": {
            "_model_module": "@jupyter-widgets/base",
            "_model_module_version": "1.2.0",
            "_model_name": "LayoutModel",
            "_view_count": null,
            "_view_module": "@jupyter-widgets/base",
            "_view_module_version": "1.2.0",
            "_view_name": "LayoutView",
            "align_content": null,
            "align_items": null,
            "align_self": null,
            "border": null,
            "bottom": null,
            "display": null,
            "flex": null,
            "flex_flow": null,
            "grid_area": null,
            "grid_auto_columns": null,
            "grid_auto_flow": null,
            "grid_auto_rows": null,
            "grid_column": null,
            "grid_gap": null,
            "grid_row": null,
            "grid_template_areas": null,
            "grid_template_columns": null,
            "grid_template_rows": null,
            "height": null,
            "justify_content": null,
            "justify_items": null,
            "left": null,
            "margin": null,
            "max_height": null,
            "max_width": null,
            "min_height": null,
            "min_width": null,
            "object_fit": null,
            "object_position": null,
            "order": null,
            "overflow": null,
            "overflow_x": null,
            "overflow_y": null,
            "padding": null,
            "right": null,
            "top": null,
            "visibility": null,
            "width": null
          }
        },
        "6fac462a5c0445bf95c40d4b487198d4": {
          "model_module": "@jupyter-widgets/base",
          "model_name": "LayoutModel",
          "model_module_version": "1.2.0",
          "state": {
            "_model_module": "@jupyter-widgets/base",
            "_model_module_version": "1.2.0",
            "_model_name": "LayoutModel",
            "_view_count": null,
            "_view_module": "@jupyter-widgets/base",
            "_view_module_version": "1.2.0",
            "_view_name": "LayoutView",
            "align_content": null,
            "align_items": null,
            "align_self": null,
            "border": null,
            "bottom": null,
            "display": null,
            "flex": null,
            "flex_flow": null,
            "grid_area": null,
            "grid_auto_columns": null,
            "grid_auto_flow": null,
            "grid_auto_rows": null,
            "grid_column": null,
            "grid_gap": null,
            "grid_row": null,
            "grid_template_areas": null,
            "grid_template_columns": null,
            "grid_template_rows": null,
            "height": null,
            "justify_content": null,
            "justify_items": null,
            "left": null,
            "margin": null,
            "max_height": null,
            "max_width": null,
            "min_height": null,
            "min_width": null,
            "object_fit": null,
            "object_position": null,
            "order": null,
            "overflow": null,
            "overflow_x": null,
            "overflow_y": null,
            "padding": null,
            "right": null,
            "top": null,
            "visibility": null,
            "width": null
          }
        },
        "6a8913fb0fb24a2690eebc8027ace085": {
          "model_module": "@jupyter-widgets/controls",
          "model_name": "DescriptionStyleModel",
          "model_module_version": "1.5.0",
          "state": {
            "_model_module": "@jupyter-widgets/controls",
            "_model_module_version": "1.5.0",
            "_model_name": "DescriptionStyleModel",
            "_view_count": null,
            "_view_module": "@jupyter-widgets/base",
            "_view_module_version": "1.2.0",
            "_view_name": "StyleView",
            "description_width": ""
          }
        },
        "3fab11df32c146c88c7aac56a693277b": {
          "model_module": "@jupyter-widgets/base",
          "model_name": "LayoutModel",
          "model_module_version": "1.2.0",
          "state": {
            "_model_module": "@jupyter-widgets/base",
            "_model_module_version": "1.2.0",
            "_model_name": "LayoutModel",
            "_view_count": null,
            "_view_module": "@jupyter-widgets/base",
            "_view_module_version": "1.2.0",
            "_view_name": "LayoutView",
            "align_content": null,
            "align_items": null,
            "align_self": null,
            "border": null,
            "bottom": null,
            "display": null,
            "flex": null,
            "flex_flow": null,
            "grid_area": null,
            "grid_auto_columns": null,
            "grid_auto_flow": null,
            "grid_auto_rows": null,
            "grid_column": null,
            "grid_gap": null,
            "grid_row": null,
            "grid_template_areas": null,
            "grid_template_columns": null,
            "grid_template_rows": null,
            "height": null,
            "justify_content": null,
            "justify_items": null,
            "left": null,
            "margin": null,
            "max_height": null,
            "max_width": null,
            "min_height": null,
            "min_width": null,
            "object_fit": null,
            "object_position": null,
            "order": null,
            "overflow": null,
            "overflow_x": null,
            "overflow_y": null,
            "padding": null,
            "right": null,
            "top": null,
            "visibility": null,
            "width": null
          }
        },
        "9c5a8621072d4a59aa31a677742ea051": {
          "model_module": "@jupyter-widgets/controls",
          "model_name": "ProgressStyleModel",
          "model_module_version": "1.5.0",
          "state": {
            "_model_module": "@jupyter-widgets/controls",
            "_model_module_version": "1.5.0",
            "_model_name": "ProgressStyleModel",
            "_view_count": null,
            "_view_module": "@jupyter-widgets/base",
            "_view_module_version": "1.2.0",
            "_view_name": "StyleView",
            "bar_color": null,
            "description_width": ""
          }
        },
        "8fe1ad00275a48ec80e326a20ffb33ef": {
          "model_module": "@jupyter-widgets/base",
          "model_name": "LayoutModel",
          "model_module_version": "1.2.0",
          "state": {
            "_model_module": "@jupyter-widgets/base",
            "_model_module_version": "1.2.0",
            "_model_name": "LayoutModel",
            "_view_count": null,
            "_view_module": "@jupyter-widgets/base",
            "_view_module_version": "1.2.0",
            "_view_name": "LayoutView",
            "align_content": null,
            "align_items": null,
            "align_self": null,
            "border": null,
            "bottom": null,
            "display": null,
            "flex": null,
            "flex_flow": null,
            "grid_area": null,
            "grid_auto_columns": null,
            "grid_auto_flow": null,
            "grid_auto_rows": null,
            "grid_column": null,
            "grid_gap": null,
            "grid_row": null,
            "grid_template_areas": null,
            "grid_template_columns": null,
            "grid_template_rows": null,
            "height": null,
            "justify_content": null,
            "justify_items": null,
            "left": null,
            "margin": null,
            "max_height": null,
            "max_width": null,
            "min_height": null,
            "min_width": null,
            "object_fit": null,
            "object_position": null,
            "order": null,
            "overflow": null,
            "overflow_x": null,
            "overflow_y": null,
            "padding": null,
            "right": null,
            "top": null,
            "visibility": null,
            "width": null
          }
        },
        "9410e9e00af840c5bc62d16d3e2f0956": {
          "model_module": "@jupyter-widgets/controls",
          "model_name": "DescriptionStyleModel",
          "model_module_version": "1.5.0",
          "state": {
            "_model_module": "@jupyter-widgets/controls",
            "_model_module_version": "1.5.0",
            "_model_name": "DescriptionStyleModel",
            "_view_count": null,
            "_view_module": "@jupyter-widgets/base",
            "_view_module_version": "1.2.0",
            "_view_name": "StyleView",
            "description_width": ""
          }
        },
        "ad008bb4df3a4abd99de4ea120fbeec2": {
          "model_module": "@jupyter-widgets/controls",
          "model_name": "HBoxModel",
          "model_module_version": "1.5.0",
          "state": {
            "_dom_classes": [],
            "_model_module": "@jupyter-widgets/controls",
            "_model_module_version": "1.5.0",
            "_model_name": "HBoxModel",
            "_view_count": null,
            "_view_module": "@jupyter-widgets/controls",
            "_view_module_version": "1.5.0",
            "_view_name": "HBoxView",
            "box_style": "",
            "children": [
              "IPY_MODEL_1fcc91204f734eaaafb2ad20267438d7",
              "IPY_MODEL_92c2cd8871af45d2baf5bcad773cad7d",
              "IPY_MODEL_164f48c486ce48a0b1f8453dd876e85b"
            ],
            "layout": "IPY_MODEL_7e831d7e213f479bb4b5f4ee05c4a4fa"
          }
        },
        "1fcc91204f734eaaafb2ad20267438d7": {
          "model_module": "@jupyter-widgets/controls",
          "model_name": "HTMLModel",
          "model_module_version": "1.5.0",
          "state": {
            "_dom_classes": [],
            "_model_module": "@jupyter-widgets/controls",
            "_model_module_version": "1.5.0",
            "_model_name": "HTMLModel",
            "_view_count": null,
            "_view_module": "@jupyter-widgets/controls",
            "_view_module_version": "1.5.0",
            "_view_name": "HTMLView",
            "description": "",
            "description_tooltip": null,
            "layout": "IPY_MODEL_f40605cf3aed474ca74f51cbfb370086",
            "placeholder": "​",
            "style": "IPY_MODEL_75b744348b9e4a11b51622ecb9da9d10",
            "value": "100%"
          }
        },
        "92c2cd8871af45d2baf5bcad773cad7d": {
          "model_module": "@jupyter-widgets/controls",
          "model_name": "FloatProgressModel",
          "model_module_version": "1.5.0",
          "state": {
            "_dom_classes": [],
            "_model_module": "@jupyter-widgets/controls",
            "_model_module_version": "1.5.0",
            "_model_name": "FloatProgressModel",
            "_view_count": null,
            "_view_module": "@jupyter-widgets/controls",
            "_view_module_version": "1.5.0",
            "_view_name": "ProgressView",
            "bar_style": "success",
            "description": "",
            "description_tooltip": null,
            "layout": "IPY_MODEL_5bd533152d9c480b93ef92104cf81080",
            "max": 80,
            "min": 0,
            "orientation": "horizontal",
            "style": "IPY_MODEL_6648fd5c1f824683a177345ecf1d2e14",
            "value": 80
          }
        },
        "164f48c486ce48a0b1f8453dd876e85b": {
          "model_module": "@jupyter-widgets/controls",
          "model_name": "HTMLModel",
          "model_module_version": "1.5.0",
          "state": {
            "_dom_classes": [],
            "_model_module": "@jupyter-widgets/controls",
            "_model_module_version": "1.5.0",
            "_model_name": "HTMLModel",
            "_view_count": null,
            "_view_module": "@jupyter-widgets/controls",
            "_view_module_version": "1.5.0",
            "_view_name": "HTMLView",
            "description": "",
            "description_tooltip": null,
            "layout": "IPY_MODEL_aaf9554998f9477294bcae274178f77e",
            "placeholder": "​",
            "style": "IPY_MODEL_7f4b793fae7144de905a260bafaa9584",
            "value": " 80/80 [03:04&lt;00:00,  6.23s/it]"
          }
        },
        "7e831d7e213f479bb4b5f4ee05c4a4fa": {
          "model_module": "@jupyter-widgets/base",
          "model_name": "LayoutModel",
          "model_module_version": "1.2.0",
          "state": {
            "_model_module": "@jupyter-widgets/base",
            "_model_module_version": "1.2.0",
            "_model_name": "LayoutModel",
            "_view_count": null,
            "_view_module": "@jupyter-widgets/base",
            "_view_module_version": "1.2.0",
            "_view_name": "LayoutView",
            "align_content": null,
            "align_items": null,
            "align_self": null,
            "border": null,
            "bottom": null,
            "display": null,
            "flex": null,
            "flex_flow": null,
            "grid_area": null,
            "grid_auto_columns": null,
            "grid_auto_flow": null,
            "grid_auto_rows": null,
            "grid_column": null,
            "grid_gap": null,
            "grid_row": null,
            "grid_template_areas": null,
            "grid_template_columns": null,
            "grid_template_rows": null,
            "height": null,
            "justify_content": null,
            "justify_items": null,
            "left": null,
            "margin": null,
            "max_height": null,
            "max_width": null,
            "min_height": null,
            "min_width": null,
            "object_fit": null,
            "object_position": null,
            "order": null,
            "overflow": null,
            "overflow_x": null,
            "overflow_y": null,
            "padding": null,
            "right": null,
            "top": null,
            "visibility": null,
            "width": null
          }
        },
        "f40605cf3aed474ca74f51cbfb370086": {
          "model_module": "@jupyter-widgets/base",
          "model_name": "LayoutModel",
          "model_module_version": "1.2.0",
          "state": {
            "_model_module": "@jupyter-widgets/base",
            "_model_module_version": "1.2.0",
            "_model_name": "LayoutModel",
            "_view_count": null,
            "_view_module": "@jupyter-widgets/base",
            "_view_module_version": "1.2.0",
            "_view_name": "LayoutView",
            "align_content": null,
            "align_items": null,
            "align_self": null,
            "border": null,
            "bottom": null,
            "display": null,
            "flex": null,
            "flex_flow": null,
            "grid_area": null,
            "grid_auto_columns": null,
            "grid_auto_flow": null,
            "grid_auto_rows": null,
            "grid_column": null,
            "grid_gap": null,
            "grid_row": null,
            "grid_template_areas": null,
            "grid_template_columns": null,
            "grid_template_rows": null,
            "height": null,
            "justify_content": null,
            "justify_items": null,
            "left": null,
            "margin": null,
            "max_height": null,
            "max_width": null,
            "min_height": null,
            "min_width": null,
            "object_fit": null,
            "object_position": null,
            "order": null,
            "overflow": null,
            "overflow_x": null,
            "overflow_y": null,
            "padding": null,
            "right": null,
            "top": null,
            "visibility": null,
            "width": null
          }
        },
        "75b744348b9e4a11b51622ecb9da9d10": {
          "model_module": "@jupyter-widgets/controls",
          "model_name": "DescriptionStyleModel",
          "model_module_version": "1.5.0",
          "state": {
            "_model_module": "@jupyter-widgets/controls",
            "_model_module_version": "1.5.0",
            "_model_name": "DescriptionStyleModel",
            "_view_count": null,
            "_view_module": "@jupyter-widgets/base",
            "_view_module_version": "1.2.0",
            "_view_name": "StyleView",
            "description_width": ""
          }
        },
        "5bd533152d9c480b93ef92104cf81080": {
          "model_module": "@jupyter-widgets/base",
          "model_name": "LayoutModel",
          "model_module_version": "1.2.0",
          "state": {
            "_model_module": "@jupyter-widgets/base",
            "_model_module_version": "1.2.0",
            "_model_name": "LayoutModel",
            "_view_count": null,
            "_view_module": "@jupyter-widgets/base",
            "_view_module_version": "1.2.0",
            "_view_name": "LayoutView",
            "align_content": null,
            "align_items": null,
            "align_self": null,
            "border": null,
            "bottom": null,
            "display": null,
            "flex": null,
            "flex_flow": null,
            "grid_area": null,
            "grid_auto_columns": null,
            "grid_auto_flow": null,
            "grid_auto_rows": null,
            "grid_column": null,
            "grid_gap": null,
            "grid_row": null,
            "grid_template_areas": null,
            "grid_template_columns": null,
            "grid_template_rows": null,
            "height": null,
            "justify_content": null,
            "justify_items": null,
            "left": null,
            "margin": null,
            "max_height": null,
            "max_width": null,
            "min_height": null,
            "min_width": null,
            "object_fit": null,
            "object_position": null,
            "order": null,
            "overflow": null,
            "overflow_x": null,
            "overflow_y": null,
            "padding": null,
            "right": null,
            "top": null,
            "visibility": null,
            "width": null
          }
        },
        "6648fd5c1f824683a177345ecf1d2e14": {
          "model_module": "@jupyter-widgets/controls",
          "model_name": "ProgressStyleModel",
          "model_module_version": "1.5.0",
          "state": {
            "_model_module": "@jupyter-widgets/controls",
            "_model_module_version": "1.5.0",
            "_model_name": "ProgressStyleModel",
            "_view_count": null,
            "_view_module": "@jupyter-widgets/base",
            "_view_module_version": "1.2.0",
            "_view_name": "StyleView",
            "bar_color": null,
            "description_width": ""
          }
        },
        "aaf9554998f9477294bcae274178f77e": {
          "model_module": "@jupyter-widgets/base",
          "model_name": "LayoutModel",
          "model_module_version": "1.2.0",
          "state": {
            "_model_module": "@jupyter-widgets/base",
            "_model_module_version": "1.2.0",
            "_model_name": "LayoutModel",
            "_view_count": null,
            "_view_module": "@jupyter-widgets/base",
            "_view_module_version": "1.2.0",
            "_view_name": "LayoutView",
            "align_content": null,
            "align_items": null,
            "align_self": null,
            "border": null,
            "bottom": null,
            "display": null,
            "flex": null,
            "flex_flow": null,
            "grid_area": null,
            "grid_auto_columns": null,
            "grid_auto_flow": null,
            "grid_auto_rows": null,
            "grid_column": null,
            "grid_gap": null,
            "grid_row": null,
            "grid_template_areas": null,
            "grid_template_columns": null,
            "grid_template_rows": null,
            "height": null,
            "justify_content": null,
            "justify_items": null,
            "left": null,
            "margin": null,
            "max_height": null,
            "max_width": null,
            "min_height": null,
            "min_width": null,
            "object_fit": null,
            "object_position": null,
            "order": null,
            "overflow": null,
            "overflow_x": null,
            "overflow_y": null,
            "padding": null,
            "right": null,
            "top": null,
            "visibility": null,
            "width": null
          }
        },
        "7f4b793fae7144de905a260bafaa9584": {
          "model_module": "@jupyter-widgets/controls",
          "model_name": "DescriptionStyleModel",
          "model_module_version": "1.5.0",
          "state": {
            "_model_module": "@jupyter-widgets/controls",
            "_model_module_version": "1.5.0",
            "_model_name": "DescriptionStyleModel",
            "_view_count": null,
            "_view_module": "@jupyter-widgets/base",
            "_view_module_version": "1.2.0",
            "_view_name": "StyleView",
            "description_width": ""
          }
        }
      }
    },
    "accelerator": "GPU"
  },
  "nbformat": 4,
  "nbformat_minor": 0
}