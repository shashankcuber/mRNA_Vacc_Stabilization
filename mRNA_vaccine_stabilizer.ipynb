{
  "nbformat": 4,
  "nbformat_minor": 0,
  "metadata": {
    "colab": {
      "provenance": [],
      "toc_visible": true,
      "authorship_tag": "ABX9TyPljSYC9if5idXX1lMNds0U",
      "include_colab_link": true
    },
    "kernelspec": {
      "name": "python3",
      "display_name": "Python 3"
    },
    "language_info": {
      "name": "python"
    }
  },
  "cells": [
    {
      "cell_type": "markdown",
      "metadata": {
        "id": "view-in-github",
        "colab_type": "text"
      },
      "source": [
        "<a href=\"https://colab.research.google.com/github/shashankcuber/mRNA_Vacc_Stabilization/blob/main/mRNA_vaccine_stabilizer.ipynb\" target=\"_parent\"><img src=\"https://colab.research.google.com/assets/colab-badge.svg\" alt=\"Open In Colab\"/></a>"
      ]
    },
    {
      "cell_type": "markdown",
      "source": [
        "# Mount dataset and rna tools from Drive"
      ],
      "metadata": {
        "id": "A4l2Jcifhkji"
      }
    },
    {
      "cell_type": "code",
      "execution_count": null,
      "metadata": {
        "id": "9IJGdIubbSC1",
        "colab": {
          "base_uri": "https://localhost:8080/"
        },
        "outputId": "7f7804dc-f80b-49b3-9137-6530589a1e35"
      },
      "outputs": [
        {
          "output_type": "stream",
          "name": "stdout",
          "text": [
            "Mounted at /content/drive\n"
          ]
        }
      ],
      "source": [
        "from google.colab import drive\n",
        "#make sure you give the necessary authorization for colab to access your Google Drive\n",
        "drive.mount('/content/drive')"
      ]
    },
    {
      "cell_type": "code",
      "source": [
        "open_vaccine_test_data_path = '/content/drive/MyDrive/Bio_informatics_Project/open_vac_data/test_data.csv'"
      ],
      "metadata": {
        "id": "qWMjWY1rbvT8"
      },
      "execution_count": null,
      "outputs": []
    },
    {
      "cell_type": "markdown",
      "source": [
        "# Installing RNA tools"
      ],
      "metadata": {
        "id": "jJDiwIZlieXT"
      }
    },
    {
      "cell_type": "code",
      "source": [
        "!cd drive/MyDrive/Bio_informatics_Project/; sh install.sh"
      ],
      "metadata": {
        "id": "qBB7_yE_-E8-"
      },
      "execution_count": null,
      "outputs": []
    },
    {
      "cell_type": "markdown",
      "source": [
        "After copying from the drive contrafold package correct these files.\n",
        "\n",
        "\n",
        "1.   LBFGS.ipp :  At line 110 write this->DoLineSearch\n",
        "2.   Utilities.cpp:  Add #include<climits> for ULONG used in this file\n",
        "\n"
      ],
      "metadata": {
        "id": "Y1rs6iI6hJXV"
      }
    },
    {
      "cell_type": "markdown",
      "source": [
        "# Setting up the arnie conf file and environment variable"
      ],
      "metadata": {
        "id": "ZC0qjS2DK0_k"
      }
    },
    {
      "cell_type": "code",
      "source": [
        "import os\n",
        "os.environ[\"ARNIEFILE\"] = \"/content/arnie.conf\"\n",
        "os.environ[\"DATAPATH\"] = \"/content/RNAstructure/data_tables\"\n",
        "!cd drive/MyDrive/Bio_informatics_Project/; sh make_arnie_conf.sh"
      ],
      "metadata": {
        "id": "x5rTOSDEGyNt",
        "colab": {
          "base_uri": "https://localhost:8080/"
        },
        "outputId": "5764397f-0ca5-4e21-fb11-e9f9338950a7"
      },
      "execution_count": null,
      "outputs": [
        {
          "output_type": "stream",
          "name": "stdout",
          "text": [
            "/content\n",
            "/content/arnie.conf\n",
            "/content/RNAstructure/data_tables\n",
            "TMP: /content/tmp\n",
            "rnastructure: /content/RNAstructure/exe\n",
            "contrafold_2: /content/contrafold-se/src\n",
            "vienna_2: /usr/bin\n"
          ]
        }
      ]
    },
    {
      "cell_type": "markdown",
      "source": [
        "# Importing Libraries"
      ],
      "metadata": {
        "id": "bJ79p1aBo6pp"
      }
    },
    {
      "cell_type": "code",
      "source": [
        "import numpy as np\n",
        "import pandas as pd\n",
        "from tqdm import tqdm as tqdm\n",
        "from arnie.mea.mea import MEA\n",
        "from arnie.bpps import bpps\n",
        "import arnie.utils as utils"
      ],
      "metadata": {
        "id": "qkCjVG1CyEgP"
      },
      "execution_count": null,
      "outputs": []
    },
    {
      "cell_type": "markdown",
      "source": [
        "# Test data replication using rna tools"
      ],
      "metadata": {
        "id": "8gSQNGKdobvD"
      }
    },
    {
      "cell_type": "code",
      "source": [
        "class PrepareDataset:\n",
        "  def __init__(self, rna_tool, path):\n",
        "    self.package = rna_tool\n",
        "    self.path = path\n",
        "    self.df = pd.read_csv(path)\n",
        "\n",
        "\n",
        "  def predict_structure(self, id, rna_sequence):\n",
        "    base_pairing_mat = bpps(rna_sequence, package = self.package)\n",
        "    secondary_struct = MEA(base_pairing_mat)\n",
        "    return id, rna_sequence, secondary_struct.structure, secondary_struct.score_expected()[2], self.package\n",
        "\n",
        "  \n",
        "  def make_dataset(self):\n",
        "    temp_df = self.df[['id','sequence']]\n",
        "    \n",
        "    dataset = []\n",
        "\n",
        "    for j,(id,seq) in enumerate(tqdm(temp_df[['id', 'sequence']].values)):\n",
        "      data = self.predict_structure(id, seq)\n",
        "      dataset.append(data)\n",
        "\n",
        "    df = pd.DataFrame(dataset, columns = ['id', 'sequence', 'structure','score' ,'package'])\n",
        "    return df"
      ],
      "metadata": {
        "id": "ur-IO1NPpw34"
      },
      "execution_count": null,
      "outputs": []
    },
    {
      "cell_type": "code",
      "source": [
        "#vienna_2\n",
        "vienna = PrepareDataset('vienna_2', open_vaccine_test_data_path)\n",
        "vienna_df = vienna.make_dataset()\n",
        "vienna_df.head()"
      ],
      "metadata": {
        "colab": {
          "base_uri": "https://localhost:8080/",
          "height": 392
        },
        "id": "qDlZfIh-yWcD",
        "outputId": "b0ab2da5-e9ea-44ca-81a7-ffe5f97116c6"
      },
      "execution_count": null,
      "outputs": [
        {
          "output_type": "stream",
          "name": "stderr",
          "text": [
            "100%|██████████| 5/5 [00:02<00:00,  2.41it/s]\n"
          ]
        },
        {
          "output_type": "execute_result",
          "data": {
            "text/plain": [
              "             id                                           sequence  \\\n",
              "0  id_4e011753b  GGAAAUAUAUUGGUCCGUGUUCAGUCUAGCCUCCUACCCGCUAGGC...   \n",
              "1  id_70747b441  GGAAACGGAUGGAAAUCGUCCGCGUGCGAAAAGCACGGCGUGGAAA...   \n",
              "2  id_a71ee9a04  GGAAAGGGAAGGGACCGCAAAGCGGAACCCGGGCGCCCGAAAAAGG...   \n",
              "3  id_a03b10d8f  GGAAAGCCUAAACCGGGCGAUCUAGCCAUCGGCGGCACACAGAUCG...   \n",
              "4  id_5d366e1ba  GGAAACCAUAAUUCAGCAGGUAUCCCGACGCCUGAAAACAGCCAAA...   \n",
              "\n",
              "                                           structure     score   package  \n",
              "0  ..........(((((.(((((..(((((((.........)))))))...  0.875928  vienna_2  \n",
              "1  .....((((((.....))))))(((((.....)))))(((((.......  0.968446  vienna_2  \n",
              "2  ..............((((...)))).......((.((((......(...  0.635360  vienna_2  \n",
              "3  .(...((((.....))))...)...................((((....  0.762015  vienna_2  \n",
              "4  .............(..((..(((.(((.((((((...............  0.745095  vienna_2  "
            ],
            "text/html": [
              "\n",
              "  <div id=\"df-4d4c15cc-175b-4820-838e-b0e0ff1c3d5a\">\n",
              "    <div class=\"colab-df-container\">\n",
              "      <div>\n",
              "<style scoped>\n",
              "    .dataframe tbody tr th:only-of-type {\n",
              "        vertical-align: middle;\n",
              "    }\n",
              "\n",
              "    .dataframe tbody tr th {\n",
              "        vertical-align: top;\n",
              "    }\n",
              "\n",
              "    .dataframe thead th {\n",
              "        text-align: right;\n",
              "    }\n",
              "</style>\n",
              "<table border=\"1\" class=\"dataframe\">\n",
              "  <thead>\n",
              "    <tr style=\"text-align: right;\">\n",
              "      <th></th>\n",
              "      <th>id</th>\n",
              "      <th>sequence</th>\n",
              "      <th>structure</th>\n",
              "      <th>score</th>\n",
              "      <th>package</th>\n",
              "    </tr>\n",
              "  </thead>\n",
              "  <tbody>\n",
              "    <tr>\n",
              "      <th>0</th>\n",
              "      <td>id_4e011753b</td>\n",
              "      <td>GGAAAUAUAUUGGUCCGUGUUCAGUCUAGCCUCCUACCCGCUAGGC...</td>\n",
              "      <td>..........(((((.(((((..(((((((.........)))))))...</td>\n",
              "      <td>0.875928</td>\n",
              "      <td>vienna_2</td>\n",
              "    </tr>\n",
              "    <tr>\n",
              "      <th>1</th>\n",
              "      <td>id_70747b441</td>\n",
              "      <td>GGAAACGGAUGGAAAUCGUCCGCGUGCGAAAAGCACGGCGUGGAAA...</td>\n",
              "      <td>.....((((((.....))))))(((((.....)))))(((((.......</td>\n",
              "      <td>0.968446</td>\n",
              "      <td>vienna_2</td>\n",
              "    </tr>\n",
              "    <tr>\n",
              "      <th>2</th>\n",
              "      <td>id_a71ee9a04</td>\n",
              "      <td>GGAAAGGGAAGGGACCGCAAAGCGGAACCCGGGCGCCCGAAAAAGG...</td>\n",
              "      <td>..............((((...)))).......((.((((......(...</td>\n",
              "      <td>0.635360</td>\n",
              "      <td>vienna_2</td>\n",
              "    </tr>\n",
              "    <tr>\n",
              "      <th>3</th>\n",
              "      <td>id_a03b10d8f</td>\n",
              "      <td>GGAAAGCCUAAACCGGGCGAUCUAGCCAUCGGCGGCACACAGAUCG...</td>\n",
              "      <td>.(...((((.....))))...)...................((((....</td>\n",
              "      <td>0.762015</td>\n",
              "      <td>vienna_2</td>\n",
              "    </tr>\n",
              "    <tr>\n",
              "      <th>4</th>\n",
              "      <td>id_5d366e1ba</td>\n",
              "      <td>GGAAACCAUAAUUCAGCAGGUAUCCCGACGCCUGAAAACAGCCAAA...</td>\n",
              "      <td>.............(..((..(((.(((.((((((...............</td>\n",
              "      <td>0.745095</td>\n",
              "      <td>vienna_2</td>\n",
              "    </tr>\n",
              "  </tbody>\n",
              "</table>\n",
              "</div>\n",
              "      <button class=\"colab-df-convert\" onclick=\"convertToInteractive('df-4d4c15cc-175b-4820-838e-b0e0ff1c3d5a')\"\n",
              "              title=\"Convert this dataframe to an interactive table.\"\n",
              "              style=\"display:none;\">\n",
              "        \n",
              "  <svg xmlns=\"http://www.w3.org/2000/svg\" height=\"24px\"viewBox=\"0 0 24 24\"\n",
              "       width=\"24px\">\n",
              "    <path d=\"M0 0h24v24H0V0z\" fill=\"none\"/>\n",
              "    <path d=\"M18.56 5.44l.94 2.06.94-2.06 2.06-.94-2.06-.94-.94-2.06-.94 2.06-2.06.94zm-11 1L8.5 8.5l.94-2.06 2.06-.94-2.06-.94L8.5 2.5l-.94 2.06-2.06.94zm10 10l.94 2.06.94-2.06 2.06-.94-2.06-.94-.94-2.06-.94 2.06-2.06.94z\"/><path d=\"M17.41 7.96l-1.37-1.37c-.4-.4-.92-.59-1.43-.59-.52 0-1.04.2-1.43.59L10.3 9.45l-7.72 7.72c-.78.78-.78 2.05 0 2.83L4 21.41c.39.39.9.59 1.41.59.51 0 1.02-.2 1.41-.59l7.78-7.78 2.81-2.81c.8-.78.8-2.07 0-2.86zM5.41 20L4 18.59l7.72-7.72 1.47 1.35L5.41 20z\"/>\n",
              "  </svg>\n",
              "      </button>\n",
              "      \n",
              "  <style>\n",
              "    .colab-df-container {\n",
              "      display:flex;\n",
              "      flex-wrap:wrap;\n",
              "      gap: 12px;\n",
              "    }\n",
              "\n",
              "    .colab-df-convert {\n",
              "      background-color: #E8F0FE;\n",
              "      border: none;\n",
              "      border-radius: 50%;\n",
              "      cursor: pointer;\n",
              "      display: none;\n",
              "      fill: #1967D2;\n",
              "      height: 32px;\n",
              "      padding: 0 0 0 0;\n",
              "      width: 32px;\n",
              "    }\n",
              "\n",
              "    .colab-df-convert:hover {\n",
              "      background-color: #E2EBFA;\n",
              "      box-shadow: 0px 1px 2px rgba(60, 64, 67, 0.3), 0px 1px 3px 1px rgba(60, 64, 67, 0.15);\n",
              "      fill: #174EA6;\n",
              "    }\n",
              "\n",
              "    [theme=dark] .colab-df-convert {\n",
              "      background-color: #3B4455;\n",
              "      fill: #D2E3FC;\n",
              "    }\n",
              "\n",
              "    [theme=dark] .colab-df-convert:hover {\n",
              "      background-color: #434B5C;\n",
              "      box-shadow: 0px 1px 3px 1px rgba(0, 0, 0, 0.15);\n",
              "      filter: drop-shadow(0px 1px 2px rgba(0, 0, 0, 0.3));\n",
              "      fill: #FFFFFF;\n",
              "    }\n",
              "  </style>\n",
              "\n",
              "      <script>\n",
              "        const buttonEl =\n",
              "          document.querySelector('#df-4d4c15cc-175b-4820-838e-b0e0ff1c3d5a button.colab-df-convert');\n",
              "        buttonEl.style.display =\n",
              "          google.colab.kernel.accessAllowed ? 'block' : 'none';\n",
              "\n",
              "        async function convertToInteractive(key) {\n",
              "          const element = document.querySelector('#df-4d4c15cc-175b-4820-838e-b0e0ff1c3d5a');\n",
              "          const dataTable =\n",
              "            await google.colab.kernel.invokeFunction('convertToInteractive',\n",
              "                                                     [key], {});\n",
              "          if (!dataTable) return;\n",
              "\n",
              "          const docLinkHtml = 'Like what you see? Visit the ' +\n",
              "            '<a target=\"_blank\" href=https://colab.research.google.com/notebooks/data_table.ipynb>data table notebook</a>'\n",
              "            + ' to learn more about interactive tables.';\n",
              "          element.innerHTML = '';\n",
              "          dataTable['output_type'] = 'display_data';\n",
              "          await google.colab.output.renderOutput(dataTable, element);\n",
              "          const docLink = document.createElement('div');\n",
              "          docLink.innerHTML = docLinkHtml;\n",
              "          element.appendChild(docLink);\n",
              "        }\n",
              "      </script>\n",
              "    </div>\n",
              "  </div>\n",
              "  "
            ]
          },
          "metadata": {},
          "execution_count": 13
        }
      ]
    },
    {
      "cell_type": "code",
      "source": [
        "#contrafold_2\n",
        "contrafold = PrepareDataset('contrafold_2', open_vaccine_test_data_path)\n",
        "contrafold_df = contrafold.make_dataset()\n",
        "contrafold_df.head()"
      ],
      "metadata": {
        "colab": {
          "base_uri": "https://localhost:8080/",
          "height": 375
        },
        "id": "NtmiSeYL1E2_",
        "outputId": "86b676eb-e673-4203-f3a5-98b024b51cac"
      },
      "execution_count": null,
      "outputs": [
        {
          "output_type": "stream",
          "name": "stderr",
          "text": [
            "100%|██████████| 5/5 [00:03<00:00,  1.60it/s]\n"
          ]
        },
        {
          "output_type": "execute_result",
          "data": {
            "text/plain": [
              "             id                                           sequence  \\\n",
              "0  id_4e011753b  GGAAAUAUAUUGGUCCGUGUUCAGUCUAGCCUCCUACCCGCUAGGC...   \n",
              "1  id_70747b441  GGAAACGGAUGGAAAUCGUCCGCGUGCGAAAAGCACGGCGUGGAAA...   \n",
              "2  id_a71ee9a04  GGAAAGGGAAGGGACCGCAAAGCGGAACCCGGGCGCCCGAAAAAGG...   \n",
              "3  id_a03b10d8f  GGAAAGCCUAAACCGGGCGAUCUAGCCAUCGGCGGCACACAGAUCG...   \n",
              "4  id_5d366e1ba  GGAAACCAUAAUUCAGCAGGUAUCCCGACGCCUGAAAACAGCCAAA...   \n",
              "\n",
              "                                           structure     score       package  \n",
              "0  ...........((((.(((((..(((((((.........)))))))...  0.799682  contrafold_2  \n",
              "1  .....(((((.......))))).((((.....)))).(((((.......  0.799663  contrafold_2  \n",
              "2  ..............(((.....)))........................  0.454857  contrafold_2  \n",
              "3  ................(((((((.(((......................  0.578171  contrafold_2  \n",
              "4  ........................(((.(((((................  0.661927  contrafold_2  "
            ],
            "text/html": [
              "\n",
              "  <div id=\"df-5ac8c065-cb6c-4994-ac07-13bc01606b8b\">\n",
              "    <div class=\"colab-df-container\">\n",
              "      <div>\n",
              "<style scoped>\n",
              "    .dataframe tbody tr th:only-of-type {\n",
              "        vertical-align: middle;\n",
              "    }\n",
              "\n",
              "    .dataframe tbody tr th {\n",
              "        vertical-align: top;\n",
              "    }\n",
              "\n",
              "    .dataframe thead th {\n",
              "        text-align: right;\n",
              "    }\n",
              "</style>\n",
              "<table border=\"1\" class=\"dataframe\">\n",
              "  <thead>\n",
              "    <tr style=\"text-align: right;\">\n",
              "      <th></th>\n",
              "      <th>id</th>\n",
              "      <th>sequence</th>\n",
              "      <th>structure</th>\n",
              "      <th>score</th>\n",
              "      <th>package</th>\n",
              "    </tr>\n",
              "  </thead>\n",
              "  <tbody>\n",
              "    <tr>\n",
              "      <th>0</th>\n",
              "      <td>id_4e011753b</td>\n",
              "      <td>GGAAAUAUAUUGGUCCGUGUUCAGUCUAGCCUCCUACCCGCUAGGC...</td>\n",
              "      <td>...........((((.(((((..(((((((.........)))))))...</td>\n",
              "      <td>0.799682</td>\n",
              "      <td>contrafold_2</td>\n",
              "    </tr>\n",
              "    <tr>\n",
              "      <th>1</th>\n",
              "      <td>id_70747b441</td>\n",
              "      <td>GGAAACGGAUGGAAAUCGUCCGCGUGCGAAAAGCACGGCGUGGAAA...</td>\n",
              "      <td>.....(((((.......))))).((((.....)))).(((((.......</td>\n",
              "      <td>0.799663</td>\n",
              "      <td>contrafold_2</td>\n",
              "    </tr>\n",
              "    <tr>\n",
              "      <th>2</th>\n",
              "      <td>id_a71ee9a04</td>\n",
              "      <td>GGAAAGGGAAGGGACCGCAAAGCGGAACCCGGGCGCCCGAAAAAGG...</td>\n",
              "      <td>..............(((.....)))........................</td>\n",
              "      <td>0.454857</td>\n",
              "      <td>contrafold_2</td>\n",
              "    </tr>\n",
              "    <tr>\n",
              "      <th>3</th>\n",
              "      <td>id_a03b10d8f</td>\n",
              "      <td>GGAAAGCCUAAACCGGGCGAUCUAGCCAUCGGCGGCACACAGAUCG...</td>\n",
              "      <td>................(((((((.(((......................</td>\n",
              "      <td>0.578171</td>\n",
              "      <td>contrafold_2</td>\n",
              "    </tr>\n",
              "    <tr>\n",
              "      <th>4</th>\n",
              "      <td>id_5d366e1ba</td>\n",
              "      <td>GGAAACCAUAAUUCAGCAGGUAUCCCGACGCCUGAAAACAGCCAAA...</td>\n",
              "      <td>........................(((.(((((................</td>\n",
              "      <td>0.661927</td>\n",
              "      <td>contrafold_2</td>\n",
              "    </tr>\n",
              "  </tbody>\n",
              "</table>\n",
              "</div>\n",
              "      <button class=\"colab-df-convert\" onclick=\"convertToInteractive('df-5ac8c065-cb6c-4994-ac07-13bc01606b8b')\"\n",
              "              title=\"Convert this dataframe to an interactive table.\"\n",
              "              style=\"display:none;\">\n",
              "        \n",
              "  <svg xmlns=\"http://www.w3.org/2000/svg\" height=\"24px\"viewBox=\"0 0 24 24\"\n",
              "       width=\"24px\">\n",
              "    <path d=\"M0 0h24v24H0V0z\" fill=\"none\"/>\n",
              "    <path d=\"M18.56 5.44l.94 2.06.94-2.06 2.06-.94-2.06-.94-.94-2.06-.94 2.06-2.06.94zm-11 1L8.5 8.5l.94-2.06 2.06-.94-2.06-.94L8.5 2.5l-.94 2.06-2.06.94zm10 10l.94 2.06.94-2.06 2.06-.94-2.06-.94-.94-2.06-.94 2.06-2.06.94z\"/><path d=\"M17.41 7.96l-1.37-1.37c-.4-.4-.92-.59-1.43-.59-.52 0-1.04.2-1.43.59L10.3 9.45l-7.72 7.72c-.78.78-.78 2.05 0 2.83L4 21.41c.39.39.9.59 1.41.59.51 0 1.02-.2 1.41-.59l7.78-7.78 2.81-2.81c.8-.78.8-2.07 0-2.86zM5.41 20L4 18.59l7.72-7.72 1.47 1.35L5.41 20z\"/>\n",
              "  </svg>\n",
              "      </button>\n",
              "      \n",
              "  <style>\n",
              "    .colab-df-container {\n",
              "      display:flex;\n",
              "      flex-wrap:wrap;\n",
              "      gap: 12px;\n",
              "    }\n",
              "\n",
              "    .colab-df-convert {\n",
              "      background-color: #E8F0FE;\n",
              "      border: none;\n",
              "      border-radius: 50%;\n",
              "      cursor: pointer;\n",
              "      display: none;\n",
              "      fill: #1967D2;\n",
              "      height: 32px;\n",
              "      padding: 0 0 0 0;\n",
              "      width: 32px;\n",
              "    }\n",
              "\n",
              "    .colab-df-convert:hover {\n",
              "      background-color: #E2EBFA;\n",
              "      box-shadow: 0px 1px 2px rgba(60, 64, 67, 0.3), 0px 1px 3px 1px rgba(60, 64, 67, 0.15);\n",
              "      fill: #174EA6;\n",
              "    }\n",
              "\n",
              "    [theme=dark] .colab-df-convert {\n",
              "      background-color: #3B4455;\n",
              "      fill: #D2E3FC;\n",
              "    }\n",
              "\n",
              "    [theme=dark] .colab-df-convert:hover {\n",
              "      background-color: #434B5C;\n",
              "      box-shadow: 0px 1px 3px 1px rgba(0, 0, 0, 0.15);\n",
              "      filter: drop-shadow(0px 1px 2px rgba(0, 0, 0, 0.3));\n",
              "      fill: #FFFFFF;\n",
              "    }\n",
              "  </style>\n",
              "\n",
              "      <script>\n",
              "        const buttonEl =\n",
              "          document.querySelector('#df-5ac8c065-cb6c-4994-ac07-13bc01606b8b button.colab-df-convert');\n",
              "        buttonEl.style.display =\n",
              "          google.colab.kernel.accessAllowed ? 'block' : 'none';\n",
              "\n",
              "        async function convertToInteractive(key) {\n",
              "          const element = document.querySelector('#df-5ac8c065-cb6c-4994-ac07-13bc01606b8b');\n",
              "          const dataTable =\n",
              "            await google.colab.kernel.invokeFunction('convertToInteractive',\n",
              "                                                     [key], {});\n",
              "          if (!dataTable) return;\n",
              "\n",
              "          const docLinkHtml = 'Like what you see? Visit the ' +\n",
              "            '<a target=\"_blank\" href=https://colab.research.google.com/notebooks/data_table.ipynb>data table notebook</a>'\n",
              "            + ' to learn more about interactive tables.';\n",
              "          element.innerHTML = '';\n",
              "          dataTable['output_type'] = 'display_data';\n",
              "          await google.colab.output.renderOutput(dataTable, element);\n",
              "          const docLink = document.createElement('div');\n",
              "          docLink.innerHTML = docLinkHtml;\n",
              "          element.appendChild(docLink);\n",
              "        }\n",
              "      </script>\n",
              "    </div>\n",
              "  </div>\n",
              "  "
            ]
          },
          "metadata": {},
          "execution_count": 14
        }
      ]
    },
    {
      "cell_type": "code",
      "source": [
        "#rnastructure\n",
        "rnastructure = PrepareDataset('rnastructure', open_vaccine_test_data_path)\n",
        "rnastructure_df = rnastructure.make_dataset()\n",
        "rnastructure_df.head()"
      ],
      "metadata": {
        "colab": {
          "base_uri": "https://localhost:8080/",
          "height": 410
        },
        "id": "7fuwc5lE3N4u",
        "outputId": "701edb1e-14d2-42a3-b231-327e12d0bc71"
      },
      "execution_count": null,
      "outputs": [
        {
          "output_type": "stream",
          "name": "stderr",
          "text": [
            "100%|██████████| 5/5 [00:04<00:00,  1.01it/s]\n"
          ]
        },
        {
          "output_type": "execute_result",
          "data": {
            "text/plain": [
              "             id                                           sequence  \\\n",
              "0  id_4e011753b  GGAAAUAUAUUGGUCCGUGUUCAGUCUAGCCUCCUACCCGCUAGGC...   \n",
              "1  id_70747b441  GGAAACGGAUGGAAAUCGUCCGCGUGCGAAAAGCACGGCGUGGAAA...   \n",
              "2  id_a71ee9a04  GGAAAGGGAAGGGACCGCAAAGCGGAACCCGGGCGCCCGAAAAAGG...   \n",
              "3  id_a03b10d8f  GGAAAGCCUAAACCGGGCGAUCUAGCCAUCGGCGGCACACAGAUCG...   \n",
              "4  id_5d366e1ba  GGAAACCAUAAUUCAGCAGGUAUCCCGACGCCUGAAAACAGCCAAA...   \n",
              "\n",
              "                                           structure     score       package  \n",
              "0  ..........(((((.(((((..(((((((.........)))))))...  0.875740  rnastructure  \n",
              "1  .....((((((.....))))))(((((.....)))))(((((.......  0.986415  rnastructure  \n",
              "2  ..............((((...))))..........(((......))...  0.583683  rnastructure  \n",
              "3  (((..((((.....))))..))).(((......))).....((((....  0.925298  rnastructure  \n",
              "4  ................((..(((.(((.((((((...............  0.675891  rnastructure  "
            ],
            "text/html": [
              "\n",
              "  <div id=\"df-cc149855-40dc-48c7-b832-f708f45011f2\">\n",
              "    <div class=\"colab-df-container\">\n",
              "      <div>\n",
              "<style scoped>\n",
              "    .dataframe tbody tr th:only-of-type {\n",
              "        vertical-align: middle;\n",
              "    }\n",
              "\n",
              "    .dataframe tbody tr th {\n",
              "        vertical-align: top;\n",
              "    }\n",
              "\n",
              "    .dataframe thead th {\n",
              "        text-align: right;\n",
              "    }\n",
              "</style>\n",
              "<table border=\"1\" class=\"dataframe\">\n",
              "  <thead>\n",
              "    <tr style=\"text-align: right;\">\n",
              "      <th></th>\n",
              "      <th>id</th>\n",
              "      <th>sequence</th>\n",
              "      <th>structure</th>\n",
              "      <th>score</th>\n",
              "      <th>package</th>\n",
              "    </tr>\n",
              "  </thead>\n",
              "  <tbody>\n",
              "    <tr>\n",
              "      <th>0</th>\n",
              "      <td>id_4e011753b</td>\n",
              "      <td>GGAAAUAUAUUGGUCCGUGUUCAGUCUAGCCUCCUACCCGCUAGGC...</td>\n",
              "      <td>..........(((((.(((((..(((((((.........)))))))...</td>\n",
              "      <td>0.875740</td>\n",
              "      <td>rnastructure</td>\n",
              "    </tr>\n",
              "    <tr>\n",
              "      <th>1</th>\n",
              "      <td>id_70747b441</td>\n",
              "      <td>GGAAACGGAUGGAAAUCGUCCGCGUGCGAAAAGCACGGCGUGGAAA...</td>\n",
              "      <td>.....((((((.....))))))(((((.....)))))(((((.......</td>\n",
              "      <td>0.986415</td>\n",
              "      <td>rnastructure</td>\n",
              "    </tr>\n",
              "    <tr>\n",
              "      <th>2</th>\n",
              "      <td>id_a71ee9a04</td>\n",
              "      <td>GGAAAGGGAAGGGACCGCAAAGCGGAACCCGGGCGCCCGAAAAAGG...</td>\n",
              "      <td>..............((((...))))..........(((......))...</td>\n",
              "      <td>0.583683</td>\n",
              "      <td>rnastructure</td>\n",
              "    </tr>\n",
              "    <tr>\n",
              "      <th>3</th>\n",
              "      <td>id_a03b10d8f</td>\n",
              "      <td>GGAAAGCCUAAACCGGGCGAUCUAGCCAUCGGCGGCACACAGAUCG...</td>\n",
              "      <td>(((..((((.....))))..))).(((......))).....((((....</td>\n",
              "      <td>0.925298</td>\n",
              "      <td>rnastructure</td>\n",
              "    </tr>\n",
              "    <tr>\n",
              "      <th>4</th>\n",
              "      <td>id_5d366e1ba</td>\n",
              "      <td>GGAAACCAUAAUUCAGCAGGUAUCCCGACGCCUGAAAACAGCCAAA...</td>\n",
              "      <td>................((..(((.(((.((((((...............</td>\n",
              "      <td>0.675891</td>\n",
              "      <td>rnastructure</td>\n",
              "    </tr>\n",
              "  </tbody>\n",
              "</table>\n",
              "</div>\n",
              "      <button class=\"colab-df-convert\" onclick=\"convertToInteractive('df-cc149855-40dc-48c7-b832-f708f45011f2')\"\n",
              "              title=\"Convert this dataframe to an interactive table.\"\n",
              "              style=\"display:none;\">\n",
              "        \n",
              "  <svg xmlns=\"http://www.w3.org/2000/svg\" height=\"24px\"viewBox=\"0 0 24 24\"\n",
              "       width=\"24px\">\n",
              "    <path d=\"M0 0h24v24H0V0z\" fill=\"none\"/>\n",
              "    <path d=\"M18.56 5.44l.94 2.06.94-2.06 2.06-.94-2.06-.94-.94-2.06-.94 2.06-2.06.94zm-11 1L8.5 8.5l.94-2.06 2.06-.94-2.06-.94L8.5 2.5l-.94 2.06-2.06.94zm10 10l.94 2.06.94-2.06 2.06-.94-2.06-.94-.94-2.06-.94 2.06-2.06.94z\"/><path d=\"M17.41 7.96l-1.37-1.37c-.4-.4-.92-.59-1.43-.59-.52 0-1.04.2-1.43.59L10.3 9.45l-7.72 7.72c-.78.78-.78 2.05 0 2.83L4 21.41c.39.39.9.59 1.41.59.51 0 1.02-.2 1.41-.59l7.78-7.78 2.81-2.81c.8-.78.8-2.07 0-2.86zM5.41 20L4 18.59l7.72-7.72 1.47 1.35L5.41 20z\"/>\n",
              "  </svg>\n",
              "      </button>\n",
              "      \n",
              "  <style>\n",
              "    .colab-df-container {\n",
              "      display:flex;\n",
              "      flex-wrap:wrap;\n",
              "      gap: 12px;\n",
              "    }\n",
              "\n",
              "    .colab-df-convert {\n",
              "      background-color: #E8F0FE;\n",
              "      border: none;\n",
              "      border-radius: 50%;\n",
              "      cursor: pointer;\n",
              "      display: none;\n",
              "      fill: #1967D2;\n",
              "      height: 32px;\n",
              "      padding: 0 0 0 0;\n",
              "      width: 32px;\n",
              "    }\n",
              "\n",
              "    .colab-df-convert:hover {\n",
              "      background-color: #E2EBFA;\n",
              "      box-shadow: 0px 1px 2px rgba(60, 64, 67, 0.3), 0px 1px 3px 1px rgba(60, 64, 67, 0.15);\n",
              "      fill: #174EA6;\n",
              "    }\n",
              "\n",
              "    [theme=dark] .colab-df-convert {\n",
              "      background-color: #3B4455;\n",
              "      fill: #D2E3FC;\n",
              "    }\n",
              "\n",
              "    [theme=dark] .colab-df-convert:hover {\n",
              "      background-color: #434B5C;\n",
              "      box-shadow: 0px 1px 3px 1px rgba(0, 0, 0, 0.15);\n",
              "      filter: drop-shadow(0px 1px 2px rgba(0, 0, 0, 0.3));\n",
              "      fill: #FFFFFF;\n",
              "    }\n",
              "  </style>\n",
              "\n",
              "      <script>\n",
              "        const buttonEl =\n",
              "          document.querySelector('#df-cc149855-40dc-48c7-b832-f708f45011f2 button.colab-df-convert');\n",
              "        buttonEl.style.display =\n",
              "          google.colab.kernel.accessAllowed ? 'block' : 'none';\n",
              "\n",
              "        async function convertToInteractive(key) {\n",
              "          const element = document.querySelector('#df-cc149855-40dc-48c7-b832-f708f45011f2');\n",
              "          const dataTable =\n",
              "            await google.colab.kernel.invokeFunction('convertToInteractive',\n",
              "                                                     [key], {});\n",
              "          if (!dataTable) return;\n",
              "\n",
              "          const docLinkHtml = 'Like what you see? Visit the ' +\n",
              "            '<a target=\"_blank\" href=https://colab.research.google.com/notebooks/data_table.ipynb>data table notebook</a>'\n",
              "            + ' to learn more about interactive tables.';\n",
              "          element.innerHTML = '';\n",
              "          dataTable['output_type'] = 'display_data';\n",
              "          await google.colab.output.renderOutput(dataTable, element);\n",
              "          const docLink = document.createElement('div');\n",
              "          docLink.innerHTML = docLinkHtml;\n",
              "          element.appendChild(docLink);\n",
              "        }\n",
              "      </script>\n",
              "    </div>\n",
              "  </div>\n",
              "  "
            ]
          },
          "metadata": {},
          "execution_count": 15
        }
      ]
    }
  ]
}