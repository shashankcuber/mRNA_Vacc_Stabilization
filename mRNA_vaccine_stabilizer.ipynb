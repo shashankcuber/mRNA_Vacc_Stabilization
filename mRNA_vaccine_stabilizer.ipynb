{
  "cells": [
    {
      "cell_type": "markdown",
      "metadata": {
        "id": "view-in-github",
        "colab_type": "text"
      },
      "source": [
        "<a href=\"https://colab.research.google.com/github/shashankcuber/mRNA_Vacc_Stabilization/blob/main/mRNA_vaccine_stabilizer.ipynb\" target=\"_parent\"><img src=\"https://colab.research.google.com/assets/colab-badge.svg\" alt=\"Open In Colab\"/></a>"
      ]
    },
    {
      "cell_type": "markdown",
      "metadata": {
        "id": "A4l2Jcifhkji"
      },
      "source": [
        "# Mount dataset and rna tools from Drive"
      ]
    },
    {
      "cell_type": "code",
      "execution_count": 1,
      "metadata": {
        "colab": {
          "base_uri": "https://localhost:8080/"
        },
        "id": "9IJGdIubbSC1",
        "outputId": "6edfdc9f-318a-4f4f-c1d4-a9f51cfd1ce1"
      },
      "outputs": [
        {
          "output_type": "stream",
          "name": "stdout",
          "text": [
            "Mounted at /content/drive\n"
          ]
        }
      ],
      "source": [
        "from google.colab import drive\n",
        "#make sure you give the necessary authorization for colab to access your Google Drive\n",
        "drive.mount('/content/drive')"
      ]
    },
    {
      "cell_type": "code",
      "execution_count": 2,
      "metadata": {
        "id": "qWMjWY1rbvT8"
      },
      "outputs": [],
      "source": [
        "open_vaccine_test_data_path = '/content/drive/MyDrive/Bio_informatics_Project/open_vac_data/test_data.csv'"
      ]
    },
    {
      "cell_type": "markdown",
      "metadata": {
        "id": "jJDiwIZlieXT"
      },
      "source": [
        "# Installing RNA tools"
      ]
    },
    {
      "cell_type": "code",
      "execution_count": null,
      "metadata": {
        "id": "qBB7_yE_-E8-"
      },
      "outputs": [],
      "source": [
        "!cd drive/MyDrive/Bio_informatics_Project/; sh install.sh -Uq"
      ]
    },
    {
      "cell_type": "markdown",
      "metadata": {
        "id": "Y1rs6iI6hJXV"
      },
      "source": [
        "Fix these changes if you download the contrafold source code directly from http://contra.stanford.edu/contrafold/download.html\n",
        "\n",
        "\n",
        "1.   LBFGS.ipp :  At line 110 write this->DoLineSearch\n",
        "2.   Utilities.cpp:  Add #include\"climits\" for ULONG used in this file\n",
        "\n"
      ]
    },
    {
      "cell_type": "markdown",
      "metadata": {
        "id": "ZC0qjS2DK0_k"
      },
      "source": [
        "# Setting up the arnie conf file and environment variable"
      ]
    },
    {
      "cell_type": "code",
      "execution_count": 5,
      "metadata": {
        "colab": {
          "base_uri": "https://localhost:8080/"
        },
        "id": "x5rTOSDEGyNt",
        "outputId": "179bb9f5-6fdc-4261-c220-5f864b8e6908"
      },
      "outputs": [
        {
          "output_type": "stream",
          "name": "stdout",
          "text": [
            "/content\n",
            "/content/arnie.conf\n",
            "/content/RNAstructure/data_tables\n",
            "TMP: /content/tmp\n",
            "rnastructure: /content/RNAstructure/exe\n",
            "contrafold_2: /content/contrafold-se/src\n",
            "vienna_2: /usr/bin\n"
          ]
        }
      ],
      "source": [
        "import os\n",
        "os.environ[\"DATAPATH\"] = \"/content/RNAstructure/data_tables\"\n",
        "os.environ[\"ARNIEFILE\"] = \"/content/arnie.conf\"\n",
        "!cd drive/MyDrive/Bio_informatics_Project/; sh make_arnie_conf.sh"
      ]
    },
    {
      "cell_type": "markdown",
      "metadata": {
        "id": "bJ79p1aBo6pp"
      },
      "source": [
        "# Importing Libraries For Test Data"
      ]
    },
    {
      "cell_type": "code",
      "execution_count": 6,
      "metadata": {
        "id": "qkCjVG1CyEgP"
      },
      "outputs": [],
      "source": [
        "import numpy as np\n",
        "import pandas as pd\n",
        "from tqdm import tqdm as tqdm\n",
        "from arnie.bpps import bpps\n",
        "import arnie.utils as utils\n",
        "from arnie.mea.mea import MEA"
      ]
    },
    {
      "cell_type": "markdown",
      "metadata": {
        "id": "8gSQNGKdobvD"
      },
      "source": [
        "# Test data replication using rna tools"
      ]
    },
    {
      "cell_type": "code",
      "execution_count": 7,
      "metadata": {
        "id": "ur-IO1NPpw34"
      },
      "outputs": [],
      "source": [
        "class PrepareTestDataset:\n",
        "  def __init__(self, rna_tool, path):\n",
        "    self.package = rna_tool\n",
        "    self.path = path\n",
        "    self.df = pd.read_csv(path)\n",
        "\n",
        "\n",
        "  def _predict_structure(self, id, rna_sequence):\n",
        "    base_pairing_mat = bpps(rna_sequence, package = self.package)\n",
        "    secondary_struct = MEA(base_pairing_mat)\n",
        "    return id, rna_sequence, secondary_struct.structure, self.package\n",
        "  \n",
        "  def make_dataset(self):\n",
        "    temp_df = self.df[['id','sequence']]\n",
        "    \n",
        "    dataset = []\n",
        "\n",
        "    for j,(id,seq) in enumerate(tqdm(temp_df[['id', 'sequence']].values)):\n",
        "      data = self._predict_structure(id, seq)\n",
        "      dataset.append(data)\n",
        "\n",
        "    df = pd.DataFrame(dataset, columns = ['id', 'sequence', 'structure','package'])\n",
        "    df['seq_length'] = df['id'].map(self.df.drop_duplicates().set_index('id')['seq_length'])\n",
        "    df['seq_scored'] = df['id'].map(self.df.drop_duplicates().set_index('id')['seq_scored'])\n",
        "    return df"
      ]
    },
    {
      "cell_type": "code",
      "execution_count": 8,
      "metadata": {
        "id": "qDlZfIh-yWcD",
        "colab": {
          "base_uri": "https://localhost:8080/",
          "height": 427
        },
        "outputId": "75ef9402-4899-4ce2-f5f2-1ab261f86b23"
      },
      "outputs": [
        {
          "output_type": "stream",
          "name": "stderr",
          "text": [
            "100%|██████████| 600/600 [04:58<00:00,  2.01it/s]\n"
          ]
        },
        {
          "output_type": "execute_result",
          "data": {
            "text/plain": [
              "             id                                           sequence  \\\n",
              "0  id_3b7827fb0  GGAAACGUCUGUAGCUGAGUGCUACAGACGAAUAGGUAGACAGCUG...   \n",
              "1  id_f5212dd4e  GGAAAGUGCUACGCUGUACCGUGAGGUACAGCCGACGGUACGUCGG...   \n",
              "2  id_0d6a71f64  GGAAAGCGAAUCGACGAGAAGUCGUAGUUCGCAGAGCGGCGUACCC...   \n",
              "3  id_6e072995a  GGAAACAAGCACACACUCUGCAGGCACAAAGGUGUAGUAGUUGUAU...   \n",
              "4  id_5ccbcb6ff  GGAAAGUCUAGACGAACUAACUAGGACAUCCCUAGGUGAAGUACCA...   \n",
              "\n",
              "                                           structure   package  seq_length  \\\n",
              "0  .....((((((((((.....))))))))))....(((((((((((....  vienna_2         130   \n",
              "1  .....(((((((.(((((((....)))))))((((((...))))))...  vienna_2         130   \n",
              "2  .....((((((((((.....))))..))))))...((((((((......  vienna_2         130   \n",
              "3  ........((((((((((((((((((((..((((((((.(((((((...  vienna_2         130   \n",
              "4  .....((((..(((......(((((.....)))))((((.((.......  vienna_2         130   \n",
              "\n",
              "   seq_scored  \n",
              "0          91  \n",
              "1          91  \n",
              "2          91  \n",
              "3          91  \n",
              "4          91  "
            ],
            "text/html": [
              "\n",
              "  <div id=\"df-4325abe5-6574-4f93-bef2-f28510ddeef0\">\n",
              "    <div class=\"colab-df-container\">\n",
              "      <div>\n",
              "<style scoped>\n",
              "    .dataframe tbody tr th:only-of-type {\n",
              "        vertical-align: middle;\n",
              "    }\n",
              "\n",
              "    .dataframe tbody tr th {\n",
              "        vertical-align: top;\n",
              "    }\n",
              "\n",
              "    .dataframe thead th {\n",
              "        text-align: right;\n",
              "    }\n",
              "</style>\n",
              "<table border=\"1\" class=\"dataframe\">\n",
              "  <thead>\n",
              "    <tr style=\"text-align: right;\">\n",
              "      <th></th>\n",
              "      <th>id</th>\n",
              "      <th>sequence</th>\n",
              "      <th>structure</th>\n",
              "      <th>package</th>\n",
              "      <th>seq_length</th>\n",
              "      <th>seq_scored</th>\n",
              "    </tr>\n",
              "  </thead>\n",
              "  <tbody>\n",
              "    <tr>\n",
              "      <th>0</th>\n",
              "      <td>id_3b7827fb0</td>\n",
              "      <td>GGAAACGUCUGUAGCUGAGUGCUACAGACGAAUAGGUAGACAGCUG...</td>\n",
              "      <td>.....((((((((((.....))))))))))....(((((((((((....</td>\n",
              "      <td>vienna_2</td>\n",
              "      <td>130</td>\n",
              "      <td>91</td>\n",
              "    </tr>\n",
              "    <tr>\n",
              "      <th>1</th>\n",
              "      <td>id_f5212dd4e</td>\n",
              "      <td>GGAAAGUGCUACGCUGUACCGUGAGGUACAGCCGACGGUACGUCGG...</td>\n",
              "      <td>.....(((((((.(((((((....)))))))((((((...))))))...</td>\n",
              "      <td>vienna_2</td>\n",
              "      <td>130</td>\n",
              "      <td>91</td>\n",
              "    </tr>\n",
              "    <tr>\n",
              "      <th>2</th>\n",
              "      <td>id_0d6a71f64</td>\n",
              "      <td>GGAAAGCGAAUCGACGAGAAGUCGUAGUUCGCAGAGCGGCGUACCC...</td>\n",
              "      <td>.....((((((((((.....))))..))))))...((((((((......</td>\n",
              "      <td>vienna_2</td>\n",
              "      <td>130</td>\n",
              "      <td>91</td>\n",
              "    </tr>\n",
              "    <tr>\n",
              "      <th>3</th>\n",
              "      <td>id_6e072995a</td>\n",
              "      <td>GGAAACAAGCACACACUCUGCAGGCACAAAGGUGUAGUAGUUGUAU...</td>\n",
              "      <td>........((((((((((((((((((((..((((((((.(((((((...</td>\n",
              "      <td>vienna_2</td>\n",
              "      <td>130</td>\n",
              "      <td>91</td>\n",
              "    </tr>\n",
              "    <tr>\n",
              "      <th>4</th>\n",
              "      <td>id_5ccbcb6ff</td>\n",
              "      <td>GGAAAGUCUAGACGAACUAACUAGGACAUCCCUAGGUGAAGUACCA...</td>\n",
              "      <td>.....((((..(((......(((((.....)))))((((.((.......</td>\n",
              "      <td>vienna_2</td>\n",
              "      <td>130</td>\n",
              "      <td>91</td>\n",
              "    </tr>\n",
              "  </tbody>\n",
              "</table>\n",
              "</div>\n",
              "      <button class=\"colab-df-convert\" onclick=\"convertToInteractive('df-4325abe5-6574-4f93-bef2-f28510ddeef0')\"\n",
              "              title=\"Convert this dataframe to an interactive table.\"\n",
              "              style=\"display:none;\">\n",
              "        \n",
              "  <svg xmlns=\"http://www.w3.org/2000/svg\" height=\"24px\"viewBox=\"0 0 24 24\"\n",
              "       width=\"24px\">\n",
              "    <path d=\"M0 0h24v24H0V0z\" fill=\"none\"/>\n",
              "    <path d=\"M18.56 5.44l.94 2.06.94-2.06 2.06-.94-2.06-.94-.94-2.06-.94 2.06-2.06.94zm-11 1L8.5 8.5l.94-2.06 2.06-.94-2.06-.94L8.5 2.5l-.94 2.06-2.06.94zm10 10l.94 2.06.94-2.06 2.06-.94-2.06-.94-.94-2.06-.94 2.06-2.06.94z\"/><path d=\"M17.41 7.96l-1.37-1.37c-.4-.4-.92-.59-1.43-.59-.52 0-1.04.2-1.43.59L10.3 9.45l-7.72 7.72c-.78.78-.78 2.05 0 2.83L4 21.41c.39.39.9.59 1.41.59.51 0 1.02-.2 1.41-.59l7.78-7.78 2.81-2.81c.8-.78.8-2.07 0-2.86zM5.41 20L4 18.59l7.72-7.72 1.47 1.35L5.41 20z\"/>\n",
              "  </svg>\n",
              "      </button>\n",
              "      \n",
              "  <style>\n",
              "    .colab-df-container {\n",
              "      display:flex;\n",
              "      flex-wrap:wrap;\n",
              "      gap: 12px;\n",
              "    }\n",
              "\n",
              "    .colab-df-convert {\n",
              "      background-color: #E8F0FE;\n",
              "      border: none;\n",
              "      border-radius: 50%;\n",
              "      cursor: pointer;\n",
              "      display: none;\n",
              "      fill: #1967D2;\n",
              "      height: 32px;\n",
              "      padding: 0 0 0 0;\n",
              "      width: 32px;\n",
              "    }\n",
              "\n",
              "    .colab-df-convert:hover {\n",
              "      background-color: #E2EBFA;\n",
              "      box-shadow: 0px 1px 2px rgba(60, 64, 67, 0.3), 0px 1px 3px 1px rgba(60, 64, 67, 0.15);\n",
              "      fill: #174EA6;\n",
              "    }\n",
              "\n",
              "    [theme=dark] .colab-df-convert {\n",
              "      background-color: #3B4455;\n",
              "      fill: #D2E3FC;\n",
              "    }\n",
              "\n",
              "    [theme=dark] .colab-df-convert:hover {\n",
              "      background-color: #434B5C;\n",
              "      box-shadow: 0px 1px 3px 1px rgba(0, 0, 0, 0.15);\n",
              "      filter: drop-shadow(0px 1px 2px rgba(0, 0, 0, 0.3));\n",
              "      fill: #FFFFFF;\n",
              "    }\n",
              "  </style>\n",
              "\n",
              "      <script>\n",
              "        const buttonEl =\n",
              "          document.querySelector('#df-4325abe5-6574-4f93-bef2-f28510ddeef0 button.colab-df-convert');\n",
              "        buttonEl.style.display =\n",
              "          google.colab.kernel.accessAllowed ? 'block' : 'none';\n",
              "\n",
              "        async function convertToInteractive(key) {\n",
              "          const element = document.querySelector('#df-4325abe5-6574-4f93-bef2-f28510ddeef0');\n",
              "          const dataTable =\n",
              "            await google.colab.kernel.invokeFunction('convertToInteractive',\n",
              "                                                     [key], {});\n",
              "          if (!dataTable) return;\n",
              "\n",
              "          const docLinkHtml = 'Like what you see? Visit the ' +\n",
              "            '<a target=\"_blank\" href=https://colab.research.google.com/notebooks/data_table.ipynb>data table notebook</a>'\n",
              "            + ' to learn more about interactive tables.';\n",
              "          element.innerHTML = '';\n",
              "          dataTable['output_type'] = 'display_data';\n",
              "          await google.colab.output.renderOutput(dataTable, element);\n",
              "          const docLink = document.createElement('div');\n",
              "          docLink.innerHTML = docLinkHtml;\n",
              "          element.appendChild(docLink);\n",
              "        }\n",
              "      </script>\n",
              "    </div>\n",
              "  </div>\n",
              "  "
            ]
          },
          "metadata": {},
          "execution_count": 8
        }
      ],
      "source": [
        "#vienna_2\n",
        "vienna = PrepareTestDataset('vienna_2', open_vaccine_test_data_path)\n",
        "vienna_df = vienna.make_dataset()\n",
        "vienna_df.head()"
      ]
    },
    {
      "cell_type": "code",
      "execution_count": null,
      "metadata": {
        "id": "NtmiSeYL1E2_"
      },
      "outputs": [],
      "source": [
        "#contrafold_2\n",
        "contrafold = PrepareTestDataset('contrafold_2', open_vaccine_test_data_path)\n",
        "contrafold_df = contrafold.make_dataset()\n",
        "contrafold_df.head()"
      ]
    },
    {
      "cell_type": "code",
      "execution_count": null,
      "metadata": {
        "id": "7fuwc5lE3N4u"
      },
      "outputs": [],
      "source": [
        "#rnastructure\n",
        "rnastructure = PrepareTestDataset('rnastructure', open_vaccine_test_data_path)\n",
        "rnastructure_df = rnastructure.make_dataset()\n",
        "rnastructure_df.head()"
      ]
    },
    {
      "cell_type": "markdown",
      "metadata": {
        "id": "9sEgYGMr0lP-"
      },
      "source": [
        "# Importing Libraries for Model Pipeline"
      ]
    },
    {
      "cell_type": "code",
      "execution_count": 45,
      "metadata": {
        "id": "WDbpDXo24TwL"
      },
      "outputs": [],
      "source": [
        "\"\"\"\n",
        "Importing the necessary libraries\n",
        "\"\"\"\n",
        "import seaborn as sns\n",
        "import matplotlib.pyplot as plt\n",
        "import torch\n",
        "import torch.nn as nn\n",
        "import torch.optim\n",
        "from tqdm.auto import tqdm\n",
        "from torch.utils.data import DataLoader, TensorDataset\n",
        "from torch.nn.modules.loss import MSELoss\n",
        "torch.backends.cudnn.deterministic = True\n",
        "\n",
        "import random\n",
        "\n",
        "# To ensure the random function generates the same random values on different runs\n",
        "random.seed(hash(\"setting random seeds\") % 2023)\n",
        "np.random.seed(hash(\"improves reproducibility\") % 2023)\n",
        "torch.manual_seed(hash(\"by removing stochasticity\") % 2023)\n",
        "torch.cuda.manual_seed_all(hash(\"so runs are repeatable\") % 2023)\n",
        "\n",
        "device = torch.device(\"cuda:0\" if torch.cuda.is_available() else \"cpu\")\n",
        "device\n",
        "token_int_dict = {\n",
        "        '(' : 0,\n",
        "        ')' : 1,\n",
        "        '.' : 2,\n",
        "        'A' : 3,\n",
        "        'G' : 4,\n",
        "        'C' : 5,\n",
        "        'U' : 6,\n",
        "    }\n",
        "WB_API_KEY = \"38a7ef7ce5199afb39bb750165178c3197b4a56f\"\n",
        "config = {\n",
        "    \n",
        "}"
      ]
    },
    {
      "cell_type": "code",
      "execution_count": 15,
      "metadata": {
        "id": "hx8zzJeH7in7",
        "colab": {
          "base_uri": "https://localhost:8080/"
        },
        "outputId": "4e7e2ac9-6008-4a15-cf76-018f9401fa30"
      },
      "outputs": [
        {
          "output_type": "stream",
          "name": "stderr",
          "text": [
            "\u001b[34m\u001b[1mwandb\u001b[0m: \u001b[33mWARNING\u001b[0m If you're specifying your api key in code, ensure this code is not shared publicly.\n",
            "\u001b[34m\u001b[1mwandb\u001b[0m: \u001b[33mWARNING\u001b[0m Consider setting the WANDB_API_KEY environment variable, or running `wandb login` from the command line.\n",
            "\u001b[34m\u001b[1mwandb\u001b[0m: Appending key for api.wandb.ai to your netrc file: /root/.netrc\n"
          ]
        },
        {
          "output_type": "execute_result",
          "data": {
            "text/plain": [
              "True"
            ]
          },
          "metadata": {},
          "execution_count": 15
        }
      ],
      "source": [
        "\"\"\"\n",
        "Insatalling Weights and Biases wandb to track the Model evaluation\n",
        "and login to wandb\n",
        "\"\"\"\n",
        "!pip install wandb -Uq\n",
        "\n",
        "import wandb\n",
        "wandb.login(key = WB_API_KEY) "
      ]
    },
    {
      "cell_type": "markdown",
      "metadata": {
        "id": "MO9fT91j_q-N"
      },
      "source": [
        "# EDA Train Data"
      ]
    },
    {
      "cell_type": "code",
      "execution_count": 16,
      "metadata": {
        "id": "Xh3E2nMX0rlo",
        "colab": {
          "base_uri": "https://localhost:8080/",
          "height": 346
        },
        "outputId": "349fe8c4-4539-48c9-928b-d37d47a1a062"
      },
      "outputs": [
        {
          "output_type": "execute_result",
          "data": {
            "text/plain": [
              "             id                                           sequence  \\\n",
              "0  id_001f94081  GGAAAAGCUCUAAUAACAGGAGACUAGGACUACGUAUUUCUAGGUA...   \n",
              "1  id_0049f53ba  GGAAAAAGCGCGCGCGGUUAGCGCGCGCUUUUGCGCGCGCUGUACC...   \n",
              "2  id_006f36f57  GGAAAGUGCUCAGAUAAGCUAAGCUCGAAUAGCAAUCGAAUAGAAU...   \n",
              "\n",
              "                                           structure  \\\n",
              "0  .....((((((.......)))).)).((.....((..((((((......   \n",
              "1  .....(((((((((((((((((((((((....)))))))))).)))...   \n",
              "2  .....((((.((.....((((.(((.....)))..((((......)...   \n",
              "\n",
              "                                 predicted_loop_type  signal_to_noise  \\\n",
              "0  EEEEESSSSSSHHHHHHHSSSSBSSXSSIIIIISSIISSSSSSHHH...            6.894   \n",
              "1  EEEEESSSSSSSSSSSSSSSSSSSSSSSHHHHSSSSSSSSSSBSSS...            0.193   \n",
              "2  EEEEESSSSISSIIIIISSSSMSSSHHHHHSSSMMSSSSHHHHHHS...            8.800   \n",
              "\n",
              "   SN_filter  seq_length  seq_scored  \\\n",
              "0          1         107          68   \n",
              "1          0         107          68   \n",
              "2          1         107          68   \n",
              "\n",
              "                                    reactivity_error  \\\n",
              "0  [0.1359, 0.20700000000000002, 0.1633, 0.1452, ...   \n",
              "1  [2.8272, 2.8272, 2.8272, 4.7343, 2.5676, 2.567...   \n",
              "2  [0.0931, 0.13290000000000002, 0.11280000000000...   \n",
              "\n",
              "                                   deg_error_Mg_pH10  \\\n",
              "0  [0.26130000000000003, 0.38420000000000004, 0.1...   \n",
              "1  [73705.3985, 73705.3985, 73705.3985, 73705.398...   \n",
              "2  [0.1365, 0.2237, 0.1812, 0.1333, 0.1148, 0.160...   \n",
              "\n",
              "                                      deg_error_pH10  \\\n",
              "0  [0.2631, 0.28600000000000003, 0.0964, 0.1574, ...   \n",
              "1  [10.1986, 9.2418, 5.0933, 5.0933, 5.0933, 5.09...   \n",
              "2  [0.17020000000000002, 0.178, 0.111, 0.091, 0.0...   \n",
              "\n",
              "                                    deg_error_Mg_50C  \\\n",
              "0  [0.1501, 0.275, 0.0947, 0.18660000000000002, 0...   \n",
              "1  [16.6174, 13.868, 8.1968, 8.1968, 8.1968, 8.19...   \n",
              "2  [0.1033, 0.1464, 0.1126, 0.09620000000000001, ...   \n",
              "\n",
              "                                       deg_error_50C  \\\n",
              "0  [0.2167, 0.34750000000000003, 0.188, 0.2124, 0...   \n",
              "1  [15.4857, 7.9596, 13.3957, 5.8777, 5.8777, 5.8...   \n",
              "2  [0.14980000000000002, 0.1761, 0.1517, 0.116700...   \n",
              "\n",
              "                                          reactivity  \\\n",
              "0  [0.3297, 1.5693000000000001, 1.1227, 0.8686, 0...   \n",
              "1  [0.0, 0.0, 0.0, 2.2965, 0.0, 0.0, 0.0, 0.0, 0....   \n",
              "2  [0.44820000000000004, 1.4822, 1.1819, 0.743400...   \n",
              "\n",
              "                                         deg_Mg_pH10  \\\n",
              "0  [0.7556, 2.983, 0.2526, 1.3789, 0.637600000000...   \n",
              "1  [0.0, 0.0, 0.0, 0.0, 0.0, 0.0, 0.0, 0.0, 0.0, ...   \n",
              "2  [0.2504, 1.4021, 0.9804, 0.49670000000000003, ...   \n",
              "\n",
              "                                            deg_pH10  \\\n",
              "0  [2.3375, 3.5060000000000002, 0.3008, 1.0108, 0...   \n",
              "1  [4.947, 4.4523, 0.0, 0.0, 0.0, 0.0, 0.0, 0.0, ...   \n",
              "2  [2.243, 2.9361, 1.0553, 0.721, 0.6396000000000...   \n",
              "\n",
              "                                          deg_Mg_50C  \\\n",
              "0  [0.35810000000000003, 2.9683, 0.2589, 1.4552, ...   \n",
              "1  [4.8511, 4.0426, 0.0, 0.0, 0.0, 0.0, 0.0, 0.0,...   \n",
              "2  [0.5163, 1.6823000000000001, 1.0426, 0.7902, 0...   \n",
              "\n",
              "                                             deg_50C  \n",
              "0  [0.6382, 3.4773, 0.9988, 1.3228, 0.78770000000...  \n",
              "1  [7.6692, 0.0, 10.9561, 0.0, 0.0, 0.0, 0.0, 0.0...  \n",
              "2  [0.9501000000000001, 1.7974999999999999, 1.499...  "
            ],
            "text/html": [
              "\n",
              "  <div id=\"df-aa342102-a66f-4c3e-8883-bd12fc7decc2\">\n",
              "    <div class=\"colab-df-container\">\n",
              "      <div>\n",
              "<style scoped>\n",
              "    .dataframe tbody tr th:only-of-type {\n",
              "        vertical-align: middle;\n",
              "    }\n",
              "\n",
              "    .dataframe tbody tr th {\n",
              "        vertical-align: top;\n",
              "    }\n",
              "\n",
              "    .dataframe thead th {\n",
              "        text-align: right;\n",
              "    }\n",
              "</style>\n",
              "<table border=\"1\" class=\"dataframe\">\n",
              "  <thead>\n",
              "    <tr style=\"text-align: right;\">\n",
              "      <th></th>\n",
              "      <th>id</th>\n",
              "      <th>sequence</th>\n",
              "      <th>structure</th>\n",
              "      <th>predicted_loop_type</th>\n",
              "      <th>signal_to_noise</th>\n",
              "      <th>SN_filter</th>\n",
              "      <th>seq_length</th>\n",
              "      <th>seq_scored</th>\n",
              "      <th>reactivity_error</th>\n",
              "      <th>deg_error_Mg_pH10</th>\n",
              "      <th>deg_error_pH10</th>\n",
              "      <th>deg_error_Mg_50C</th>\n",
              "      <th>deg_error_50C</th>\n",
              "      <th>reactivity</th>\n",
              "      <th>deg_Mg_pH10</th>\n",
              "      <th>deg_pH10</th>\n",
              "      <th>deg_Mg_50C</th>\n",
              "      <th>deg_50C</th>\n",
              "    </tr>\n",
              "  </thead>\n",
              "  <tbody>\n",
              "    <tr>\n",
              "      <th>0</th>\n",
              "      <td>id_001f94081</td>\n",
              "      <td>GGAAAAGCUCUAAUAACAGGAGACUAGGACUACGUAUUUCUAGGUA...</td>\n",
              "      <td>.....((((((.......)))).)).((.....((..((((((......</td>\n",
              "      <td>EEEEESSSSSSHHHHHHHSSSSBSSXSSIIIIISSIISSSSSSHHH...</td>\n",
              "      <td>6.894</td>\n",
              "      <td>1</td>\n",
              "      <td>107</td>\n",
              "      <td>68</td>\n",
              "      <td>[0.1359, 0.20700000000000002, 0.1633, 0.1452, ...</td>\n",
              "      <td>[0.26130000000000003, 0.38420000000000004, 0.1...</td>\n",
              "      <td>[0.2631, 0.28600000000000003, 0.0964, 0.1574, ...</td>\n",
              "      <td>[0.1501, 0.275, 0.0947, 0.18660000000000002, 0...</td>\n",
              "      <td>[0.2167, 0.34750000000000003, 0.188, 0.2124, 0...</td>\n",
              "      <td>[0.3297, 1.5693000000000001, 1.1227, 0.8686, 0...</td>\n",
              "      <td>[0.7556, 2.983, 0.2526, 1.3789, 0.637600000000...</td>\n",
              "      <td>[2.3375, 3.5060000000000002, 0.3008, 1.0108, 0...</td>\n",
              "      <td>[0.35810000000000003, 2.9683, 0.2589, 1.4552, ...</td>\n",
              "      <td>[0.6382, 3.4773, 0.9988, 1.3228, 0.78770000000...</td>\n",
              "    </tr>\n",
              "    <tr>\n",
              "      <th>1</th>\n",
              "      <td>id_0049f53ba</td>\n",
              "      <td>GGAAAAAGCGCGCGCGGUUAGCGCGCGCUUUUGCGCGCGCUGUACC...</td>\n",
              "      <td>.....(((((((((((((((((((((((....)))))))))).)))...</td>\n",
              "      <td>EEEEESSSSSSSSSSSSSSSSSSSSSSSHHHHSSSSSSSSSSBSSS...</td>\n",
              "      <td>0.193</td>\n",
              "      <td>0</td>\n",
              "      <td>107</td>\n",
              "      <td>68</td>\n",
              "      <td>[2.8272, 2.8272, 2.8272, 4.7343, 2.5676, 2.567...</td>\n",
              "      <td>[73705.3985, 73705.3985, 73705.3985, 73705.398...</td>\n",
              "      <td>[10.1986, 9.2418, 5.0933, 5.0933, 5.0933, 5.09...</td>\n",
              "      <td>[16.6174, 13.868, 8.1968, 8.1968, 8.1968, 8.19...</td>\n",
              "      <td>[15.4857, 7.9596, 13.3957, 5.8777, 5.8777, 5.8...</td>\n",
              "      <td>[0.0, 0.0, 0.0, 2.2965, 0.0, 0.0, 0.0, 0.0, 0....</td>\n",
              "      <td>[0.0, 0.0, 0.0, 0.0, 0.0, 0.0, 0.0, 0.0, 0.0, ...</td>\n",
              "      <td>[4.947, 4.4523, 0.0, 0.0, 0.0, 0.0, 0.0, 0.0, ...</td>\n",
              "      <td>[4.8511, 4.0426, 0.0, 0.0, 0.0, 0.0, 0.0, 0.0,...</td>\n",
              "      <td>[7.6692, 0.0, 10.9561, 0.0, 0.0, 0.0, 0.0, 0.0...</td>\n",
              "    </tr>\n",
              "    <tr>\n",
              "      <th>2</th>\n",
              "      <td>id_006f36f57</td>\n",
              "      <td>GGAAAGUGCUCAGAUAAGCUAAGCUCGAAUAGCAAUCGAAUAGAAU...</td>\n",
              "      <td>.....((((.((.....((((.(((.....)))..((((......)...</td>\n",
              "      <td>EEEEESSSSISSIIIIISSSSMSSSHHHHHSSSMMSSSSHHHHHHS...</td>\n",
              "      <td>8.800</td>\n",
              "      <td>1</td>\n",
              "      <td>107</td>\n",
              "      <td>68</td>\n",
              "      <td>[0.0931, 0.13290000000000002, 0.11280000000000...</td>\n",
              "      <td>[0.1365, 0.2237, 0.1812, 0.1333, 0.1148, 0.160...</td>\n",
              "      <td>[0.17020000000000002, 0.178, 0.111, 0.091, 0.0...</td>\n",
              "      <td>[0.1033, 0.1464, 0.1126, 0.09620000000000001, ...</td>\n",
              "      <td>[0.14980000000000002, 0.1761, 0.1517, 0.116700...</td>\n",
              "      <td>[0.44820000000000004, 1.4822, 1.1819, 0.743400...</td>\n",
              "      <td>[0.2504, 1.4021, 0.9804, 0.49670000000000003, ...</td>\n",
              "      <td>[2.243, 2.9361, 1.0553, 0.721, 0.6396000000000...</td>\n",
              "      <td>[0.5163, 1.6823000000000001, 1.0426, 0.7902, 0...</td>\n",
              "      <td>[0.9501000000000001, 1.7974999999999999, 1.499...</td>\n",
              "    </tr>\n",
              "  </tbody>\n",
              "</table>\n",
              "</div>\n",
              "      <button class=\"colab-df-convert\" onclick=\"convertToInteractive('df-aa342102-a66f-4c3e-8883-bd12fc7decc2')\"\n",
              "              title=\"Convert this dataframe to an interactive table.\"\n",
              "              style=\"display:none;\">\n",
              "        \n",
              "  <svg xmlns=\"http://www.w3.org/2000/svg\" height=\"24px\"viewBox=\"0 0 24 24\"\n",
              "       width=\"24px\">\n",
              "    <path d=\"M0 0h24v24H0V0z\" fill=\"none\"/>\n",
              "    <path d=\"M18.56 5.44l.94 2.06.94-2.06 2.06-.94-2.06-.94-.94-2.06-.94 2.06-2.06.94zm-11 1L8.5 8.5l.94-2.06 2.06-.94-2.06-.94L8.5 2.5l-.94 2.06-2.06.94zm10 10l.94 2.06.94-2.06 2.06-.94-2.06-.94-.94-2.06-.94 2.06-2.06.94z\"/><path d=\"M17.41 7.96l-1.37-1.37c-.4-.4-.92-.59-1.43-.59-.52 0-1.04.2-1.43.59L10.3 9.45l-7.72 7.72c-.78.78-.78 2.05 0 2.83L4 21.41c.39.39.9.59 1.41.59.51 0 1.02-.2 1.41-.59l7.78-7.78 2.81-2.81c.8-.78.8-2.07 0-2.86zM5.41 20L4 18.59l7.72-7.72 1.47 1.35L5.41 20z\"/>\n",
              "  </svg>\n",
              "      </button>\n",
              "      \n",
              "  <style>\n",
              "    .colab-df-container {\n",
              "      display:flex;\n",
              "      flex-wrap:wrap;\n",
              "      gap: 12px;\n",
              "    }\n",
              "\n",
              "    .colab-df-convert {\n",
              "      background-color: #E8F0FE;\n",
              "      border: none;\n",
              "      border-radius: 50%;\n",
              "      cursor: pointer;\n",
              "      display: none;\n",
              "      fill: #1967D2;\n",
              "      height: 32px;\n",
              "      padding: 0 0 0 0;\n",
              "      width: 32px;\n",
              "    }\n",
              "\n",
              "    .colab-df-convert:hover {\n",
              "      background-color: #E2EBFA;\n",
              "      box-shadow: 0px 1px 2px rgba(60, 64, 67, 0.3), 0px 1px 3px 1px rgba(60, 64, 67, 0.15);\n",
              "      fill: #174EA6;\n",
              "    }\n",
              "\n",
              "    [theme=dark] .colab-df-convert {\n",
              "      background-color: #3B4455;\n",
              "      fill: #D2E3FC;\n",
              "    }\n",
              "\n",
              "    [theme=dark] .colab-df-convert:hover {\n",
              "      background-color: #434B5C;\n",
              "      box-shadow: 0px 1px 3px 1px rgba(0, 0, 0, 0.15);\n",
              "      filter: drop-shadow(0px 1px 2px rgba(0, 0, 0, 0.3));\n",
              "      fill: #FFFFFF;\n",
              "    }\n",
              "  </style>\n",
              "\n",
              "      <script>\n",
              "        const buttonEl =\n",
              "          document.querySelector('#df-aa342102-a66f-4c3e-8883-bd12fc7decc2 button.colab-df-convert');\n",
              "        buttonEl.style.display =\n",
              "          google.colab.kernel.accessAllowed ? 'block' : 'none';\n",
              "\n",
              "        async function convertToInteractive(key) {\n",
              "          const element = document.querySelector('#df-aa342102-a66f-4c3e-8883-bd12fc7decc2');\n",
              "          const dataTable =\n",
              "            await google.colab.kernel.invokeFunction('convertToInteractive',\n",
              "                                                     [key], {});\n",
              "          if (!dataTable) return;\n",
              "\n",
              "          const docLinkHtml = 'Like what you see? Visit the ' +\n",
              "            '<a target=\"_blank\" href=https://colab.research.google.com/notebooks/data_table.ipynb>data table notebook</a>'\n",
              "            + ' to learn more about interactive tables.';\n",
              "          element.innerHTML = '';\n",
              "          dataTable['output_type'] = 'display_data';\n",
              "          await google.colab.output.renderOutput(dataTable, element);\n",
              "          const docLink = document.createElement('div');\n",
              "          docLink.innerHTML = docLinkHtml;\n",
              "          element.appendChild(docLink);\n",
              "        }\n",
              "      </script>\n",
              "    </div>\n",
              "  </div>\n",
              "  "
            ]
          },
          "metadata": {},
          "execution_count": 16
        }
      ],
      "source": [
        "\"\"\"\n",
        "LOADING THE TRAIN DATA\n",
        "\"\"\"\n",
        "open_vaccine_train_data_path = '/content/drive/MyDrive/Bio_informatics_Project/open_vac_data/train.json'\n",
        "train_df = pd.read_json(open_vaccine_train_data_path, lines=True)\n",
        "train_df = train_df.drop(columns=['index'])\n",
        "train_df.head(3)"
      ]
    },
    {
      "cell_type": "code",
      "execution_count": 17,
      "metadata": {
        "id": "bydeLsUs3sXG"
      },
      "outputs": [],
      "source": [
        "class DataPreprocessing:\n",
        "  def __init__(self, data, device, token_int_dict, feature_columns = [\"sequence\", \"structure\"], \n",
        "               train_data = True, labels = None):\n",
        "    self.df = data\n",
        "    self.feature_columns = feature_columns\n",
        "    self.labels = labels\n",
        "    self.token_int_dict = token_int_dict\n",
        "    self.device = device\n",
        "    self.is_train = train_data\n",
        "\n",
        "  def num_missing_val(self):\n",
        "    return self.df.isnull().values.sum()\n",
        "\n",
        "  def sn_filtering(self):\n",
        "    self.df = self.df[self.df.SN_filter == 1]\n",
        "\n",
        "  def tokenize_sequence(self,sequence):\n",
        "    tokenized_sequence = []\n",
        "    for char in sequence:\n",
        "      tokenized_sequence.append(self.token_int_dict[char])\n",
        "    return tokenized_sequence\n",
        "\n",
        "  def convert_df_to_array(self, df):\n",
        "    return np.transpose(np.array(df.values.tolist()), (0,2,1))\n",
        "\n",
        "  def process_data(self):\n",
        "    #check if any missing values\n",
        "    if self.num_missing_val() > 0 and self.is_train:\n",
        "      self.sn_filtering()\n",
        "      print(f\"Number of missing values in the dataset are:{self.num_missing_val()}\")\n",
        "    elif self.is_train:\n",
        "      self.sn_filtering()\n",
        "      print(\"No Missing Values\")\n",
        "    \n",
        "    feature_df = self.df[self.feature_columns].applymap(lambda sequence: self.tokenize_sequence(sequence))\n",
        "    feature_tensor =  torch.tensor(self.convert_df_to_array(feature_df)).to(self.device)\n",
        "\n",
        "    if self.is_train:\n",
        "      label_tensor = torch.tensor(self.convert_df_to_array(self.df[self.labels])).float().to(device)\n",
        "      return feature_tensor, label_tensor\n",
        "  \n",
        "    return feature_tensor"
      ]
    },
    {
      "cell_type": "code",
      "execution_count": 18,
      "metadata": {
        "id": "02q7JwFk7aX7",
        "colab": {
          "base_uri": "https://localhost:8080/"
        },
        "outputId": "7eb4e64b-daff-4019-d063-24d02dfcfb8c"
      },
      "outputs": [
        {
          "output_type": "stream",
          "name": "stdout",
          "text": [
            "No Missing Values\n",
            "torch.Size([1589, 107, 2])\n",
            "torch.Size([1589, 68, 5])\n"
          ]
        }
      ],
      "source": [
        "labels = ['reactivity', 'deg_Mg_pH10', 'deg_pH10', 'deg_Mg_50C', 'deg_50C']\n",
        "train_process = DataPreprocessing(train_df, device, token_int_dict,  labels = labels)\n",
        "x_train, y_train = train_process.process_data()\n",
        "print(x_train.shape)\n",
        "print(y_train.shape)"
      ]
    },
    {
      "cell_type": "code",
      "execution_count": 20,
      "metadata": {
        "id": "cSDXTZTwEr-X",
        "colab": {
          "base_uri": "https://localhost:8080/"
        },
        "outputId": "53061964-ec1c-4545-cd28-81954d0cb3a8"
      },
      "outputs": [
        {
          "output_type": "stream",
          "name": "stdout",
          "text": [
            "torch.Size([300, 107, 2])\n",
            "torch.Size([300, 130, 2])\n"
          ]
        }
      ],
      "source": [
        "vienna_df_public = vienna_df.query(\"seq_length == 107\").copy()\n",
        "vienna_df_private = vienna_df.query(\"seq_length == 130\").copy()\n",
        "test_process_public = DataPreprocessing(vienna_df_public, device, token_int_dict, train_data = False)\n",
        "vienna_public_tensor = test_process_public.process_data()\n",
        "test_process_private = DataPreprocessing(vienna_df_private, device, token_int_dict, train_data = False)\n",
        "vienna_private_tensor = test_process_private.process_data()\n",
        "print(vienna_public_tensor.shape)\n",
        "print(vienna_private_tensor.shape)"
      ]
    },
    {
      "cell_type": "markdown",
      "source": [
        "# MCRMSE LOSS\n",
        "![Screenshot 2023-03-25 at 8.20.40 PM.png](data:image/png;base64,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)"
      ],
      "metadata": {
        "id": "PlQXxS54tjv2"
      }
    },
    {
      "cell_type": "code",
      "source": [
        "class MeanColumnwiseRMSE(nn.Module):\n",
        "  def __init__(self, N_t):\n",
        "    self.loss = nn.MSELoss()\n",
        "    self.nt = N_t\n",
        "  \n",
        "  def forward(self, predicted , actual):\n",
        "    total_loss = 0\n",
        "\n",
        "    for j in range(self.nt):\n",
        "        total_loss += torch.sqrt(self.loss(predicted[:, :, j], actual[:, :, j]))\n",
        "\n",
        "    total_loss /= self.nt"
      ],
      "metadata": {
        "id": "4-7D8QsJ3v6R"
      },
      "execution_count": 47,
      "outputs": []
    },
    {
      "cell_type": "markdown",
      "source": [
        "# Configuration of bi-GRU model and Hyperparams"
      ],
      "metadata": {
        "id": "YTNiJYP933fQ"
      }
    },
    {
      "cell_type": "code",
      "source": [
        "model_config = dict(\n",
        "    embedding_dim = 200,\n",
        "    gru_input_size = 200 * 3,\n",
        "    gru_hidden_size = 128,\n",
        "    gru_num_layers = 3,\n",
        "    gru_dropout_rate = 0.5,\n",
        ")\n",
        "\n",
        "training_config = dict(\n",
        "    k_fold = 5,\n",
        "    epochs = 100,\n",
        "    batch_size = 64,\n",
        "    learning_rate = 0.1,\n",
        ")"
      ],
      "metadata": {
        "id": "cI9GGNWgbPGD"
      },
      "execution_count": 41,
      "outputs": []
    },
    {
      "cell_type": "markdown",
      "source": [
        "# bi-GRU Model"
      ],
      "metadata": {
        "id": "5e_leGE-xuQU"
      }
    },
    {
      "cell_type": "code",
      "source": [
        "class bi_GRU(nn.Module):\n",
        "  def __init__(self, config, public_data = False, private_data = False):\n",
        "    super(bi_GRU, self).__init__()\n",
        "    \n",
        "    if(public_data):\n",
        "      self.prediction_len = 68\n",
        "      self.squence_len = 107\n",
        "    elif private_data:\n",
        "      self.prediction_len = 91\n",
        "      self.squence_len = 130\n",
        "\n",
        "    self.token_int_len = len(token_int_dict)\n",
        "    self.embedding_layer = nn.Embedding(num_embeddings = self.token_int_len, embedding_dim = config.embedding_dim)\n",
        "    self.bi_gru = nn.GRU(\n",
        "        input_size = config.gru_input_size,\n",
        "        hidden_size = config.gru_hidden_size,\n",
        "        num_layers = config.gru_num_layers, # hidden_layers\n",
        "        batch_first = True,\n",
        "        dropout = config.gru_dropout_rate,\n",
        "        bidirectional = True)\n",
        "    self.l1 = nn.Linear(config.hidden_size * 2, len(labels))\n",
        "  \n",
        "  def reshape_embedding(self, embedding):\n",
        "      x , y , z = embedding.shape[1] , embedding.shape[2], embedding.shape[3]\n",
        "      return torch.reshape(embedding, (-1, x, y * z))\n",
        "      \n",
        "  def forward(self, sequence):\n",
        "    embedding = self.embedding_layer(sequence)\n",
        "    embed_reshape = self.reshape_embedding(embedding)\n",
        "    output,h_n = self.bi_gru(embed_reshape)\n",
        "    slice_output = output[:, : self.prediction_len, :]\n",
        "    final_output = self.l1(slice_output)\n",
        "    return final_output"
      ],
      "metadata": {
        "id": "FK8MtQ6OxwZq"
      },
      "execution_count": 44,
      "outputs": []
    },
    {
      "cell_type": "code",
      "source": [],
      "metadata": {
        "id": "DKROok-Nrac0"
      },
      "execution_count": null,
      "outputs": []
    }
  ],
  "metadata": {
    "colab": {
      "provenance": [],
      "toc_visible": true,
      "authorship_tag": "ABX9TyOcNvzVtLSh8ETTTFXPPNUz",
      "include_colab_link": true
    },
    "gpuClass": "standard",
    "kernelspec": {
      "display_name": "Python 3",
      "name": "python3"
    },
    "language_info": {
      "name": "python"
    }
  },
  "nbformat": 4,
  "nbformat_minor": 0
}